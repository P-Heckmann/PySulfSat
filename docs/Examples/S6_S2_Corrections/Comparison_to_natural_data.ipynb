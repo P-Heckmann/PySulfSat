{
 "cells": [
  {
   "cell_type": "markdown",
   "id": "944861b5-c8b2-4634-a4a2-e835838eb43b",
   "metadata": {},
   "source": [
    "# Lets compare S$^{6+}$ models to natural data from Kilauea\n",
    "- Here, we use Fe and S XANES data from Lerner et al. (2021) - https://doi.org/10.1016/j.chemgeo.2021.120610"
   ]
  },
  {
   "cell_type": "code",
   "execution_count": 1,
   "id": "ec4ace38-66ef-44fd-b3fb-3106dd5192e1",
   "metadata": {},
   "outputs": [],
   "source": [
    "import matplotlib.pyplot as plt\n",
    "import numpy as np\n",
    "import pandas as pd\n",
    "import PySulfSat as ss\n",
    "import Thermobar as pt\n",
    "pd.options.display.max_columns = None"
   ]
  },
  {
   "cell_type": "code",
   "execution_count": null,
   "id": "cc65d21f-70a9-477b-a011-081ad65f6f71",
   "metadata": {},
   "outputs": [],
   "source": []
  }
 ],
 "metadata": {
  "kernelspec": {
   "display_name": "Python 3 (ipykernel)",
   "language": "python",
   "name": "python3"
  },
  "language_info": {
   "codemirror_mode": {
    "name": "ipython",
    "version": 3
   },
   "file_extension": ".py",
   "mimetype": "text/x-python",
   "name": "python",
   "nbconvert_exporter": "python",
   "pygments_lexer": "ipython3",
   "version": "3.9.16"
  }
 },
 "nbformat": 4,
 "nbformat_minor": 5
}
