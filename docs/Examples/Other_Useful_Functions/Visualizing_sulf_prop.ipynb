{
 "cells": [
  {
   "cell_type": "code",
   "execution_count": null,
   "id": "9b232af2-da77-4516-be00-99372208fe84",
   "metadata": {},
   "outputs": [],
   "source": [
    "from matplotlib import patches\n",
    "x_len_mm=1\n",
    "y_len_mm=1\n",
    "rect = patches.Rectangle((0,0),x_len_mm,y_len_mm,linewidth=1,edgecolor='r',facecolor='red', label='test')\n",
    "fig, (ax1) = plt.subplots(1, 1, figsize=(5,5), sharey=True)\n",
    "# Add the patch to the Axes\n",
    "ax1.add_patch(rect)\n",
    "\n",
    "area_rect=x_len_mm*y_len_mm\n",
    "Vol_frac=0.1\n",
    "area_sulf=area_rect*Vol_frac\n",
    "sulf_rad=10*10**(-3)\n",
    "area_1sulf=np.pi*sulf_rad**2\n",
    "number_sulf=area_sulf/area_1sulf\n",
    "circ1=patches.Circle((0.5, 0.5), sulf_rad, edgecolor='k', facecolor='yellow')\n",
    "ax1.add_patch(circ1)\n",
    "for i in range(0, int(np.round(number_sulf))):\n",
    "    circ=patches.Circle((np.random.uniform(0.02, 0.98), np.random.uniform(0.02, 0.98)),\n",
    "                        sulf_rad, edgecolor='k', facecolor='yellow')\n",
    "    ax1.add_patch(circ)\n",
    "    \n",
    "ax1.set_title('Sulf fraction:' + str(Vol_frac))\n",
    "\n",
    "ax1.axes.yaxis.set_visible(False)\n",
    "ax1.axes.xaxis.set_visible(False)"
   ]
  }
 ],
 "metadata": {
  "kernelspec": {
   "display_name": "Python 3 (ipykernel)",
   "language": "python",
   "name": "python3"
  },
  "language_info": {
   "codemirror_mode": {
    "name": "ipython",
    "version": 3
   },
   "file_extension": ".py",
   "mimetype": "text/x-python",
   "name": "python",
   "nbconvert_exporter": "python",
   "pygments_lexer": "ipython3",
   "version": "3.9.13"
  }
 },
 "nbformat": 4,
 "nbformat_minor": 5
}
