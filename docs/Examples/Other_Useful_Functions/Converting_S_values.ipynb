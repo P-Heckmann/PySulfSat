{
 "cells": [
  {
   "cell_type": "markdown",
   "id": "fde7a051-e845-4b34-8465-e4fcc07eb22b",
   "metadata": {},
   "source": [
    "# Converting S isotope systematics, and S concentrations\n",
    "- This notebook shows simple functions for common conversion workflows, e.g., converting from d34 to 34/32S ratios, converting SO3 to S in ppm etc."
   ]
  },
  {
   "cell_type": "code",
   "execution_count": 1,
   "id": "1fc41642-9f48-4e49-9f40-17a33b92a761",
   "metadata": {},
   "outputs": [],
   "source": [
    "import numpy as np\n",
    "import pandas as pd\n",
    "import matplotlib.pyplot as plt\n",
    "import PySulfSat as ss"
   ]
  },
  {
   "cell_type": "markdown",
   "id": "ed74fb20-e911-4656-9003-d54e57879a24",
   "metadata": {},
   "source": [
    "## Converting between different forms of S isotope notation\n",
    "- S isotopes are sometimes quoted in terms of $\\delta^{32}$S, where the $\\frac{32S}{34S}$ ratio of the sample has been referenced to a community standard. \n",
    "- In the literature, the most commmonly used standard is the Canyon Diablo Troilite (CDT), with a ratio of 22.220. There is also the Vienna-CDT (VCDT), which was introduced in 1993, which was defined as having a value of -0.3 per mil "
   ]
  },
  {
   "cell_type": "code",
   "execution_count": 2,
   "id": "93675a63-6bc9-4108-b19b-3d08af3367d6",
   "metadata": {},
   "outputs": [
    {
     "data": {
      "text/html": [
       "<div>\n",
       "<style scoped>\n",
       "    .dataframe tbody tr th:only-of-type {\n",
       "        vertical-align: middle;\n",
       "    }\n",
       "\n",
       "    .dataframe tbody tr th {\n",
       "        vertical-align: top;\n",
       "    }\n",
       "\n",
       "    .dataframe thead th {\n",
       "        text-align: right;\n",
       "    }\n",
       "</style>\n",
       "<table border=\"1\" class=\"dataframe\">\n",
       "  <thead>\n",
       "    <tr style=\"text-align: right;\">\n",
       "      <th></th>\n",
       "      <th>δ34S</th>\n",
       "      <th>δ34S SEE</th>\n",
       "      <th>34S/32S ratio raw measured</th>\n",
       "      <th>34S/32S ratio (1SE) raw measured</th>\n",
       "      <th>34S/32S ratio IMF</th>\n",
       "      <th>SEE_scaled</th>\n",
       "      <th>S_ppm</th>\n",
       "    </tr>\n",
       "  </thead>\n",
       "  <tbody>\n",
       "    <tr>\n",
       "      <th>0</th>\n",
       "      <td>-0.246318</td>\n",
       "      <td>0.467748</td>\n",
       "      <td>0.044336</td>\n",
       "      <td>0.000016</td>\n",
       "      <td>0.044153</td>\n",
       "      <td>0.000021</td>\n",
       "      <td>1000</td>\n",
       "    </tr>\n",
       "    <tr>\n",
       "      <th>1</th>\n",
       "      <td>-2.816959</td>\n",
       "      <td>0.921352</td>\n",
       "      <td>0.044222</td>\n",
       "      <td>0.000039</td>\n",
       "      <td>0.044039</td>\n",
       "      <td>0.000041</td>\n",
       "      <td>1100</td>\n",
       "    </tr>\n",
       "    <tr>\n",
       "      <th>2</th>\n",
       "      <td>-2.546365</td>\n",
       "      <td>0.767581</td>\n",
       "      <td>0.044234</td>\n",
       "      <td>0.000031</td>\n",
       "      <td>0.044051</td>\n",
       "      <td>0.000034</td>\n",
       "      <td>900</td>\n",
       "    </tr>\n",
       "    <tr>\n",
       "      <th>3</th>\n",
       "      <td>-0.584560</td>\n",
       "      <td>0.723941</td>\n",
       "      <td>0.044321</td>\n",
       "      <td>0.000029</td>\n",
       "      <td>0.044138</td>\n",
       "      <td>0.000032</td>\n",
       "      <td>500</td>\n",
       "    </tr>\n",
       "    <tr>\n",
       "      <th>4</th>\n",
       "      <td>0.317419</td>\n",
       "      <td>0.450185</td>\n",
       "      <td>0.044361</td>\n",
       "      <td>0.000015</td>\n",
       "      <td>0.044178</td>\n",
       "      <td>0.000020</td>\n",
       "      <td>400</td>\n",
       "    </tr>\n",
       "  </tbody>\n",
       "</table>\n",
       "</div>"
      ],
      "text/plain": [
       "       δ34S  δ34S SEE  34S/32S ratio raw measured  \\\n",
       "0 -0.246318  0.467748                    0.044336   \n",
       "1 -2.816959  0.921352                    0.044222   \n",
       "2 -2.546365  0.767581                    0.044234   \n",
       "3 -0.584560  0.723941                    0.044321   \n",
       "4  0.317419  0.450185                    0.044361   \n",
       "\n",
       "   34S/32S ratio (1SE) raw measured  34S/32S ratio IMF  SEE_scaled  S_ppm  \n",
       "0                          0.000016           0.044153    0.000021   1000  \n",
       "1                          0.000039           0.044039    0.000041   1100  \n",
       "2                          0.000031           0.044051    0.000034    900  \n",
       "3                          0.000029           0.044138    0.000032    500  \n",
       "4                          0.000015           0.044178    0.000020    400  "
      ]
     },
     "execution_count": 2,
     "metadata": {},
     "output_type": "execute_result"
    }
   ],
   "source": [
    "df=pd.read_excel('Sulfur_Conversions.xlsx')\n",
    "df.head()"
   ]
  },
  {
   "cell_type": "markdown",
   "id": "e086a350-26b2-476e-a7dd-721b664ce101",
   "metadata": {},
   "source": [
    "### Lets first convert from delta34S to 32/34"
   ]
  },
  {
   "cell_type": "code",
   "execution_count": 10,
   "id": "03d88ede-7d5f-4f67-b86b-5f840350ea3b",
   "metadata": {},
   "outputs": [
    {
     "data": {
      "text/plain": [
       "0    0.044164\n",
       "1    0.044164\n",
       "2    0.044164\n",
       "3    0.044164\n",
       "4    0.044164\n",
       "5    0.044164\n",
       "6    0.044164\n",
       "7    0.044164\n",
       "dtype: float64"
      ]
     },
     "execution_count": 10,
     "metadata": {},
     "output_type": "execute_result"
    }
   ],
   "source": [
    "ref_used_test1=ss.calculate_std_ratio_used(d34S=df['δ34S'], \n",
    "                        S3432=df['34S/32S ratio IMF'])\n",
    "ref_used_test1"
   ]
  },
  {
   "cell_type": "code",
   "execution_count": 12,
   "id": "d1117735-f07b-437d-8d49-c7f97415e9d3",
   "metadata": {},
   "outputs": [
    {
     "data": {
      "text/plain": [
       "0    0.044347\n",
       "1    0.044347\n",
       "2    0.044347\n",
       "3    0.044347\n",
       "4    0.044347\n",
       "5    0.044347\n",
       "6    0.044347\n",
       "7    0.044347\n",
       "dtype: float64"
      ]
     },
     "execution_count": 12,
     "metadata": {},
     "output_type": "execute_result"
    }
   ],
   "source": [
    "ref_used_test2=ss.calculate_std_ratio_used(d34S=df['δ34S'], \n",
    "                        S3432=df['34S/32S ratio raw measured'])\n",
    "ref_used_test2\n"
   ]
  },
  {
   "cell_type": "code",
   "execution_count": 23,
   "id": "8c7dbf25-98a1-496c-92be-e6f4fca46140",
   "metadata": {},
   "outputs": [
    {
     "data": {
      "text/plain": [
       "0.04416258898761681"
      ]
     },
     "execution_count": 23,
     "metadata": {},
     "output_type": "execute_result"
    }
   ],
   "source": [
    "1/22.6436"
   ]
  },
  {
   "cell_type": "code",
   "execution_count": 27,
   "id": "ab6d6e70-e71f-4146-9a10-9f9f40a95d15",
   "metadata": {},
   "outputs": [
    {
     "data": {
      "text/plain": [
       "0   -0.161421\n",
       "1   -2.732279\n",
       "2   -2.461663\n",
       "3   -0.499692\n",
       "4    0.402364\n",
       "5   -0.432037\n",
       "6   -1.086028\n",
       "7   -0.026112\n",
       "Name: 34S/32S ratio IMF, dtype: float64"
      ]
     },
     "execution_count": 27,
     "metadata": {},
     "output_type": "execute_result"
    }
   ],
   "source": [
    "d342=ss.convert_3432S_to_d34(S3432=df['34S/32S ratio IMF'],\n",
    "                           st_ratio=0.04416)\n",
    "d342"
   ]
  },
  {
   "cell_type": "code",
   "execution_count": 28,
   "id": "71a66014-2f17-44e0-a412-b7f216326023",
   "metadata": {},
   "outputs": [
    {
     "data": {
      "text/plain": [
       "0   -0.251978\n",
       "1   -2.822604\n",
       "2   -2.552011\n",
       "3   -0.590218\n",
       "4    0.311756\n",
       "5   -0.522570\n",
       "6   -1.176501\n",
       "7   -0.116681\n",
       "Name: 34S/32S ratio IMF, dtype: float64"
      ]
     },
     "execution_count": 28,
     "metadata": {},
     "output_type": "execute_result"
    }
   ],
   "source": [
    "d34=ss.convert_3432S_to_d34(S3432=df['34S/32S ratio IMF'],\n",
    "                           st_ratio=0.044164)\n",
    "d34"
   ]
  },
  {
   "cell_type": "code",
   "execution_count": 25,
   "id": "4eeafb25-9420-43b7-a451-246f14330a92",
   "metadata": {},
   "outputs": [
    {
     "data": {
      "text/plain": [
       "[<matplotlib.lines.Line2D at 0x1f86d541550>]"
      ]
     },
     "execution_count": 25,
     "metadata": {},
     "output_type": "execute_result"
    },
    {
     "data": {
      "image/png": "[encoded data removed]",
      "text/plain": [
       "<Figure size 640x480 with 1 Axes>"
      ]
     },
     "metadata": {},
     "output_type": "display_data"
    }
   ],
   "source": [
    "plt.plot(d34, df['δ34S'], 'ok')\n",
    "plt.plot([-5, 0], [-5, 0], '-r')"
   ]
  },
  {
   "cell_type": "code",
   "execution_count": 8,
   "id": "6a9a7913-97d1-4b23-ad08-b02182a793a7",
   "metadata": {},
   "outputs": [
    {
     "data": {
      "text/plain": [
       "[<matplotlib.lines.Line2D at 0x1faee4455e0>]"
      ]
     },
     "execution_count": 8,
     "metadata": {},
     "output_type": "execute_result"
    },
    {
     "data": {
      "image/png": "[encoded data removed]",
      "text/plain": [
       "<Figure size 640x480 with 1 Axes>"
      ]
     },
     "metadata": {},
     "output_type": "display_data"
    }
   ],
   "source": []
  },
  {
   "cell_type": "code",
   "execution_count": null,
   "id": "31cc2f8f-416e-4f8e-8849-bf2e0e54793a",
   "metadata": {},
   "outputs": [],
   "source": []
  }
 ],
 "metadata": {
  "kernelspec": {
   "display_name": "Python 3 (ipykernel)",
   "language": "python",
   "name": "python3"
  },
  "language_info": {
   "codemirror_mode": {
    "name": "ipython",
    "version": 3
   },
   "file_extension": ".py",
   "mimetype": "text/x-python",
   "name": "python",
   "nbconvert_exporter": "python",
   "pygments_lexer": "ipython3",
   "version": "3.9.13"
  }
 },
 "nbformat": 4,
 "nbformat_minor": 5
}
