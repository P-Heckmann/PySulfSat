{
 "cells": [
  {
   "cell_type": "markdown",
   "id": "fde7a051-e845-4b34-8465-e4fcc07eb22b",
   "metadata": {},
   "source": [
    "# Converting S isotope systematics, and S concentrations\n",
    "- This notebook shows simple functions for common conversion workflows, e.g., converting from d34 to 34/32S ratios, converting SO3 to S in ppm etc."
   ]
  },
  {
   "cell_type": "code",
   "execution_count": 1,
   "id": "1fc41642-9f48-4e49-9f40-17a33b92a761",
   "metadata": {},
   "outputs": [],
   "source": [
    "import numpy as np\n",
    "import pandas as pd\n",
    "import matplotlib.pyplot as plt\n",
    "import PySulfSat as ss"
   ]
  },
  {
   "cell_type": "markdown",
   "id": "ed74fb20-e911-4656-9003-d54e57879a24",
   "metadata": {},
   "source": [
    "## Converting between different forms of S isotope notation\n",
    "- S isotopes are sometimes quoted in terms of $\\delta^{32}$S, where the $\\frac{32S}{34S}$ ratio of the sample has been referenced to a community standard. \n",
    "- In the literature, the most commmonly used standard is the Canyon Diablo Troilite (CDT). A lot of papers seem to use the ratio for the Vienna-CDT (VCDT) quoted in Ding et al. (2001, https://doi.org/10.1016/S0016-7037(01)00611-1), of 1/22.6436, which is what these functions use by default (although any ratio can be entered). "
   ]
  },
  {
   "cell_type": "code",
   "execution_count": 2,
   "id": "93675a63-6bc9-4108-b19b-3d08af3367d6",
   "metadata": {},
   "outputs": [
    {
     "data": {
      "text/html": [
       "<div>\n",
       "<style scoped>\n",
       "    .dataframe tbody tr th:only-of-type {\n",
       "        vertical-align: middle;\n",
       "    }\n",
       "\n",
       "    .dataframe tbody tr th {\n",
       "        vertical-align: top;\n",
       "    }\n",
       "\n",
       "    .dataframe thead th {\n",
       "        text-align: right;\n",
       "    }\n",
       "</style>\n",
       "<table border=\"1\" class=\"dataframe\">\n",
       "  <thead>\n",
       "    <tr style=\"text-align: right;\">\n",
       "      <th></th>\n",
       "      <th>δ34S</th>\n",
       "      <th>δ34S SEE</th>\n",
       "      <th>34S/32S ratio raw measured</th>\n",
       "      <th>34S/32S ratio (1SE) raw measured</th>\n",
       "      <th>34S/32S ratio IMF</th>\n",
       "      <th>SEE_scaled</th>\n",
       "      <th>S_ppm</th>\n",
       "    </tr>\n",
       "  </thead>\n",
       "  <tbody>\n",
       "    <tr>\n",
       "      <th>0</th>\n",
       "      <td>-0.246318</td>\n",
       "      <td>0.467748</td>\n",
       "      <td>0.044336</td>\n",
       "      <td>0.000016</td>\n",
       "      <td>0.044153</td>\n",
       "      <td>0.000021</td>\n",
       "      <td>1000</td>\n",
       "    </tr>\n",
       "    <tr>\n",
       "      <th>1</th>\n",
       "      <td>-2.816959</td>\n",
       "      <td>0.921352</td>\n",
       "      <td>0.044222</td>\n",
       "      <td>0.000039</td>\n",
       "      <td>0.044039</td>\n",
       "      <td>0.000041</td>\n",
       "      <td>1100</td>\n",
       "    </tr>\n",
       "    <tr>\n",
       "      <th>2</th>\n",
       "      <td>-2.546365</td>\n",
       "      <td>0.767581</td>\n",
       "      <td>0.044234</td>\n",
       "      <td>0.000031</td>\n",
       "      <td>0.044051</td>\n",
       "      <td>0.000034</td>\n",
       "      <td>900</td>\n",
       "    </tr>\n",
       "    <tr>\n",
       "      <th>3</th>\n",
       "      <td>-0.584560</td>\n",
       "      <td>0.723941</td>\n",
       "      <td>0.044321</td>\n",
       "      <td>0.000029</td>\n",
       "      <td>0.044138</td>\n",
       "      <td>0.000032</td>\n",
       "      <td>500</td>\n",
       "    </tr>\n",
       "    <tr>\n",
       "      <th>4</th>\n",
       "      <td>0.317419</td>\n",
       "      <td>0.450185</td>\n",
       "      <td>0.044361</td>\n",
       "      <td>0.000015</td>\n",
       "      <td>0.044178</td>\n",
       "      <td>0.000020</td>\n",
       "      <td>400</td>\n",
       "    </tr>\n",
       "  </tbody>\n",
       "</table>\n",
       "</div>"
      ],
      "text/plain": [
       "       δ34S  δ34S SEE  34S/32S ratio raw measured  \\\n",
       "0 -0.246318  0.467748                    0.044336   \n",
       "1 -2.816959  0.921352                    0.044222   \n",
       "2 -2.546365  0.767581                    0.044234   \n",
       "3 -0.584560  0.723941                    0.044321   \n",
       "4  0.317419  0.450185                    0.044361   \n",
       "\n",
       "   34S/32S ratio (1SE) raw measured  34S/32S ratio IMF  SEE_scaled  S_ppm  \n",
       "0                          0.000016           0.044153    0.000021   1000  \n",
       "1                          0.000039           0.044039    0.000041   1100  \n",
       "2                          0.000031           0.044051    0.000034    900  \n",
       "3                          0.000029           0.044138    0.000032    500  \n",
       "4                          0.000015           0.044178    0.000020    400  "
      ]
     },
     "execution_count": 2,
     "metadata": {},
     "output_type": "execute_result"
    }
   ],
   "source": [
    "# Lets load in some S data from Lerner et al. (2021)\n",
    "df=pd.read_excel('Sulfur_Conversions.xlsx')\n",
    "df.head()"
   ]
  },
  {
   "cell_type": "markdown",
   "id": "e086a350-26b2-476e-a7dd-721b664ce101",
   "metadata": {},
   "source": [
    "### Lets first convert from 34/32S to d34S using the default standard value"
   ]
  },
  {
   "cell_type": "code",
   "execution_count": 3,
   "id": "86a8cb66-858c-43bc-a79a-260b4dc02420",
   "metadata": {},
   "outputs": [
    {
     "data": {
      "text/plain": [
       "0   -0.220035\n",
       "1   -2.790743\n",
       "2   -2.520142\n",
       "3   -0.558286\n",
       "4    0.343717\n",
       "5   -0.490636\n",
       "6   -1.144588\n",
       "7   -0.084735\n",
       "Name: 34S/32S ratio IMF, dtype: float64"
      ]
     },
     "execution_count": 3,
     "metadata": {},
     "output_type": "execute_result"
    }
   ],
   "source": [
    "d34_std=ss.convert_3432S_to_d34(S3432=df['34S/32S ratio IMF'])\n",
    "d34_std"
   ]
  },
  {
   "cell_type": "code",
   "execution_count": 4,
   "id": "dfaf4bea-bc1f-4235-927b-61d34c26f9b6",
   "metadata": {},
   "outputs": [
    {
     "data": {
      "text/plain": [
       "0   -0.378986\n",
       "1   -2.949285\n",
       "2   -2.678727\n",
       "3   -0.717183\n",
       "4    0.184677\n",
       "5   -0.649543\n",
       "6   -1.303391\n",
       "7   -0.243707\n",
       "Name: 34S/32S ratio IMF, dtype: float64"
      ]
     },
     "execution_count": 4,
     "metadata": {},
     "output_type": "execute_result"
    }
   ],
   "source": [
    "d34_std=ss.convert_3432S_to_d34(S3432=df['34S/32S ratio IMF'], st_ratio=1/22.64)\n",
    "d34_std"
   ]
  },
  {
   "cell_type": "markdown",
   "id": "d41c6ac5-d62b-40de-b28c-c8712a3768e0",
   "metadata": {},
   "source": [
    "### Lets convert S concentrations around\n",
    "- You have to enter S concentration of the form you have, and it returns a dataframe of all the other possible forms. "
   ]
  },
  {
   "cell_type": "code",
   "execution_count": 7,
   "id": "3c655915-6b31-438a-8611-d470caf3a6ae",
   "metadata": {},
   "outputs": [
    {
     "data": {
      "text/html": [
       "<div>\n",
       "<style scoped>\n",
       "    .dataframe tbody tr th:only-of-type {\n",
       "        vertical-align: middle;\n",
       "    }\n",
       "\n",
       "    .dataframe tbody tr th {\n",
       "        vertical-align: top;\n",
       "    }\n",
       "\n",
       "    .dataframe thead th {\n",
       "        text-align: right;\n",
       "    }\n",
       "</style>\n",
       "<table border=\"1\" class=\"dataframe\">\n",
       "  <thead>\n",
       "    <tr style=\"text-align: right;\">\n",
       "      <th></th>\n",
       "      <th>S_wt</th>\n",
       "      <th>S_ppm</th>\n",
       "      <th>SO2_wt</th>\n",
       "      <th>SO2_ppm</th>\n",
       "      <th>SO3_wt</th>\n",
       "      <th>SO3_ppm</th>\n",
       "      <th>SO4_wt</th>\n",
       "      <th>SO4_ppm</th>\n",
       "    </tr>\n",
       "  </thead>\n",
       "  <tbody>\n",
       "    <tr>\n",
       "      <th>0</th>\n",
       "      <td>0.100</td>\n",
       "      <td>1000.0</td>\n",
       "      <td>0.199791</td>\n",
       "      <td>1997.910494</td>\n",
       "      <td>0.249687</td>\n",
       "      <td>2496.865741</td>\n",
       "      <td>0.299582</td>\n",
       "      <td>2995.820989</td>\n",
       "    </tr>\n",
       "    <tr>\n",
       "      <th>1</th>\n",
       "      <td>0.110</td>\n",
       "      <td>1100.0</td>\n",
       "      <td>0.219770</td>\n",
       "      <td>2197.701544</td>\n",
       "      <td>0.274655</td>\n",
       "      <td>2746.552316</td>\n",
       "      <td>0.329540</td>\n",
       "      <td>3295.403087</td>\n",
       "    </tr>\n",
       "    <tr>\n",
       "      <th>2</th>\n",
       "      <td>0.090</td>\n",
       "      <td>900.0</td>\n",
       "      <td>0.179812</td>\n",
       "      <td>1798.119445</td>\n",
       "      <td>0.224718</td>\n",
       "      <td>2247.179167</td>\n",
       "      <td>0.269624</td>\n",
       "      <td>2696.238890</td>\n",
       "    </tr>\n",
       "    <tr>\n",
       "      <th>3</th>\n",
       "      <td>0.050</td>\n",
       "      <td>500.0</td>\n",
       "      <td>0.099896</td>\n",
       "      <td>998.955247</td>\n",
       "      <td>0.124843</td>\n",
       "      <td>1248.432871</td>\n",
       "      <td>0.149791</td>\n",
       "      <td>1497.910494</td>\n",
       "    </tr>\n",
       "    <tr>\n",
       "      <th>4</th>\n",
       "      <td>0.040</td>\n",
       "      <td>400.0</td>\n",
       "      <td>0.079916</td>\n",
       "      <td>799.164198</td>\n",
       "      <td>0.099875</td>\n",
       "      <td>998.746297</td>\n",
       "      <td>0.119833</td>\n",
       "      <td>1198.328395</td>\n",
       "    </tr>\n",
       "    <tr>\n",
       "      <th>5</th>\n",
       "      <td>0.035</td>\n",
       "      <td>350.0</td>\n",
       "      <td>0.069927</td>\n",
       "      <td>699.268673</td>\n",
       "      <td>0.087390</td>\n",
       "      <td>873.903010</td>\n",
       "      <td>0.104854</td>\n",
       "      <td>1048.537346</td>\n",
       "    </tr>\n",
       "    <tr>\n",
       "      <th>6</th>\n",
       "      <td>0.020</td>\n",
       "      <td>200.0</td>\n",
       "      <td>0.039958</td>\n",
       "      <td>399.582099</td>\n",
       "      <td>0.049937</td>\n",
       "      <td>499.373148</td>\n",
       "      <td>0.059916</td>\n",
       "      <td>599.164198</td>\n",
       "    </tr>\n",
       "    <tr>\n",
       "      <th>7</th>\n",
       "      <td>0.100</td>\n",
       "      <td>1000.0</td>\n",
       "      <td>0.199791</td>\n",
       "      <td>1997.910494</td>\n",
       "      <td>0.249687</td>\n",
       "      <td>2496.865741</td>\n",
       "      <td>0.299582</td>\n",
       "      <td>2995.820989</td>\n",
       "    </tr>\n",
       "  </tbody>\n",
       "</table>\n",
       "</div>"
      ],
      "text/plain": [
       "    S_wt   S_ppm    SO2_wt      SO2_ppm    SO3_wt      SO3_ppm    SO4_wt  \\\n",
       "0  0.100  1000.0  0.199791  1997.910494  0.249687  2496.865741  0.299582   \n",
       "1  0.110  1100.0  0.219770  2197.701544  0.274655  2746.552316  0.329540   \n",
       "2  0.090   900.0  0.179812  1798.119445  0.224718  2247.179167  0.269624   \n",
       "3  0.050   500.0  0.099896   998.955247  0.124843  1248.432871  0.149791   \n",
       "4  0.040   400.0  0.079916   799.164198  0.099875   998.746297  0.119833   \n",
       "5  0.035   350.0  0.069927   699.268673  0.087390   873.903010  0.104854   \n",
       "6  0.020   200.0  0.039958   399.582099  0.049937   499.373148  0.059916   \n",
       "7  0.100  1000.0  0.199791  1997.910494  0.249687  2496.865741  0.299582   \n",
       "\n",
       "       SO4_ppm  \n",
       "0  2995.820989  \n",
       "1  3295.403087  \n",
       "2  2696.238890  \n",
       "3  1497.910494  \n",
       "4  1198.328395  \n",
       "5  1048.537346  \n",
       "6   599.164198  \n",
       "7  2995.820989  "
      ]
     },
     "execution_count": 7,
     "metadata": {},
     "output_type": "execute_result"
    }
   ],
   "source": [
    "df=ss.convert_S_types(S_ppm=df['S_ppm'])\n",
    "df"
   ]
  },
  {
   "cell_type": "code",
   "execution_count": null,
   "id": "af7cd9c3-f058-4cd4-92e2-034d1705ec0c",
   "metadata": {},
   "outputs": [],
   "source": []
  },
  {
   "cell_type": "code",
   "execution_count": null,
   "id": "97bf677e-9ef9-45eb-99a0-9acd24cc5ba8",
   "metadata": {},
   "outputs": [],
   "source": []
  }
 ],
 "metadata": {
  "kernelspec": {
   "display_name": "Python 3 (ipykernel)",
   "language": "python",
   "name": "python3"
  },
  "language_info": {
   "codemirror_mode": {
    "name": "ipython",
    "version": 3
   },
   "file_extension": ".py",
   "mimetype": "text/x-python",
   "name": "python",
   "nbconvert_exporter": "python",
   "pygments_lexer": "ipython3",
   "version": "3.9.13"
  }
 },
 "nbformat": 4,
 "nbformat_minor": 5
}
