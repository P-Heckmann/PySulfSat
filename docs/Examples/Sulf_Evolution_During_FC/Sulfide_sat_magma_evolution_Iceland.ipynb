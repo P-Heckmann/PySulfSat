{
 "cells": [
  {
   "cell_type": "markdown",
   "id": "0560a26d-376a-4079-a37a-40b406dcfc24",
   "metadata": {},
   "source": [
    "## Tracking sulfide saturation during magma evolution\n",
    "- This Jupyter Notebook shows how to use the various functionalities of PySCSS to track sulfide saturation during magma evolution\n",
    "- This work is published as Liu et al. (in prep). "
   ]
  },
  {
   "cell_type": "code",
   "execution_count": 1,
   "id": "86b57241-c7eb-4f48-9fff-a5ff18474f6c",
   "metadata": {},
   "outputs": [],
   "source": [
    "import matplotlib.pyplot as plt\n",
    "import numpy as np\n",
    "import pandas as pd\n",
    "import PySulfSat as ss\n",
    "import Thermobar as pt\n",
    "pd.options.display.max_columns = None"
   ]
  },
  {
   "cell_type": "code",
   "execution_count": 2,
   "id": "66723891-f1f4-4807-a16a-0bb0efb88ad1",
   "metadata": {},
   "outputs": [],
   "source": [
    "plt.rcParams[\"font.size\"] =12\n",
    "plt.rcParams[\"mathtext.default\"] = \"regular\"\n",
    "plt.rcParams[\"mathtext.fontset\"] = \"dejavusans\"\n",
    "plt.rcParams['patch.linewidth'] = 1\n",
    "plt.rcParams['axes.linewidth'] = 1\n",
    "plt.rcParams[\"xtick.direction\"] = \"in\"\n",
    "plt.rcParams[\"ytick.direction\"] = \"in\"\n",
    "plt.rcParams[\"ytick.direction\"] = \"in\"\n",
    "plt.rcParams[\"xtick.major.size\"] = 6 # Sets length of ticks\n",
    "plt.rcParams[\"ytick.major.size\"] = 4 # Sets length of ticks\n",
    "plt.rcParams[\"ytick.labelsize\"] = 12 # Sets size of numbers on tick marks\n",
    "plt.rcParams[\"xtick.labelsize\"] = 12 # Sets size of numbers on tick marks\n",
    "plt.rcParams[\"axes.titlesize\"] = 14 # Overall title\n",
    "plt.rcParams[\"axes.labelsize\"] = 14 # Axes labels"
   ]
  },
  {
   "cell_type": "markdown",
   "id": "831dc355-99e8-4020-aaf2-10fa5308e106",
   "metadata": {},
   "source": [
    "## 1. Load sulfide data"
   ]
  },
  {
   "cell_type": "code",
   "execution_count": 3,
   "id": "48f677fe-7540-46ba-990e-bce9847b4ff2",
   "metadata": {},
   "outputs": [
    {
     "data": {
      "text/html": [
       "<div>\n",
       "<style scoped>\n",
       "    .dataframe tbody tr th:only-of-type {\n",
       "        vertical-align: middle;\n",
       "    }\n",
       "\n",
       "    .dataframe tbody tr th {\n",
       "        vertical-align: top;\n",
       "    }\n",
       "\n",
       "    .dataframe thead th {\n",
       "        text-align: right;\n",
       "    }\n",
       "</style>\n",
       "<table border=\"1\" class=\"dataframe\">\n",
       "  <thead>\n",
       "    <tr style=\"text-align: right;\">\n",
       "      <th></th>\n",
       "      <th>Sample</th>\n",
       "      <th>Sulfide</th>\n",
       "      <th>Averaging method</th>\n",
       "      <th>S</th>\n",
       "      <th>Fe</th>\n",
       "      <th>Ni</th>\n",
       "      <th>Cu</th>\n",
       "      <th>Fe/(Fe+Cu+Ni)</th>\n",
       "    </tr>\n",
       "  </thead>\n",
       "  <tbody>\n",
       "    <tr>\n",
       "      <th>0</th>\n",
       "      <td>H14</td>\n",
       "      <td>H14_S1</td>\n",
       "      <td>average (n=3)</td>\n",
       "      <td>34.365900</td>\n",
       "      <td>49.914425</td>\n",
       "      <td>2.323820</td>\n",
       "      <td>13.395820</td>\n",
       "      <td>0.760496</td>\n",
       "    </tr>\n",
       "    <tr>\n",
       "      <th>1</th>\n",
       "      <td>H14</td>\n",
       "      <td>H14_S2</td>\n",
       "      <td>average (n=3)</td>\n",
       "      <td>34.691202</td>\n",
       "      <td>50.071840</td>\n",
       "      <td>2.474618</td>\n",
       "      <td>12.762410</td>\n",
       "      <td>0.766693</td>\n",
       "    </tr>\n",
       "    <tr>\n",
       "      <th>2</th>\n",
       "      <td>H14</td>\n",
       "      <td>H14_S3</td>\n",
       "      <td>single</td>\n",
       "      <td>35.557799</td>\n",
       "      <td>56.234839</td>\n",
       "      <td>2.981762</td>\n",
       "      <td>5.225494</td>\n",
       "      <td>0.872641</td>\n",
       "    </tr>\n",
       "    <tr>\n",
       "      <th>3</th>\n",
       "      <td>H14</td>\n",
       "      <td>H14_S4</td>\n",
       "      <td>average (n=3)</td>\n",
       "      <td>33.705771</td>\n",
       "      <td>50.447033</td>\n",
       "      <td>2.400133</td>\n",
       "      <td>13.447063</td>\n",
       "      <td>0.760957</td>\n",
       "    </tr>\n",
       "    <tr>\n",
       "      <th>4</th>\n",
       "      <td>H14</td>\n",
       "      <td>H14_S5</td>\n",
       "      <td>average (n=3)</td>\n",
       "      <td>32.949899</td>\n",
       "      <td>45.135301</td>\n",
       "      <td>2.868397</td>\n",
       "      <td>19.046367</td>\n",
       "      <td>0.673158</td>\n",
       "    </tr>\n",
       "  </tbody>\n",
       "</table>\n",
       "</div>"
      ],
      "text/plain": [
       "  Sample Sulfide Averaging method          S         Fe        Ni         Cu  \\\n",
       "0    H14  H14_S1    average (n=3)  34.365900  49.914425  2.323820  13.395820   \n",
       "1    H14  H14_S2    average (n=3)  34.691202  50.071840  2.474618  12.762410   \n",
       "2    H14  H14_S3           single  35.557799  56.234839  2.981762   5.225494   \n",
       "3    H14  H14_S4    average (n=3)  33.705771  50.447033  2.400133  13.447063   \n",
       "4    H14  H14_S5    average (n=3)  32.949899  45.135301  2.868397  19.046367   \n",
       "\n",
       "   Fe/(Fe+Cu+Ni)  \n",
       "0       0.760496  \n",
       "1       0.766693  \n",
       "2       0.872641  \n",
       "3       0.760957  \n",
       "4       0.673158  "
      ]
     },
     "execution_count": 3,
     "metadata": {},
     "output_type": "execute_result"
    }
   ],
   "source": [
    "Sulfide_in=pd.read_excel('Liu_Sulf_Compp.xlsx')\n",
    "Sulfide_in.head()"
   ]
  },
  {
   "cell_type": "code",
   "execution_count": 4,
   "id": "8e4a3bef-a6f4-4dae-80b4-3e2740688ae4",
   "metadata": {},
   "outputs": [],
   "source": [
    "H14_Sulf=Sulfide_in.loc[Sulfide_in['Sample']==\"H14\"]"
   ]
  },
  {
   "cell_type": "markdown",
   "id": "f3afb543-ff48-4808-a2d9-a7f062cea81d",
   "metadata": {},
   "source": [
    "## 2. Load best fit liquid line of descent \n",
    "- This data is a Petrolog model\n",
    "- The addition of the Liq suffix might seem a bit odd, but this allows use of liquid-only thermometers from the Python3 Thermobarometry tool Thermobar"
   ]
  },
  {
   "cell_type": "code",
   "execution_count": 5,
   "id": "65b93a43-9fc3-4ef1-bed4-c5adb8cb3d85",
   "metadata": {},
   "outputs": [
    {
     "name": "stdout",
     "output_type": "stream",
     "text": [
      "We have replaced all missing liquid oxides and strings with zeros. \n"
     ]
    }
   ],
   "source": [
    "Liqs=ss.import_data('Model9_BaliOnlyLang_Closedsystem_32kbar_NiCu_02.xlsx', \n",
    "            Petrolog=True)\n",
    "Liqs.head()\n",
    "## Because Ni and Cu are treated as trace elemnets, we can adjust their concentrations by a consatnt\n",
    "Liqs['Ni_Liq_ppm']=Liqs['Ni_Liq_ppm']*1.1\n",
    "Liqs['Cu_Liq_ppm']=Liqs['Cu_Liq_ppm']*(8/9)"
   ]
  },
  {
   "cell_type": "code",
   "execution_count": 18,
   "id": "6961f9f0-6647-4293-97ee-e13bc0a1ba4c",
   "metadata": {},
   "outputs": [
    {
     "data": {
      "text/plain": [
       "221.98000000000002"
      ]
     },
     "execution_count": 18,
     "metadata": {},
     "output_type": "execute_result"
    }
   ],
   "source": [
    "Liqs['Ni_Liq_ppm'][0]"
   ]
  },
  {
   "cell_type": "code",
   "execution_count": 19,
   "id": "dd63fb6a-4c1f-43b4-a323-441ec4f7dac4",
   "metadata": {},
   "outputs": [
    {
     "data": {
      "text/plain": [
       "80.71111111111111"
      ]
     },
     "execution_count": 19,
     "metadata": {},
     "output_type": "execute_result"
    }
   ],
   "source": [
    "Liqs['Cu_Liq_ppm'][0]"
   ]
  },
  {
   "cell_type": "markdown",
   "id": "20bfa1e6-9d99-47fc-af55-51fb6a64575f",
   "metadata": {},
   "source": [
    "## 3. Loading in measured data to compare to models\n",
    "- Here we load in matrix glasses and melt inclusion compositions, again, all data from Liu et al. (in prep)."
   ]
  },
  {
   "cell_type": "code",
   "execution_count": 6,
   "id": "3d8ab04d-ce8e-4e50-a78b-c3f03073d203",
   "metadata": {},
   "outputs": [],
   "source": [
    "# Melt inclusions from Bali et al.\n",
    "BMI=pd.read_excel('HoluMIs.xlsx', sheet_name=' 3.Bali Supplement')\n",
    "# Matrix glasses from Liu et al. (in prep)\n",
    "LG=pd.read_excel('HoluMIs.xlsx', sheet_name='4.Liu Matrix Glass Data')"
   ]
  },
  {
   "cell_type": "code",
   "execution_count": 7,
   "id": "978238de-a970-428c-bcdc-4dc192fa727a",
   "metadata": {},
   "outputs": [],
   "source": [
    "LG_14=LG.loc[LG['Comment'].str.contains('H4')]"
   ]
  },
  {
   "cell_type": "markdown",
   "id": "f41bbdd2-a7ae-4277-8030-08ba60ff00aa",
   "metadata": {},
   "source": [
    "## 8. SCSS models using predicted sulfide composition\n",
    "- First, lets use the Smythe et al. (2017) model to predict sulfide compositions, based on petrolog Ni and Cu models\n",
    "- As petrolog treates these incompatibly, we can multiply Ni and Cu by a constant, as if we had run the model with more Ni and Cu, withot having to do the calculations here. These fudge factors provide the best fit to observed Ni and Cu data. "
   ]
  },
  {
   "cell_type": "code",
   "execution_count": 8,
   "id": "1f9c8d0c-0e71-49c6-ac31-450bb3bfe3f6",
   "metadata": {},
   "outputs": [],
   "source": [
    "Smythe_CalcSulf=ss.calculate_Smythe2017_SCSS(df=Liqs, T_K=Liqs['T_K'], \n",
    "P_kbar=3.2, Fe_FeNiCu_Sulf=\"Calc_Smythe\",\n",
    "Fe3Fet_Liq=Liqs['Fe3Fet_Liq'], Ni_Liq=Liqs['Ni_Liq_ppm'], \n",
    "Cu_Liq=Liqs['Cu_Liq_ppm'])"
   ]
  },
  {
   "cell_type": "markdown",
   "id": "467a47fb-a326-445f-9de9-1a7ea0ec419c",
   "metadata": {},
   "source": [
    "- Now we use the Oneill (2021) model, first using their method for calculating sulfide composition, and then using the Smythe algorithm"
   ]
  },
  {
   "cell_type": "code",
   "execution_count": 9,
   "id": "4a3de42d-fa0b-459e-86c6-cd7f5d7517b8",
   "metadata": {},
   "outputs": [],
   "source": [
    "ONeill_CalcSulf=ss.calculate_ONeill2021_SCSS(df=Liqs, T_K=Liqs['T_K'], \n",
    "P_kbar=3.2, \n",
    "Fe_FeNiCu_Sulf=\"Calc_ONeill\",\n",
    "Ni_Liq=Liqs['Ni_Liq_ppm'], \n",
    "Cu_Liq=Liqs['Cu_Liq_ppm'],\n",
    "Fe3Fet_Liq=Liqs['Fe3Fet_Liq'])"
   ]
  },
  {
   "cell_type": "code",
   "execution_count": 10,
   "id": "f2c2e738-d81f-4620-a243-9be1b432fa00",
   "metadata": {},
   "outputs": [
    {
     "data": {
      "text/plain": [
       "0     0.583722\n",
       "1     0.586319\n",
       "2     0.589038\n",
       "3     0.591746\n",
       "4     0.594277\n",
       "        ...   \n",
       "72    0.690799\n",
       "73    0.689105\n",
       "74    0.687165\n",
       "75    0.684889\n",
       "76    0.683941\n",
       "Name: Fe_FeNiCu_Sulf_calc, Length: 77, dtype: float64"
      ]
     },
     "execution_count": 10,
     "metadata": {},
     "output_type": "execute_result"
    }
   ],
   "source": [
    "ONeill_CalcSulf['Fe_FeNiCu_Sulf_calc']"
   ]
  },
  {
   "cell_type": "markdown",
   "id": "a95d4267-1f1c-40ea-830d-43ac31aed224",
   "metadata": {},
   "source": [
    "## 9. Lets compare these predictions to measured sulfide compositions\n",
    "- For each sulfide, we have calculated an equivalent MgO content based on the melt or crystal it is hosted within "
   ]
  },
  {
   "cell_type": "code",
   "execution_count": 11,
   "id": "fe3b8751-d95d-433e-a216-178d466ee4b5",
   "metadata": {},
   "outputs": [
    {
     "data": {
      "text/plain": [
       "0     0.760496\n",
       "1     0.766693\n",
       "2     0.872641\n",
       "3     0.760957\n",
       "4     0.673158\n",
       "5     0.631149\n",
       "6     0.772218\n",
       "7     0.716280\n",
       "8     0.687521\n",
       "9     0.691595\n",
       "10    0.752291\n",
       "11    0.657921\n",
       "12    0.789247\n",
       "13    0.654598\n",
       "14    0.713078\n",
       "15    0.706485\n",
       "16    0.786593\n",
       "17    0.702446\n",
       "18    0.694048\n",
       "19    0.642330\n",
       "20    0.757069\n",
       "21    0.669039\n",
       "22    0.693720\n",
       "23    0.611678\n",
       "24    0.689791\n",
       "25    0.649176\n",
       "26    0.650911\n",
       "27    0.711207\n",
       "28    0.655207\n",
       "29    0.686808\n",
       "30    0.745336\n",
       "31    0.725637\n",
       "32    0.756868\n",
       "33    0.853592\n",
       "34    0.738657\n",
       "35    0.643092\n",
       "36    0.693358\n",
       "37    0.704897\n",
       "38    0.623707\n",
       "39    0.780861\n",
       "Name: Fe/(Fe+Cu+Ni), dtype: float64"
      ]
     },
     "execution_count": 11,
     "metadata": {},
     "output_type": "execute_result"
    }
   ],
   "source": [
    "Sulfide_in['Fe/(Fe+Cu+Ni)']"
   ]
  },
  {
   "cell_type": "code",
   "execution_count": 12,
   "id": "2ba8211b-c513-4d69-b333-ddfcff34b778",
   "metadata": {},
   "outputs": [
    {
     "data": {
      "image/png": "[encoded data removed]",
      "text/plain": [
       "<Figure size 432x360 with 4 Axes>"
      ]
     },
     "metadata": {
      "needs_background": "light"
     },
     "output_type": "display_data"
    }
   ],
   "source": [
    "fig, (((ax3a),(ax3b)), ((ax4a, ax4b))) = plt.subplots(2, 2, figsize=(6,5),\n",
    "                                    gridspec_kw={'height_ratios': [0.5, 4],\n",
    "                                                 'width_ratios': [6, 0.5]\n",
    "                                                })\n",
    "plt.subplots_adjust(wspace=0, hspace=0)\n",
    "ax3a.axis('off')\n",
    "ax3b.axis('off')\n",
    "ax4b.axis('off')\n",
    "\n",
    "# Plot histogram of Mgo on ax3b\n",
    "ax3a.hist(LG['MgO'],  ec='k', color='red')\n",
    "\n",
    "# Plot histogram of sulifdes on ax3a\n",
    "ax4b.hist(Sulfide_in['Fe/(Fe+Cu+Ni)'],  ec='k', \n",
    "          color='yellow', orientation='horizontal', bins=15)\n",
    "# Plot models on Ax4a\n",
    "ax4a.plot([np.nanmean(LG['MgO'])-np.nanstd(LG['MgO']),\n",
    "           np.nanmean(LG['MgO'])-np.nanstd(LG['MgO'])],\n",
    "                                           [0.4, 0.9], '-r', lw=0.5)\n",
    "ax4a.plot([np.nanmean(LG['MgO'])+np.nanstd(LG['MgO']),\n",
    "           np.nanmean(LG['MgO'])+np.nanstd(LG['MgO'])],\n",
    "                                           [0.4, 0.9], '-r', lw=0.5)\n",
    "\n",
    "ax4a.plot([4.5, 11],\n",
    " [np.nanmean(Sulfide_in['Fe/(Fe+Cu+Ni)'])+np.nanstd(Sulfide_in['Fe/(Fe+Cu+Ni)']),\n",
    " np.nanmean(Sulfide_in['Fe/(Fe+Cu+Ni)'])+np.nanstd(Sulfide_in['Fe/(Fe+Cu+Ni)'])],\n",
    "          '-', color='yellow', lw=0.5)\n",
    "\n",
    "ax4a.plot([4.5, 11],\n",
    " [np.nanmean(Sulfide_in['Fe/(Fe+Cu+Ni)'])-np.nanstd(Sulfide_in['Fe/(Fe+Cu+Ni)']),\n",
    " np.nanmean(Sulfide_in['Fe/(Fe+Cu+Ni)'])-np.nanstd(Sulfide_in['Fe/(Fe+Cu+Ni)'])],\n",
    "          '-', color='yellow', lw=0.5)\n",
    "\n",
    "ax4a.plot(ONeill_CalcSulf['MgO_Liq'], ONeill_CalcSulf['Fe_FeNiCu_Sulf_calc'], '-m')\n",
    "ax4a.plot(Smythe_CalcSulf['MgO_Liq'], Smythe_CalcSulf['Fe_FeNiCu_Sulf_calc'], '-g')\n",
    "\n",
    "\n",
    "ax3a.set_xlim([4.5, 10.5])\n",
    "ax4a.set_xlim([4.5, 10.5])\n",
    "ax4b.set_ylim([0.4, 0.9])\n",
    "ax4a.set_ylim([0.4, 0.9])\n",
    "ax4a.set_xlabel('Melt MgO (wt%)')\n",
    "ax4a.set_ylabel('Fe/(Fe+Cu+Ni)$_{sulfide}$')\n",
    "fig.savefig('SulfComp.png', dpi=200)\n",
    "# Plot a fill between "
   ]
  },
  {
   "cell_type": "code",
   "execution_count": 13,
   "id": "0e842cf0-3d5e-4086-9feb-ea140e0a2f81",
   "metadata": {},
   "outputs": [
    {
     "data": {
      "text/plain": [
       "(array([3., 7., 5., 9., 3., 7., 4., 0., 0., 2.]),\n",
       " array([0.6116782 , 0.63777452, 0.66387084, 0.68996716, 0.71606347,\n",
       "        0.74215979, 0.76825611, 0.79435243, 0.82044875, 0.84654507,\n",
       "        0.87264138]),\n",
       " <BarContainer object of 10 artists>)"
      ]
     },
     "execution_count": 13,
     "metadata": {},
     "output_type": "execute_result"
    },
    {
     "data": {
      "image/png": "[encoded data removed]",
      "text/plain": [
       "<Figure size 432x288 with 1 Axes>"
      ]
     },
     "metadata": {
      "needs_background": "light"
     },
     "output_type": "display_data"
    }
   ],
   "source": [
    "plt.hist(Sulfide_in['Fe/(Fe+Cu+Ni)'])"
   ]
  },
  {
   "cell_type": "markdown",
   "id": "40d9ae44-9794-4fc1-909c-ec795cf4e508",
   "metadata": {},
   "source": [
    "## Performing calculations using average measured sulfide content"
   ]
  },
  {
   "cell_type": "code",
   "execution_count": 14,
   "id": "f3d69769-6ee9-4074-8990-83e8601dd12b",
   "metadata": {},
   "outputs": [
    {
     "name": "stdout",
     "output_type": "stream",
     "text": [
      "Using inputted Fe_FeNiCu_Sulf ratio for calculations.\n",
      "You havent entered a value for Ni_FeNiCu_Sulf and Cu_FeNiCu_Sulf so we cant calculate the non-ideal SCSS\n"
     ]
    }
   ],
   "source": [
    "Smythe_MeasSulf=ss.calculate_Smythe2017_SCSS(df=Liqs, T_K=Liqs['T_K'], \n",
    "    Fe3Fet_Liq=Liqs['Fe3Fet_Liq'],                                         \n",
    "P_kbar=3.2, Fe_FeNiCu_Sulf=np.nanmean(Sulfide_in['Fe/(Fe+Cu+Ni)']))"
   ]
  },
  {
   "cell_type": "code",
   "execution_count": 17,
   "id": "9d1bbbc0-eebb-40b4-b436-8287ecdcecb2",
   "metadata": {},
   "outputs": [
    {
     "data": {
      "text/plain": [
       "0.7118088777396498"
      ]
     },
     "execution_count": 17,
     "metadata": {},
     "output_type": "execute_result"
    }
   ],
   "source": [
    "np.nanmean(Sulfide_in['Fe/(Fe+Cu+Ni)'])"
   ]
  },
  {
   "cell_type": "code",
   "execution_count": 15,
   "id": "cb3b8039-91f6-4d66-b9ee-d1f138559fc5",
   "metadata": {},
   "outputs": [
    {
     "name": "stdout",
     "output_type": "stream",
     "text": [
      "Using inputted Fe_FeNiCu_Sulf ratio for calculations.\n"
     ]
    }
   ],
   "source": [
    "ONeill_MeasSulf=ss.calculate_ONeill2021_SCSS(df=Liqs, T_K=Liqs['T_K'], \n",
    "P_kbar=3.2, \n",
    "Fe_FeNiCu_Sulf=np.nanmean(Sulfide_in['Fe/(Fe+Cu+Ni)']),\n",
    "Fe3Fet_Liq=Liqs['Fe3Fet_Liq'])"
   ]
  },
  {
   "cell_type": "code",
   "execution_count": 16,
   "id": "2e542533-524f-40d6-8b93-bf73fcda67bc",
   "metadata": {},
   "outputs": [
    {
     "data": {
      "text/plain": [
       "1.1111111111111112"
      ]
     },
     "execution_count": 16,
     "metadata": {},
     "output_type": "execute_result"
    }
   ],
   "source": [
    "# bit of S6+\n",
    "s6_corr_10=1/(1-10/100)\n",
    "s6_corr_10"
   ]
  },
  {
   "cell_type": "markdown",
   "id": "edd92c00-3c25-44e1-9bcf-1a1e1d5ddb79",
   "metadata": {},
   "source": [
    "## Calculating fractional crystallization path"
   ]
  },
  {
   "cell_type": "code",
   "execution_count": 17,
   "id": "0fa609ac-fa4c-4e6a-8e69-0978c13a0114",
   "metadata": {},
   "outputs": [],
   "source": [
    "def crystallize_S_incomp(S_init=1200, X_melt=None):\n",
    "    S_melt_FC=S_init/X_melt\n",
    "    return S_melt_FC"
   ]
  },
  {
   "cell_type": "code",
   "execution_count": 18,
   "id": "1bede58a-9312-42d6-b977-dde1bfd4e16e",
   "metadata": {},
   "outputs": [
    {
     "data": {
      "text/plain": [
       "0    790.079008\n",
       "1    798.020102\n",
       "2    806.201424\n",
       "3    814.467416\n",
       "4    822.982677\n",
       "Name: Melt_%_magma, dtype: float64"
      ]
     },
     "execution_count": 18,
     "metadata": {},
     "output_type": "execute_result"
    }
   ],
   "source": [
    "S_init=790\n",
    "Calc_S_incom=crystallize_S_incomp(S_init=S_init, X_melt=Liqs['Melt_%_magma']/100)\n",
    "Calc_S_incom.head()"
   ]
  },
  {
   "cell_type": "markdown",
   "id": "8027f1bc-f524-4775-9748-c955f5f01704",
   "metadata": {},
   "source": [
    "## Calculating amount of sulfide removed"
   ]
  },
  {
   "cell_type": "code",
   "execution_count": 19,
   "id": "33ce6fc5-9b59-4d74-b51d-4d92d476ab65",
   "metadata": {},
   "outputs": [
    {
     "data": {
      "text/plain": [
       "338105.77250103315"
      ]
     },
     "execution_count": 19,
     "metadata": {},
     "output_type": "execute_result"
    }
   ],
   "source": [
    "np.nanmean(H14_Sulf['S'])*10000"
   ]
  },
  {
   "cell_type": "code",
   "execution_count": 19,
   "id": "144c547a-fc14-445e-ab21-3e6399ae4e9a",
   "metadata": {},
   "outputs": [],
   "source": [
    "def calculate_mass_frac_sulf(SCSS=None, S_init=None, F=None, S_sulf=None):\n",
    "    X_sulf=(S_init-F*SCSS)/S_sulf\n",
    "    return X_sulf\n",
    "\n",
    "S_Sulf=np.nanmean(H14_Sulf['S'])*10000\n",
    "S_Sulf_Err=np.std(H14_Sulf['S'])*10000\n",
    "\n",
    "\n",
    "S_Rem_ON_S2=calculate_mass_frac_sulf(SCSS=ONeill_MeasSulf['SCSS2_ppm'], \n",
    "                               S_init=S_init, \n",
    "                               F=Liqs['Melt_%_magma']/100, \n",
    "                               S_sulf=S_Sulf)\n",
    "S_Rem_ON_S6=calculate_mass_frac_sulf(SCSS=ONeill_MeasSulf['SCSS2_ppm']*s6_corr_10, \n",
    "                               S_init=S_init, \n",
    "                               F=Liqs['Melt_%_magma']/100, \n",
    "                               S_sulf=S_Sulf)\n",
    "S_Rem_Smythe=calculate_mass_frac_sulf(SCSS=Smythe_MeasSulf['SCSS_ideal_ppm_Smythe2017'], \n",
    "                               S_init=S_init, \n",
    "                               F=Liqs['Melt_%_magma']/100, \n",
    "                               S_sulf=S_Sulf)\n",
    "\n",
    "# Minus 1 sigma, if also do sigma on S, min value, max S in sulf\n",
    "S_Rem_Smythe_minus1sig=calculate_mass_frac_sulf(\n",
    "SCSS=Smythe_MeasSulf['SCSS_ideal_ppm_Smythe2017']-\n",
    "Smythe_MeasSulf['SCSS_ideal_ppm_Smythe2017_1sigma'],\n",
    "S_init=S_init, \n",
    "F=Liqs['Melt_%_magma']/100, \n",
    "S_sulf=S_Sulf-S_Sulf_Err)\n",
    "\n",
    "\n",
    "S_Rem_Smythe_plus1sig=calculate_mass_frac_sulf(\n",
    "SCSS=Smythe_MeasSulf['SCSS_ideal_ppm_Smythe2017']+\n",
    "Smythe_MeasSulf['SCSS_ideal_ppm_Smythe2017_1sigma'],\n",
    "                               S_init=S_init, \n",
    "                               F=Liqs['Melt_%_magma']/100, \n",
    "S_sulf=S_Sulf+S_Sulf_Err)\n",
    "\n",
    "# To convert from mass to volume\n",
    "M_Factor=(2804/4200)"
   ]
  },
  {
   "cell_type": "code",
   "execution_count": 20,
   "id": "f09d1612-963e-43bf-bf61-ed234b676741",
   "metadata": {},
   "outputs": [
    {
     "data": {
      "text/plain": [
       "(array([ 4.,  6.,  5.,  5.,  4., 10.,  2.,  0.,  3.,  1.]),\n",
       " array([31.8992569 , 32.33978008, 32.78030326, 33.22082644, 33.66134963,\n",
       "        34.10187281, 34.54239599, 34.98291917, 35.42344236, 35.86396554,\n",
       "        36.30448872]),\n",
       " <BarContainer object of 10 artists>)"
      ]
     },
     "execution_count": 20,
     "metadata": {},
     "output_type": "execute_result"
    },
    {
     "data": {
      "image/png": "[encoded data removed]",
      "text/plain": [
       "<Figure size 432x288 with 1 Axes>"
      ]
     },
     "metadata": {
      "needs_background": "light"
     },
     "output_type": "display_data"
    }
   ],
   "source": [
    "plt.hist(Sulfide_in['S'])"
   ]
  },
  {
   "cell_type": "code",
   "execution_count": 21,
   "id": "09eba6a8-ae4e-4cfe-89bc-edaf50341933",
   "metadata": {},
   "outputs": [
    {
     "data": {
      "image/png": "[encoded data removed]",
      "text/plain": [
       "<Figure size 432x288 with 1 Axes>"
      ]
     },
     "metadata": {
      "needs_background": "light"
     },
     "output_type": "display_data"
    }
   ],
   "source": [
    "plt.plot(Liqs['MgO_Liq'],\n",
    "        S_Rem_ON_S2, '-r')\n",
    "plt.plot(Liqs['MgO_Liq'],\n",
    " (Calc_S_incom-ONeill_MeasSulf['SCSS2_ppm'])/(10000*np.nanmean(Sulfide_in['S'])),\n",
    "         '-b')\n",
    "X_Wieser= (Calc_S_incom-ONeill_MeasSulf['SCSS2_ppm'])/(10000*np.nanmean(Sulfide_in['S']))"
   ]
  },
  {
   "cell_type": "code",
   "execution_count": 22,
   "id": "ceb6629e-df9e-46f0-9b7e-22bdf21d5b69",
   "metadata": {},
   "outputs": [
    {
     "data": {
      "text/plain": [
       "0     791.693629\n",
       "1     791.599443\n",
       "2     791.505117\n",
       "3     791.412515\n",
       "4     791.319732\n",
       "         ...    \n",
       "72    789.140431\n",
       "73    789.106497\n",
       "74    789.071356\n",
       "75    789.035554\n",
       "76    789.021158\n",
       "Length: 77, dtype: float64"
      ]
     },
     "execution_count": 22,
     "metadata": {},
     "output_type": "execute_result"
    }
   ],
   "source": [
    "S_Sulf=10000*np.nanmean(Sulfide_in['S'])\n",
    "F=Liqs['Melt_%_magma']/100\n",
    "S_init_Kisseva=S_Rem_ON_S2*S_Sulf+F*ONeill_MeasSulf['SCSS2_ppm']\n",
    "S_init_Kisseva"
   ]
  },
  {
   "cell_type": "code",
   "execution_count": 23,
   "id": "b1df5135-a934-4fd3-8fa4-45e2c16e2513",
   "metadata": {},
   "outputs": [
    {
     "data": {
      "text/plain": [
       "0      789.957134\n",
       "1      785.890618\n",
       "2      782.188195\n",
       "3      778.928435\n",
       "4      776.055608\n",
       "         ...     \n",
       "72    1297.652345\n",
       "73    1343.686824\n",
       "74    1394.417425\n",
       "75    1449.950899\n",
       "76    1472.550461\n",
       "Length: 77, dtype: float64"
      ]
     },
     "execution_count": 23,
     "metadata": {},
     "output_type": "execute_result"
    }
   ],
   "source": [
    "S_init_Wieser=X_Wieser*S_Sulf+F*ONeill_MeasSulf['SCSS2_ppm']\n",
    "S_init_Wieser"
   ]
  },
  {
   "cell_type": "code",
   "execution_count": 25,
   "id": "18a8f457-369a-4a30-bced-c05cd4e2b30d",
   "metadata": {},
   "outputs": [
    {
     "data": {
      "image/png": "[encoded data removed]",
      "text/plain": [
       "<Figure size 864x720 with 4 Axes>"
      ]
     },
     "metadata": {
      "needs_background": "light"
     },
     "output_type": "display_data"
    }
   ],
   "source": [
    "## Rset of the plots\n",
    "fig, ((ax0, ax1), (ax2, ax3)) = plt.subplots(2,2, figsize = (12,10)) # adjust dimensions of figure here\n",
    "\n",
    "# Fixed sulfide\n",
    "ax0.plot(LG['MgO'], LG['S'], '^k', mfc='red', ms=6)\n",
    "ax0.plot(BMI['MgO'], BMI['S-ppm'], 'ok', mfc='blue', ms=6)\n",
    "ax0.plot(Liqs['MgO_Liq'], Calc_S_incom, '-k')\n",
    "ax0.plot(ONeill_MeasSulf['MgO_Liq'], ONeill_MeasSulf['SCSS2_ppm'],\n",
    "         '-m')\n",
    "ax0.plot(Smythe_MeasSulf['MgO_Liq'], Smythe_MeasSulf['SCSS_ideal_ppm_Smythe2017'],\n",
    "         '-g')\n",
    "ax0.plot(Smythe_MeasSulf['MgO_Liq'], s6_corr_10*Smythe_MeasSulf['SCSS_ideal_ppm_Smythe2017'],\n",
    "         ':g')\n",
    "xfill=Smythe_MeasSulf['MgO_Liq']\n",
    "y2fill_pap=(Smythe_MeasSulf['SCSS_ideal_ppm_Smythe2017']+\n",
    "Smythe_MeasSulf['SCSS_ideal_ppm_Smythe2017_1sigma'])\n",
    "y1fill_pap=(Smythe_MeasSulf['SCSS_ideal_ppm_Smythe2017']-\n",
    "Smythe_MeasSulf['SCSS_ideal_ppm_Smythe2017_1sigma'])\n",
    "ax0.fill_between(xfill, y1fill_pap, y2fill_pap, \n",
    "                 where=y1fill_pap < y2fill_pap, interpolate=True, \n",
    "                 color='green', alpha=0.1)\n",
    "\n",
    "# Calculated sulfide\n",
    "ax1.plot(LG['MgO'], LG['S'], '^k', mfc='red', ms=6)\n",
    "ax1.plot(BMI['MgO'], BMI['S-ppm'], 'ok', mfc='blue', ms=6)\n",
    "ax1.plot(Liqs['MgO_Liq'], Calc_S_incom, '-k')\n",
    "ax1.plot(ONeill_CalcSulf['MgO_Liq'], ONeill_CalcSulf['SCSS2_ppm'],\n",
    "         '-m')\n",
    "ax1.plot(Smythe_CalcSulf['MgO_Liq'], Smythe_CalcSulf['SCSS_ideal_ppm_Smythe2017'],\n",
    "         '-g')\n",
    "ax1.plot(Smythe_CalcSulf['MgO_Liq'], s6_corr_10*Smythe_CalcSulf['SCSS_ideal_ppm_Smythe2017'],\n",
    "         ':g')\n",
    "xfill=Smythe_CalcSulf['MgO_Liq']\n",
    "y2fill_pap=(Smythe_CalcSulf['SCSS_ideal_ppm_Smythe2017']+\n",
    "Smythe_CalcSulf['SCSS_ideal_ppm_Smythe2017_1sigma'])\n",
    "y1fill_pap=(Smythe_CalcSulf['SCSS_ideal_ppm_Smythe2017']-\n",
    "Smythe_CalcSulf['SCSS_ideal_ppm_Smythe2017_1sigma'])\n",
    "ax1.fill_between(xfill, y1fill_pap, y2fill_pap, \n",
    "                 where=y1fill_pap < y2fill_pap, interpolate=True, ec=None,\n",
    "                 color='green', alpha=0.1)\n",
    "\n",
    "## Amount of sulfide fractionated\n",
    "ax2.plot(Liqs['MgO_Liq'], 100*S_Rem_ON_S2*M_Factor, '-g')\n",
    "ax2.plot(Liqs['MgO_Liq'], 100*S_Rem_ON_S6*M_Factor, ':g')\n",
    "ax2.plot(Liqs['MgO_Liq'], 100*S_Rem_Smythe*M_Factor, '-m')\n",
    "xfill=Liqs['MgO_Liq']\n",
    "y2fill_pap=100*S_Rem_Smythe_minus1sig*M_Factor\n",
    "y1fill_pap=100*S_Rem_Smythe_plus1sig*M_Factor\n",
    "ax2.fill_between(xfill, y1fill_pap, y2fill_pap, \n",
    "                 where=y1fill_pap < y2fill_pap, interpolate=True, ec=None,\n",
    "                 color='green', alpha=0.1)\n",
    "ax2.set_ylim([0, 0.1])\n",
    "ax2.errorbar(np.nanmean(LG_14['MgO']), \n",
    "             0.07,\n",
    "             xerr=np.nanstd(LG_14['MgO']),\n",
    "             yerr=0.03,\n",
    "           fmt='d', ecolor='k', elinewidth=0.8, mfc='cyan', ms=10, mec='k', capsize=5)             \n",
    "\n",
    "ax0.set_xlabel('Melt MgO (wt%)')\n",
    "ax0.set_ylabel('Melt S (ppm)')\n",
    "ax1.set_xlabel('Melt MgO (wt%)')\n",
    "ax1.set_ylabel('Melt S (ppm)')\n",
    "ax2.set_xlabel('Melt MgO (wt%)')\n",
    "ax2.set_ylabel('Vol % Sulfide')\n",
    "ax2.set_ylim([0, 0.15])\n",
    "plt.subplots_adjust( hspace=0.3)\n",
    "fig.savefig('Sulf_frac.png', dpi=200)"
   ]
  },
  {
   "cell_type": "code",
   "execution_count": 20,
   "id": "f29d7c6b-3831-4c8b-9cdb-2f03b9a7bb48",
   "metadata": {},
   "outputs": [
    {
     "data": {
      "text/plain": [
       "[<matplotlib.lines.Line2D at 0x1925f6a2bb0>]"
      ]
     },
     "execution_count": 20,
     "metadata": {},
     "output_type": "execute_result"
    },
    {
     "data": {
      "image/png": "[encoded data removed]",
      "text/plain": [
       "<Figure size 432x288 with 1 Axes>"
      ]
     },
     "metadata": {
      "needs_background": "light"
     },
     "output_type": "display_data"
    }
   ],
   "source": [
    "plt.plot(Liqs['MgO_Liq'], Liqs['FeOt_Liq'], '-r')"
   ]
  },
  {
   "cell_type": "code",
   "execution_count": 40,
   "id": "cca6d80b-6d02-4c1b-8ccc-18dd936d22c3",
   "metadata": {},
   "outputs": [
    {
     "data": {
      "text/plain": [
       "<matplotlib.legend.Legend at 0x192615d7d90>"
      ]
     },
     "execution_count": 40,
     "metadata": {},
     "output_type": "execute_result"
    },
    {
     "data": {
      "image/png": "[encoded data removed]",
      "text/plain": [
       "<Figure size 432x288 with 1 Axes>"
      ]
     },
     "metadata": {
      "needs_background": "light"
     },
     "output_type": "display_data"
    }
   ],
   "source": [
    "K_FeO=ss.calculate_Kiseeva_sulf_comp_kd(Ni_Sulf=np.nanmean(Sulfide_in['Ni']), \n",
    "                               Cu_Sulf=np.nanmean(Sulfide_in['Cu']), \n",
    "                               FeOt_Liq=Liqs['FeOt_Liq'], \n",
    "                               T_K=np.nanmean(Liqs['T_K']), Fe3Fet_Liq=0.1)\n",
    "plt.plot(Liqs['FeOt_Liq'], K_FeO['DNi']/K_FeO['DNi'][0],  '-r', label='Dni')\n",
    "plt.plot(Liqs['FeOt_Liq'], K_FeO['DCu']/K_FeO['DCu'][0], '-b', label='DCu')\n",
    "plt.legend()"
   ]
  },
  {
   "cell_type": "code",
   "execution_count": 42,
   "id": "bd3f402b-9438-4517-8fd9-c675bcbdb6b0",
   "metadata": {},
   "outputs": [
    {
     "data": {
      "text/plain": [
       "<matplotlib.legend.Legend at 0x19261684580>"
      ]
     },
     "execution_count": 42,
     "metadata": {},
     "output_type": "execute_result"
    },
    {
     "data": {
      "image/png": "[encoded data removed]",
      "text/plain": [
       "<Figure size 432x288 with 1 Axes>"
      ]
     },
     "metadata": {
      "needs_background": "light"
     },
     "output_type": "display_data"
    }
   ],
   "source": [
    "K_FeO=ss.calculate_Kiseeva_sulf_comp_kd(Ni_Sulf=np.nanmean(Sulfide_in['Ni']), \n",
    "                               Cu_Sulf=np.nanmean(Sulfide_in['Cu']), \n",
    "                               FeOt_Liq=np.nanmean(Liqs['FeOt_Liq']), \n",
    "                               T_K=Liqs['T_K'], Fe3Fet_Liq=0.1)\n",
    "plt.plot(Liqs['FeOt_Liq'], K_FeO['DNi']/K_FeO['DNi'][0],  '-r', label='Dni')\n",
    "plt.plot(Liqs['FeOt_Liq'], K_FeO['DCu']/K_FeO['DCu'][0], '-b', label='DCu')\n",
    "plt.legend()"
   ]
  },
  {
   "cell_type": "code",
   "execution_count": 26,
   "id": "98e77f82-6b46-424b-9084-325477ebfc05",
   "metadata": {},
   "outputs": [
    {
     "data": {
      "text/html": [
       "<div>\n",
       "<style scoped>\n",
       "    .dataframe tbody tr th:only-of-type {\n",
       "        vertical-align: middle;\n",
       "    }\n",
       "\n",
       "    .dataframe tbody tr th {\n",
       "        vertical-align: top;\n",
       "    }\n",
       "\n",
       "    .dataframe thead th {\n",
       "        text-align: right;\n",
       "    }\n",
       "</style>\n",
       "<table border=\"1\" class=\"dataframe\">\n",
       "  <thead>\n",
       "    <tr style=\"text-align: right;\">\n",
       "      <th></th>\n",
       "      <th>S_Sulf</th>\n",
       "      <th>O_Sulf</th>\n",
       "      <th>Fe_Sulf</th>\n",
       "      <th>Ni_Sulf</th>\n",
       "      <th>Cu_Sulf</th>\n",
       "      <th>DNi</th>\n",
       "      <th>DCu</th>\n",
       "      <th>DAg</th>\n",
       "      <th>DPb</th>\n",
       "      <th>DZn</th>\n",
       "      <th>DCd</th>\n",
       "      <th>DTl</th>\n",
       "      <th>DMn</th>\n",
       "      <th>DIn</th>\n",
       "      <th>DTi</th>\n",
       "      <th>DGa</th>\n",
       "      <th>DSb</th>\n",
       "      <th>DCo</th>\n",
       "      <th>DV</th>\n",
       "      <th>DGe</th>\n",
       "      <th>DCr</th>\n",
       "      <th>DSe_B2015</th>\n",
       "      <th>DTe_B2015</th>\n",
       "    </tr>\n",
       "  </thead>\n",
       "  <tbody>\n",
       "    <tr>\n",
       "      <th>0</th>\n",
       "      <td>33.442289</td>\n",
       "      <td>1.541592</td>\n",
       "      <td>60.476207</td>\n",
       "      <td>2.269956</td>\n",
       "      <td>2.269956</td>\n",
       "      <td>1760.918658</td>\n",
       "      <td>1078.534344</td>\n",
       "      <td>1320.153048</td>\n",
       "      <td>63.235605</td>\n",
       "      <td>2.573985</td>\n",
       "      <td>104.657038</td>\n",
       "      <td>14.991991</td>\n",
       "      <td>0.636055</td>\n",
       "      <td>20.419916</td>\n",
       "      <td>0.010247</td>\n",
       "      <td>0.038025</td>\n",
       "      <td>22.070096</td>\n",
       "      <td>87.802528</td>\n",
       "      <td>0.325959</td>\n",
       "      <td>0.641998</td>\n",
       "      <td>1.949053</td>\n",
       "      <td>1643.419357</td>\n",
       "      <td>15066.955296</td>\n",
       "    </tr>\n",
       "    <tr>\n",
       "      <th>1</th>\n",
       "      <td>33.428442</td>\n",
       "      <td>1.550047</td>\n",
       "      <td>60.481598</td>\n",
       "      <td>2.269956</td>\n",
       "      <td>2.269956</td>\n",
       "      <td>1751.307211</td>\n",
       "      <td>1074.386198</td>\n",
       "      <td>1315.280764</td>\n",
       "      <td>62.876184</td>\n",
       "      <td>2.560813</td>\n",
       "      <td>104.085937</td>\n",
       "      <td>14.943641</td>\n",
       "      <td>0.633195</td>\n",
       "      <td>20.269386</td>\n",
       "      <td>0.010202</td>\n",
       "      <td>0.037811</td>\n",
       "      <td>21.906236</td>\n",
       "      <td>87.296940</td>\n",
       "      <td>0.324170</td>\n",
       "      <td>0.636591</td>\n",
       "      <td>1.939169</td>\n",
       "      <td>1637.246238</td>\n",
       "      <td>15020.428026</td>\n",
       "    </tr>\n",
       "    <tr>\n",
       "      <th>2</th>\n",
       "      <td>33.414375</td>\n",
       "      <td>1.558637</td>\n",
       "      <td>60.487076</td>\n",
       "      <td>2.269956</td>\n",
       "      <td>2.269956</td>\n",
       "      <td>1741.649166</td>\n",
       "      <td>1070.203948</td>\n",
       "      <td>1310.368524</td>\n",
       "      <td>62.515018</td>\n",
       "      <td>2.547578</td>\n",
       "      <td>103.512067</td>\n",
       "      <td>14.894902</td>\n",
       "      <td>0.630322</td>\n",
       "      <td>20.118516</td>\n",
       "      <td>0.010157</td>\n",
       "      <td>0.037597</td>\n",
       "      <td>21.742010</td>\n",
       "      <td>86.788897</td>\n",
       "      <td>0.322379</td>\n",
       "      <td>0.631184</td>\n",
       "      <td>1.929238</td>\n",
       "      <td>1630.988261</td>\n",
       "      <td>14973.045098</td>\n",
       "    </tr>\n",
       "    <tr>\n",
       "      <th>3</th>\n",
       "      <td>33.400377</td>\n",
       "      <td>1.567184</td>\n",
       "      <td>60.492526</td>\n",
       "      <td>2.269956</td>\n",
       "      <td>2.269956</td>\n",
       "      <td>1732.143923</td>\n",
       "      <td>1066.074043</td>\n",
       "      <td>1305.517863</td>\n",
       "      <td>62.159562</td>\n",
       "      <td>2.534554</td>\n",
       "      <td>102.947276</td>\n",
       "      <td>14.846782</td>\n",
       "      <td>0.627495</td>\n",
       "      <td>19.970418</td>\n",
       "      <td>0.010113</td>\n",
       "      <td>0.037387</td>\n",
       "      <td>21.580800</td>\n",
       "      <td>86.288888</td>\n",
       "      <td>0.320620</td>\n",
       "      <td>0.625888</td>\n",
       "      <td>1.919465</td>\n",
       "      <td>1624.774886</td>\n",
       "      <td>14925.785012</td>\n",
       "    </tr>\n",
       "    <tr>\n",
       "      <th>4</th>\n",
       "      <td>33.386191</td>\n",
       "      <td>1.575847</td>\n",
       "      <td>60.498050</td>\n",
       "      <td>2.269956</td>\n",
       "      <td>2.269956</td>\n",
       "      <td>1722.616252</td>\n",
       "      <td>1061.920503</td>\n",
       "      <td>1300.639540</td>\n",
       "      <td>61.803264</td>\n",
       "      <td>2.521499</td>\n",
       "      <td>102.381153</td>\n",
       "      <td>14.798396</td>\n",
       "      <td>0.624662</td>\n",
       "      <td>19.822352</td>\n",
       "      <td>0.010069</td>\n",
       "      <td>0.037177</td>\n",
       "      <td>21.419627</td>\n",
       "      <td>85.787695</td>\n",
       "      <td>0.318863</td>\n",
       "      <td>0.620604</td>\n",
       "      <td>1.909669</td>\n",
       "      <td>1618.492037</td>\n",
       "      <td>14877.779188</td>\n",
       "    </tr>\n",
       "    <tr>\n",
       "      <th>...</th>\n",
       "      <td>...</td>\n",
       "      <td>...</td>\n",
       "      <td>...</td>\n",
       "      <td>...</td>\n",
       "      <td>...</td>\n",
       "      <td>...</td>\n",
       "      <td>...</td>\n",
       "      <td>...</td>\n",
       "      <td>...</td>\n",
       "      <td>...</td>\n",
       "      <td>...</td>\n",
       "      <td>...</td>\n",
       "      <td>...</td>\n",
       "      <td>...</td>\n",
       "      <td>...</td>\n",
       "      <td>...</td>\n",
       "      <td>...</td>\n",
       "      <td>...</td>\n",
       "      <td>...</td>\n",
       "      <td>...</td>\n",
       "      <td>...</td>\n",
       "      <td>...</td>\n",
       "      <td>...</td>\n",
       "    </tr>\n",
       "    <tr>\n",
       "      <th>72</th>\n",
       "      <td>30.752795</td>\n",
       "      <td>3.183860</td>\n",
       "      <td>61.523432</td>\n",
       "      <td>2.269956</td>\n",
       "      <td>2.269956</td>\n",
       "      <td>855.105811</td>\n",
       "      <td>599.002787</td>\n",
       "      <td>756.774738</td>\n",
       "      <td>29.322828</td>\n",
       "      <td>1.340068</td>\n",
       "      <td>50.834570</td>\n",
       "      <td>9.449266</td>\n",
       "      <td>0.375836</td>\n",
       "      <td>8.147577</td>\n",
       "      <td>0.009105</td>\n",
       "      <td>0.021715</td>\n",
       "      <td>8.712247</td>\n",
       "      <td>40.100842</td>\n",
       "      <td>0.191203</td>\n",
       "      <td>0.251073</td>\n",
       "      <td>1.024278</td>\n",
       "      <td>710.944049</td>\n",
       "      <td>6056.063134</td>\n",
       "    </tr>\n",
       "    <tr>\n",
       "      <th>73</th>\n",
       "      <td>30.660884</td>\n",
       "      <td>3.239983</td>\n",
       "      <td>61.559221</td>\n",
       "      <td>2.269956</td>\n",
       "      <td>2.269956</td>\n",
       "      <td>840.273755</td>\n",
       "      <td>588.976587</td>\n",
       "      <td>744.951348</td>\n",
       "      <td>28.766578</td>\n",
       "      <td>1.320113</td>\n",
       "      <td>49.953256</td>\n",
       "      <td>9.333286</td>\n",
       "      <td>0.371923</td>\n",
       "      <td>7.983530</td>\n",
       "      <td>0.009220</td>\n",
       "      <td>0.021553</td>\n",
       "      <td>8.533585</td>\n",
       "      <td>39.318737</td>\n",
       "      <td>0.189958</td>\n",
       "      <td>0.246875</td>\n",
       "      <td>1.009363</td>\n",
       "      <td>688.046318</td>\n",
       "      <td>5804.030772</td>\n",
       "    </tr>\n",
       "    <tr>\n",
       "      <th>74</th>\n",
       "      <td>30.566169</td>\n",
       "      <td>3.297819</td>\n",
       "      <td>61.596101</td>\n",
       "      <td>2.269956</td>\n",
       "      <td>2.269956</td>\n",
       "      <td>825.517341</td>\n",
       "      <td>578.894798</td>\n",
       "      <td>733.057904</td>\n",
       "      <td>28.213086</td>\n",
       "      <td>1.300279</td>\n",
       "      <td>49.076435</td>\n",
       "      <td>9.216588</td>\n",
       "      <td>0.368057</td>\n",
       "      <td>7.821774</td>\n",
       "      <td>0.009347</td>\n",
       "      <td>0.021399</td>\n",
       "      <td>8.357399</td>\n",
       "      <td>38.540529</td>\n",
       "      <td>0.188785</td>\n",
       "      <td>0.242790</td>\n",
       "      <td>0.994543</td>\n",
       "      <td>665.036065</td>\n",
       "      <td>5550.931539</td>\n",
       "    </tr>\n",
       "    <tr>\n",
       "      <th>75</th>\n",
       "      <td>30.467616</td>\n",
       "      <td>3.357997</td>\n",
       "      <td>61.634474</td>\n",
       "      <td>2.269956</td>\n",
       "      <td>2.269956</td>\n",
       "      <td>810.702650</td>\n",
       "      <td>568.663354</td>\n",
       "      <td>720.983004</td>\n",
       "      <td>27.657324</td>\n",
       "      <td>1.280387</td>\n",
       "      <td>48.196152</td>\n",
       "      <td>9.098071</td>\n",
       "      <td>0.364206</td>\n",
       "      <td>7.660861</td>\n",
       "      <td>0.009489</td>\n",
       "      <td>0.021251</td>\n",
       "      <td>8.182110</td>\n",
       "      <td>37.759149</td>\n",
       "      <td>0.187677</td>\n",
       "      <td>0.238784</td>\n",
       "      <td>0.979683</td>\n",
       "      <td>641.717414</td>\n",
       "      <td>5294.818852</td>\n",
       "    </tr>\n",
       "    <tr>\n",
       "      <th>76</th>\n",
       "      <td>30.430869</td>\n",
       "      <td>3.380436</td>\n",
       "      <td>61.648783</td>\n",
       "      <td>2.269956</td>\n",
       "      <td>2.269956</td>\n",
       "      <td>805.313707</td>\n",
       "      <td>564.913744</td>\n",
       "      <td>716.556507</td>\n",
       "      <td>27.455140</td>\n",
       "      <td>1.273157</td>\n",
       "      <td>47.875943</td>\n",
       "      <td>9.054614</td>\n",
       "      <td>0.362812</td>\n",
       "      <td>7.602701</td>\n",
       "      <td>0.009545</td>\n",
       "      <td>0.021200</td>\n",
       "      <td>8.118749</td>\n",
       "      <td>37.474891</td>\n",
       "      <td>0.187293</td>\n",
       "      <td>0.237350</td>\n",
       "      <td>0.974282</td>\n",
       "      <td>633.183808</td>\n",
       "      <td>5201.230774</td>\n",
       "    </tr>\n",
       "  </tbody>\n",
       "</table>\n",
       "<p>77 rows × 23 columns</p>\n",
       "</div>"
      ],
      "text/plain": [
       "       S_Sulf    O_Sulf    Fe_Sulf   Ni_Sulf   Cu_Sulf          DNi  \\\n",
       "0   33.442289  1.541592  60.476207  2.269956  2.269956  1760.918658   \n",
       "1   33.428442  1.550047  60.481598  2.269956  2.269956  1751.307211   \n",
       "2   33.414375  1.558637  60.487076  2.269956  2.269956  1741.649166   \n",
       "3   33.400377  1.567184  60.492526  2.269956  2.269956  1732.143923   \n",
       "4   33.386191  1.575847  60.498050  2.269956  2.269956  1722.616252   \n",
       "..        ...       ...        ...       ...       ...          ...   \n",
       "72  30.752795  3.183860  61.523432  2.269956  2.269956   855.105811   \n",
       "73  30.660884  3.239983  61.559221  2.269956  2.269956   840.273755   \n",
       "74  30.566169  3.297819  61.596101  2.269956  2.269956   825.517341   \n",
       "75  30.467616  3.357997  61.634474  2.269956  2.269956   810.702650   \n",
       "76  30.430869  3.380436  61.648783  2.269956  2.269956   805.313707   \n",
       "\n",
       "            DCu          DAg        DPb       DZn         DCd        DTl  \\\n",
       "0   1078.534344  1320.153048  63.235605  2.573985  104.657038  14.991991   \n",
       "1   1074.386198  1315.280764  62.876184  2.560813  104.085937  14.943641   \n",
       "2   1070.203948  1310.368524  62.515018  2.547578  103.512067  14.894902   \n",
       "3   1066.074043  1305.517863  62.159562  2.534554  102.947276  14.846782   \n",
       "4   1061.920503  1300.639540  61.803264  2.521499  102.381153  14.798396   \n",
       "..          ...          ...        ...       ...         ...        ...   \n",
       "72   599.002787   756.774738  29.322828  1.340068   50.834570   9.449266   \n",
       "73   588.976587   744.951348  28.766578  1.320113   49.953256   9.333286   \n",
       "74   578.894798   733.057904  28.213086  1.300279   49.076435   9.216588   \n",
       "75   568.663354   720.983004  27.657324  1.280387   48.196152   9.098071   \n",
       "76   564.913744   716.556507  27.455140  1.273157   47.875943   9.054614   \n",
       "\n",
       "         DMn        DIn       DTi       DGa        DSb        DCo        DV  \\\n",
       "0   0.636055  20.419916  0.010247  0.038025  22.070096  87.802528  0.325959   \n",
       "1   0.633195  20.269386  0.010202  0.037811  21.906236  87.296940  0.324170   \n",
       "2   0.630322  20.118516  0.010157  0.037597  21.742010  86.788897  0.322379   \n",
       "3   0.627495  19.970418  0.010113  0.037387  21.580800  86.288888  0.320620   \n",
       "4   0.624662  19.822352  0.010069  0.037177  21.419627  85.787695  0.318863   \n",
       "..       ...        ...       ...       ...        ...        ...       ...   \n",
       "72  0.375836   8.147577  0.009105  0.021715   8.712247  40.100842  0.191203   \n",
       "73  0.371923   7.983530  0.009220  0.021553   8.533585  39.318737  0.189958   \n",
       "74  0.368057   7.821774  0.009347  0.021399   8.357399  38.540529  0.188785   \n",
       "75  0.364206   7.660861  0.009489  0.021251   8.182110  37.759149  0.187677   \n",
       "76  0.362812   7.602701  0.009545  0.021200   8.118749  37.474891  0.187293   \n",
       "\n",
       "         DGe       DCr    DSe_B2015     DTe_B2015  \n",
       "0   0.641998  1.949053  1643.419357  15066.955296  \n",
       "1   0.636591  1.939169  1637.246238  15020.428026  \n",
       "2   0.631184  1.929238  1630.988261  14973.045098  \n",
       "3   0.625888  1.919465  1624.774886  14925.785012  \n",
       "4   0.620604  1.909669  1618.492037  14877.779188  \n",
       "..       ...       ...          ...           ...  \n",
       "72  0.251073  1.024278   710.944049   6056.063134  \n",
       "73  0.246875  1.009363   688.046318   5804.030772  \n",
       "74  0.242790  0.994543   665.036065   5550.931539  \n",
       "75  0.238784  0.979683   641.717414   5294.818852  \n",
       "76  0.237350  0.974282   633.183808   5201.230774  \n",
       "\n",
       "[77 rows x 23 columns]"
      ]
     },
     "execution_count": 26,
     "metadata": {},
     "output_type": "execute_result"
    }
   ],
   "source": [
    "K_FeO"
   ]
  },
  {
   "cell_type": "markdown",
   "id": "37bfa0a5-ab0d-4456-b20e-c6b26e95db1d",
   "metadata": {},
   "source": [
    "## Mass Balance functions"
   ]
  },
  {
   "cell_type": "code",
   "execution_count": 30,
   "id": "d071a9f9-f801-4c87-8293-48c2df320eb8",
   "metadata": {},
   "outputs": [
    {
     "ename": "NameError",
     "evalue": "name 'MELTS' is not defined",
     "output_type": "error",
     "traceback": [
      "\u001b[1;31m---------------------------------------------------------------------------\u001b[0m",
      "\u001b[1;31mNameError\u001b[0m                                 Traceback (most recent call last)",
      "Input \u001b[1;32mIn [30]\u001b[0m, in \u001b[0;36m<cell line: 1>\u001b[1;34m()\u001b[0m\n\u001b[1;32m----> 1\u001b[0m F\u001b[38;5;241m=\u001b[39m\u001b[38;5;241m1\u001b[39m\u001b[38;5;241m/\u001b[39m\u001b[43mMELTS\u001b[49m[\u001b[38;5;124m'\u001b[39m\u001b[38;5;124mFactor\u001b[39m\u001b[38;5;124m'\u001b[39m]\n",
      "\u001b[1;31mNameError\u001b[0m: name 'MELTS' is not defined"
     ]
    }
   ],
   "source": [
    "F=1/MELTS['Factor']"
   ]
  },
  {
   "cell_type": "code",
   "execution_count": 31,
   "id": "f49352f5-5723-44f2-8406-a2c7f8423a93",
   "metadata": {},
   "outputs": [],
   "source": [
    "def crystallize_S_incomp(S_init=1200, X_melt=None):\n",
    "    S_melt_FC=S_init/X_melt\n",
    "    return S_melt_FC"
   ]
  },
  {
   "cell_type": "code",
   "execution_count": 121,
   "id": "e1a1d695-0247-4b1d-8a03-a5cb4db62300",
   "metadata": {},
   "outputs": [],
   "source": []
  },
  {
   "cell_type": "code",
   "execution_count": 122,
   "id": "b71d7b9c-2b4c-4ae4-99bf-4f9dbc28ca7c",
   "metadata": {},
   "outputs": [
    {
     "data": {
      "text/plain": [
       "124"
      ]
     },
     "execution_count": 122,
     "metadata": {},
     "output_type": "execute_result"
    }
   ],
   "source": [
    "len(ONeill_CalcSulf['SCSS2_ppm'])"
   ]
  },
  {
   "cell_type": "code",
   "execution_count": 123,
   "id": "739ef87a-f283-4366-a85a-30d4d2c25977",
   "metadata": {},
   "outputs": [],
   "source": [
    "Calc_Mass=calculate_mass_frac_sulf(SCSS=ONeill_CalcSulf['SCSS2_ppm']*s6_corr_syn,\n",
    "                         S_init=ONeill_CalcSulf['SCSS2_ppm'].iloc[0]*s6_corr_syn.iloc[0],\n",
    "                         F=F,\n",
    "                         S_sulf=np.mean(Sulfide_in['S'])*10000)"
   ]
  },
  {
   "cell_type": "code",
   "execution_count": 124,
   "id": "9f545dc3-0d61-4739-9776-5f8ef1d51318",
   "metadata": {},
   "outputs": [
    {
     "data": {
      "text/plain": [
       "Index(['SiO2_Liq', 'TiO2_Liq', 'Al2O3_Liq', 'FeOt_Liq', 'MnO_Liq', 'MgO_Liq',\n",
       "       'CaO_Liq', 'Na2O_Liq', 'K2O_Liq', 'P2O5_Liq', 'H2O_Liq', 'Fe3Fet_Liq',\n",
       "       'Ni_Liq_ppm', 'Cu_Liq_ppm', 'SiO2', 'TiO2', 'Al2O3', 'FeOt', 'MnO',\n",
       "       'MgO', 'CaO', 'Na2O', 'K2O', 'P2O5', 'H2O', 'Temp (K) MELTS', 'FeO',\n",
       "       'Fe2O3', 'H2O_Incom', 'Temp_HT1987_C', 'Factor', 'H2O_test',\n",
       "       'temp_HT87', 'Ni_modelled', 'Cu_modelled', 'S6ST'],\n",
       "      dtype='object')"
      ]
     },
     "execution_count": 124,
     "metadata": {},
     "output_type": "execute_result"
    }
   ],
   "source": [
    "Liqs.columns"
   ]
  },
  {
   "cell_type": "code",
   "execution_count": 125,
   "id": "c8221cab-98c2-4976-89f9-3997c55844b8",
   "metadata": {},
   "outputs": [
    {
     "data": {
      "text/plain": [
       "[<matplotlib.lines.Line2D at 0x28ba2c373a0>]"
      ]
     },
     "execution_count": 125,
     "metadata": {},
     "output_type": "execute_result"
    },
    {
     "data": {
      "image/png": "[encoded data removed]",
      "text/plain": [
       "<Figure size 432x288 with 1 Axes>"
      ]
     },
     "metadata": {
      "needs_background": "light"
     },
     "output_type": "display_data"
    }
   ],
   "source": [
    "plt.plot(Liqs['MgO'],ONeill_CalcSulf['SCSS2_ppm']*s6_corr_syn, '-k')"
   ]
  },
  {
   "cell_type": "code",
   "execution_count": 126,
   "id": "84990fb7-288f-4aa2-a9f5-e9bff276b8a3",
   "metadata": {},
   "outputs": [
    {
     "data": {
      "text/plain": [
       "283533.3333333334"
      ]
     },
     "execution_count": 126,
     "metadata": {},
     "output_type": "execute_result"
    }
   ],
   "source": [
    "np.mean(Sulfide_in['S'])*10000"
   ]
  },
  {
   "cell_type": "code",
   "execution_count": 127,
   "id": "1b78e443-6943-424c-95e1-80d9d712086a",
   "metadata": {},
   "outputs": [
    {
     "data": {
      "text/plain": [
       "[<matplotlib.lines.Line2D at 0x28ba13e1a00>]"
      ]
     },
     "execution_count": 127,
     "metadata": {},
     "output_type": "execute_result"
    },
    {
     "data": {
      "image/png": "[encoded data removed]",
      "text/plain": [
       "<Figure size 432x288 with 1 Axes>"
      ]
     },
     "metadata": {
      "needs_background": "light"
     },
     "output_type": "display_data"
    }
   ],
   "source": [
    "plt.plot(Liqs['MgO'],Calc_Mass, '-k')"
   ]
  },
  {
   "cell_type": "code",
   "execution_count": 132,
   "id": "ae28fcab-66d9-44ea-aee0-226b31fb8941",
   "metadata": {},
   "outputs": [
    {
     "data": {
      "text/plain": [
       "0         0.000000\n",
       "1        26.251440\n",
       "2        53.634342\n",
       "3        85.125076\n",
       "4       102.687897\n",
       "          ...     \n",
       "119    1531.406731\n",
       "120    1532.251812\n",
       "121    1533.063891\n",
       "122    1534.049116\n",
       "123    1535.303820\n",
       "Length: 124, dtype: float64"
      ]
     },
     "execution_count": 132,
     "metadata": {},
     "output_type": "execute_result"
    }
   ],
   "source": [
    "Calc_Mass*320000"
   ]
  },
  {
   "cell_type": "markdown",
   "id": "6219139d-e6f6-4f99-97e2-3bd23042d7e3",
   "metadata": {},
   "source": [
    "## Amount of sulfide precipitated\n",
    "- Can write as a mass balance.\n",
    "\n",
    "S$_{Tot}$ = S$_{Melt}$* (2-X$_{sulf}$) + S$_{sulf}$*(X$_{sulf}$)\n",
    "\n",
    "X$_{sulf}$ = (S$_{Tot}$  - S$_{Melt}$ )/(S$_{sulf}$ - S$_{Melt}$)"
   ]
  },
  {
   "cell_type": "code",
   "execution_count": null,
   "id": "041bf50e-521c-47dc-ace0-fb159f438870",
   "metadata": {},
   "outputs": [],
   "source": []
  },
  {
   "cell_type": "code",
   "execution_count": 129,
   "id": "d2cbfc0e-8e1e-4ebd-8fbc-cf380f25bf8c",
   "metadata": {},
   "outputs": [
    {
     "data": {
      "text/plain": [
       "283533.3333333334"
      ]
     },
     "execution_count": 129,
     "metadata": {},
     "output_type": "execute_result"
    }
   ],
   "source": [
    "# Mean S in sulfide\n",
    "S_sulf=np.mean(Sulfide_in['S'])*10000\n",
    "S_sulf"
   ]
  },
  {
   "cell_type": "code",
   "execution_count": 130,
   "id": "1708a51e-a9a6-4584-9e98-33b940efd77d",
   "metadata": {},
   "outputs": [],
   "source": [
    "X_sulf= (S_Incomp-ONeill_CalcSulf['SCSS2_ppm']*s6_corr_syn)/(S_sulf-ONeill_CalcSulf['SCSS2_ppm']*s6_corr_syn)"
   ]
  },
  {
   "cell_type": "code",
   "execution_count": 131,
   "id": "804a150a-deb7-4eb7-8345-6e4458f2e290",
   "metadata": {},
   "outputs": [
    {
     "data": {
      "text/plain": [
       "Text(0, 0.5, 'Sulf frac')"
      ]
     },
     "execution_count": 131,
     "metadata": {},
     "output_type": "execute_result"
    },
    {
     "data": {
      "image/png": "[encoded data removed]",
      "text/plain": [
       "<Figure size 432x288 with 1 Axes>"
      ]
     },
     "metadata": {
      "needs_background": "light"
     },
     "output_type": "display_data"
    }
   ],
   "source": [
    "plt.plot(MELTS['MgO'], X_sulf, '-k')\n",
    "plt.plot(MELTS['MgO'],Calc_Mass, '-r')\n",
    "plt.xlabel('MgO')\n",
    "plt.ylabel('Sulf frac')"
   ]
  },
  {
   "cell_type": "markdown",
   "id": "cfd840f3-12ff-4460-93c3-c34860cf1de6",
   "metadata": {},
   "source": [
    "## This needs work, but this is just a quick proof of concept\n",
    "- have asked emma if she is interested in this"
   ]
  },
  {
   "cell_type": "code",
   "execution_count": null,
   "id": "6353e9ea-4edb-4bdc-95b2-46351d2f88b5",
   "metadata": {},
   "outputs": [],
   "source": [
    "# Steorological corrections from Higgins et al. (2000) - "
   ]
  },
  {
   "cell_type": "code",
   "execution_count": 47,
   "id": "0bcb76f8-5eaf-476f-9097-88ac41973217",
   "metadata": {},
   "outputs": [
    {
     "data": {
      "image/png": "[encoded data removed]",
      "text/plain": [
       "<Figure size 360x360 with 1 Axes>"
      ]
     },
     "metadata": {
      "needs_background": "light"
     },
     "output_type": "display_data"
    }
   ],
   "source": [
    "from matplotlib import patches\n",
    "x_len_mm=1\n",
    "y_len_mm=1\n",
    "rect = patches.Rectangle((0,0),x_len_mm,y_len_mm,linewidth=1,edgecolor='r',facecolor='red', label='test')\n",
    "fig, (ax1) = plt.subplots(1, 1, figsize=(5,5), sharey=True)\n",
    "# Add the patch to the Axes\n",
    "ax1.add_patch(rect)\n",
    "\n",
    "area_rect=x_len_mm*y_len_mm\n",
    "Vol_frac=0.1\n",
    "area_sulf=area_rect*Vol_frac\n",
    "sulf_rad=10*10**(-3)\n",
    "area_1sulf=np.pi*sulf_rad**2\n",
    "number_sulf=area_sulf/area_1sulf\n",
    "circ1=patches.Circle((0.5, 0.5), sulf_rad, edgecolor='k', facecolor='yellow')\n",
    "ax1.add_patch(circ1)\n",
    "for i in range(0, int(np.round(number_sulf))):\n",
    "    circ=patches.Circle((np.random.uniform(0.02, 0.98), np.random.uniform(0.02, 0.98)),\n",
    "                        sulf_rad, edgecolor='k', facecolor='yellow')\n",
    "    ax1.add_patch(circ)\n",
    "    \n",
    "ax1.set_title('Sulf fraction:' + str(Vol_frac))\n",
    "\n",
    "ax1.axes.yaxis.set_visible(False)\n",
    "ax1.axes.xaxis.set_visible(False)"
   ]
  },
  {
   "cell_type": "code",
   "execution_count": 20,
   "id": "b93e53bc-3804-4a76-a933-3e407d9cbf38",
   "metadata": {},
   "outputs": [
    {
     "data": {
      "text/plain": [
       "32.0"
      ]
     },
     "execution_count": 20,
     "metadata": {},
     "output_type": "execute_result"
    }
   ],
   "source": [
    "np.round(number_sulf)"
   ]
  },
  {
   "cell_type": "code",
   "execution_count": null,
   "id": "7ce25f82-5db5-4040-bccf-8707b0c78d8e",
   "metadata": {},
   "outputs": [],
   "source": []
  }
 ],
 "metadata": {
  "kernelspec": {
   "display_name": "Python 3 (ipykernel)",
   "language": "python",
   "name": "python3"
  },
  "language_info": {
   "codemirror_mode": {
    "name": "ipython",
    "version": 3
   },
   "file_extension": ".py",
   "mimetype": "text/x-python",
   "name": "python",
   "nbconvert_exporter": "python",
   "pygments_lexer": "ipython3",
   "version": "3.9.12"
  }
 },
 "nbformat": 4,
 "nbformat_minor": 5
}
