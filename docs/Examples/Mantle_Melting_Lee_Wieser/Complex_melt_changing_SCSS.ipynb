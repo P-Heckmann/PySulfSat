{
 "cells": [
  {
   "cell_type": "markdown",
   "metadata": {},
   "source": [
    "# Calculating sulfur and trace element evaluation during mantle melting with changing SCSS and K$_D$s\n",
    "- This notebook shows how to use the mantle melting model of Lee et al. (2012) adapted by Wieser et al. (2020) to model how S, Cu and other chalcophile or lithophile elements evolve during mantle melting\n",
    "- For more information on how the math works, we direct you towards the supporting information of Wieser et al (2020) - https://doi.org/10.1016/j.gca.2020.05.018 - Where the equations are typed out in detail\n",
    "- Here, we do the more complex example where"
   ]
  },
  {
   "cell_type": "markdown",
   "metadata": {},
   "source": [
    "## Loading libraries"
   ]
  },
  {
   "cell_type": "code",
   "execution_count": 1,
   "metadata": {},
   "outputs": [],
   "source": [
    "import numpy as np\n",
    "import pandas as pd\n",
    "import matplotlib.pyplot as plt\n",
    "import PySulfSat as ss"
   ]
  },
  {
   "cell_type": "markdown",
   "metadata": {},
   "source": [
    "## Example 1 - Non fixed S content\n",
    "- The examples in the other workbook assume that S is fixed throughout the melting interval\n",
    "- However, we know the concentration of mantle melts changes with increasing F, so ideally, we'd calculate how much S those melts can hold\n",
    "- We can do this using an output from a melting model (here, Thermocalc). "
   ]
  },
  {
   "cell_type": "code",
   "execution_count": 2,
   "metadata": {},
   "outputs": [],
   "source": [
    "# Load a generic dataframe\n",
    "Thermocalc_df=pd.read_excel('Thermocalc_Melting_Path.xlsx')"
   ]
  },
  {
   "cell_type": "code",
   "execution_count": 3,
   "metadata": {},
   "outputs": [
    {
     "name": "stdout",
     "output_type": "stream",
     "text": [
      "We have replaced all missing liquid oxides and strings with zeros. \n"
     ]
    }
   ],
   "source": [
    "# Load a dataframe for calculating SCSS for these melt comps\n",
    "Thermo_df_ss=ss.import_data('Thermocalc_Melting_Path.xlsx', \n",
    "                    suffix='_Liq')"
   ]
  },
  {
   "cell_type": "markdown",
   "metadata": {},
   "source": [
    "### Extract the modes from Thermocalc"
   ]
  },
  {
   "cell_type": "code",
   "execution_count": 4,
   "metadata": {},
   "outputs": [],
   "source": [
    "Modes3=pd.DataFrame(data={'ol': Thermocalc_df['ol'],\n",
    "                        'cpx': Thermocalc_df['cpx'],\n",
    "                        'opx': Thermocalc_df['opx'],\n",
    "                        'sp': Thermocalc_df['sp'],\n",
    "                        'gt': Thermocalc_df['g']*0})"
   ]
  },
  {
   "cell_type": "markdown",
   "metadata": {},
   "source": [
    "### Lets calculate the SCSS using ONeill (2021)\n",
    "- Wieser et al. (2020) show that the calculated sulfide composition isn't very reliable at mantle PT, so we use a fixed mantle S composition of Fe/(Fe+Ni+Cu)=0.634"
   ]
  },
  {
   "cell_type": "code",
   "execution_count": 5,
   "metadata": {},
   "outputs": [
    {
     "name": "stdout",
     "output_type": "stream",
     "text": [
      "Using inputted Fe_FeNiCu_Sulf ratio for calculations.\n"
     ]
    },
    {
     "data": {
      "text/html": [
       "<div>\n",
       "<style scoped>\n",
       "    .dataframe tbody tr th:only-of-type {\n",
       "        vertical-align: middle;\n",
       "    }\n",
       "\n",
       "    .dataframe tbody tr th {\n",
       "        vertical-align: top;\n",
       "    }\n",
       "\n",
       "    .dataframe thead th {\n",
       "        text-align: right;\n",
       "    }\n",
       "</style>\n",
       "<table border=\"1\" class=\"dataframe\">\n",
       "  <thead>\n",
       "    <tr style=\"text-align: right;\">\n",
       "      <th></th>\n",
       "      <th>SCSS2_ppm</th>\n",
       "      <th>LnS</th>\n",
       "      <th>Ln_a_FeO</th>\n",
       "      <th>Ln_a_FeS</th>\n",
       "      <th>DeltaG</th>\n",
       "      <th>LnCS2_calc</th>\n",
       "      <th>SiO2_Liq</th>\n",
       "      <th>TiO2_Liq</th>\n",
       "      <th>Al2O3_Liq</th>\n",
       "      <th>FeOt_Liq</th>\n",
       "      <th>...</th>\n",
       "      <th>Cu Aggregated  (200 ppm S)</th>\n",
       "      <th>S aggregated  (200 ppm S)</th>\n",
       "      <th>Cu instantaneous (150 ppm S)</th>\n",
       "      <th>Cu Aggregated  (150 ppm S)</th>\n",
       "      <th>S aggregated  (150 ppm S)</th>\n",
       "      <th>Cu instantaneous (100 ppm S)</th>\n",
       "      <th>Cu Aggregated  (100 ppm S)</th>\n",
       "      <th>S aggregated  (100 ppm S)</th>\n",
       "      <th>S Instant (SCSS)</th>\n",
       "      <th>Fe_FeNiCu_Sulf_calc</th>\n",
       "    </tr>\n",
       "  </thead>\n",
       "  <tbody>\n",
       "    <tr>\n",
       "      <th>0</th>\n",
       "      <td>1015.610668</td>\n",
       "      <td>6.923245</td>\n",
       "      <td>-2.229336</td>\n",
       "      <td>-0.529123</td>\n",
       "      <td>6.105676</td>\n",
       "      <td>-0.882644</td>\n",
       "      <td>48.30</td>\n",
       "      <td>0.0</td>\n",
       "      <td>15.09</td>\n",
       "      <td>9.40</td>\n",
       "      <td>...</td>\n",
       "      <td>0.000000</td>\n",
       "      <td>1094.512966</td>\n",
       "      <td>0.000000</td>\n",
       "      <td>0.000000</td>\n",
       "      <td>1094.512966</td>\n",
       "      <td>0.000000</td>\n",
       "      <td>0.000000</td>\n",
       "      <td>1094.512966</td>\n",
       "      <td>1094.512966</td>\n",
       "      <td>0.634</td>\n",
       "    </tr>\n",
       "    <tr>\n",
       "      <th>1</th>\n",
       "      <td>1026.745602</td>\n",
       "      <td>6.934149</td>\n",
       "      <td>-2.231155</td>\n",
       "      <td>-0.529223</td>\n",
       "      <td>6.098787</td>\n",
       "      <td>-0.866569</td>\n",
       "      <td>48.20</td>\n",
       "      <td>0.0</td>\n",
       "      <td>15.07</td>\n",
       "      <td>9.41</td>\n",
       "      <td>...</td>\n",
       "      <td>69.809653</td>\n",
       "      <td>1094.512966</td>\n",
       "      <td>81.443325</td>\n",
       "      <td>81.443325</td>\n",
       "      <td>1094.512966</td>\n",
       "      <td>97.729855</td>\n",
       "      <td>97.729855</td>\n",
       "      <td>1094.512966</td>\n",
       "      <td>1094.512966</td>\n",
       "      <td>0.634</td>\n",
       "    </tr>\n",
       "    <tr>\n",
       "      <th>2</th>\n",
       "      <td>1037.848819</td>\n",
       "      <td>6.944905</td>\n",
       "      <td>-2.233686</td>\n",
       "      <td>-0.529344</td>\n",
       "      <td>6.091909</td>\n",
       "      <td>-0.851345</td>\n",
       "      <td>48.11</td>\n",
       "      <td>0.0</td>\n",
       "      <td>15.04</td>\n",
       "      <td>9.42</td>\n",
       "      <td>...</td>\n",
       "      <td>70.208767</td>\n",
       "      <td>1165.713498</td>\n",
       "      <td>82.517835</td>\n",
       "      <td>81.980580</td>\n",
       "      <td>1165.713498</td>\n",
       "      <td>99.263590</td>\n",
       "      <td>98.496722</td>\n",
       "      <td>1165.713498</td>\n",
       "      <td>1236.914031</td>\n",
       "      <td>0.634</td>\n",
       "    </tr>\n",
       "    <tr>\n",
       "      <th>3</th>\n",
       "      <td>1049.219776</td>\n",
       "      <td>6.955802</td>\n",
       "      <td>-2.235786</td>\n",
       "      <td>-0.529426</td>\n",
       "      <td>6.085093</td>\n",
       "      <td>-0.835650</td>\n",
       "      <td>48.02</td>\n",
       "      <td>0.0</td>\n",
       "      <td>15.02</td>\n",
       "      <td>9.43</td>\n",
       "      <td>...</td>\n",
       "      <td>70.634378</td>\n",
       "      <td>1196.253703</td>\n",
       "      <td>83.710621</td>\n",
       "      <td>82.557260</td>\n",
       "      <td>1196.253703</td>\n",
       "      <td>100.988882</td>\n",
       "      <td>99.327442</td>\n",
       "      <td>1196.253703</td>\n",
       "      <td>1257.334112</td>\n",
       "      <td>0.634</td>\n",
       "    </tr>\n",
       "    <tr>\n",
       "      <th>4</th>\n",
       "      <td>1060.441357</td>\n",
       "      <td>6.966440</td>\n",
       "      <td>-2.237817</td>\n",
       "      <td>-0.529535</td>\n",
       "      <td>6.078288</td>\n",
       "      <td>-0.820130</td>\n",
       "      <td>47.93</td>\n",
       "      <td>0.0</td>\n",
       "      <td>14.99</td>\n",
       "      <td>9.44</td>\n",
       "      <td>...</td>\n",
       "      <td>71.082028</td>\n",
       "      <td>1213.727431</td>\n",
       "      <td>84.999914</td>\n",
       "      <td>83.167924</td>\n",
       "      <td>1213.727431</td>\n",
       "      <td>102.880676</td>\n",
       "      <td>100.215751</td>\n",
       "      <td>1213.727431</td>\n",
       "      <td>1266.148614</td>\n",
       "      <td>0.634</td>\n",
       "    </tr>\n",
       "  </tbody>\n",
       "</table>\n",
       "<p>5 rows × 55 columns</p>\n",
       "</div>"
      ],
      "text/plain": [
       "     SCSS2_ppm       LnS  Ln_a_FeO  Ln_a_FeS    DeltaG  LnCS2_calc  SiO2_Liq  \\\n",
       "0  1015.610668  6.923245 -2.229336 -0.529123  6.105676   -0.882644     48.30   \n",
       "1  1026.745602  6.934149 -2.231155 -0.529223  6.098787   -0.866569     48.20   \n",
       "2  1037.848819  6.944905 -2.233686 -0.529344  6.091909   -0.851345     48.11   \n",
       "3  1049.219776  6.955802 -2.235786 -0.529426  6.085093   -0.835650     48.02   \n",
       "4  1060.441357  6.966440 -2.237817 -0.529535  6.078288   -0.820130     47.93   \n",
       "\n",
       "   TiO2_Liq  Al2O3_Liq  FeOt_Liq  ...  Cu Aggregated  (200 ppm S)  \\\n",
       "0       0.0      15.09      9.40  ...                    0.000000   \n",
       "1       0.0      15.07      9.41  ...                   69.809653   \n",
       "2       0.0      15.04      9.42  ...                   70.208767   \n",
       "3       0.0      15.02      9.43  ...                   70.634378   \n",
       "4       0.0      14.99      9.44  ...                   71.082028   \n",
       "\n",
       "   S aggregated  (200 ppm S)  Cu instantaneous (150 ppm S)  \\\n",
       "0                1094.512966                      0.000000   \n",
       "1                1094.512966                     81.443325   \n",
       "2                1165.713498                     82.517835   \n",
       "3                1196.253703                     83.710621   \n",
       "4                1213.727431                     84.999914   \n",
       "\n",
       "   Cu Aggregated  (150 ppm S)  S aggregated  (150 ppm S)  \\\n",
       "0                    0.000000                1094.512966   \n",
       "1                   81.443325                1094.512966   \n",
       "2                   81.980580                1165.713498   \n",
       "3                   82.557260                1196.253703   \n",
       "4                   83.167924                1213.727431   \n",
       "\n",
       "   Cu instantaneous (100 ppm S)  Cu Aggregated  (100 ppm S)  \\\n",
       "0                      0.000000                    0.000000   \n",
       "1                     97.729855                   97.729855   \n",
       "2                     99.263590                   98.496722   \n",
       "3                    100.988882                   99.327442   \n",
       "4                    102.880676                  100.215751   \n",
       "\n",
       "   S aggregated  (100 ppm S)  S Instant (SCSS)  Fe_FeNiCu_Sulf_calc  \n",
       "0                1094.512966       1094.512966                0.634  \n",
       "1                1094.512966       1094.512966                0.634  \n",
       "2                1165.713498       1236.914031                0.634  \n",
       "3                1196.253703       1257.334112                0.634  \n",
       "4                1213.727431       1266.148614                0.634  \n",
       "\n",
       "[5 rows x 55 columns]"
      ]
     },
     "execution_count": 5,
     "metadata": {},
     "output_type": "execute_result"
    }
   ],
   "source": [
    "SCSS_fixedSulf=ss.calculate_O2021_SCSS(df=Thermo_df_ss,\n",
    "T_K=Thermocalc_df['T']+273.15, P_kbar=Thermocalc_df['P'],\n",
    "Fe_FeNiCu_Sulf=0.634)\n",
    "SCSS_fixedSulf.head()"
   ]
  },
  {
   "cell_type": "markdown",
   "metadata": {},
   "source": [
    "### Now we are ready to model S-Cu\n",
    "- instead of inputting a single value for S_melt_SCSS_2, we input the pandas dataframe. "
   ]
  },
  {
   "cell_type": "code",
   "execution_count": 14,
   "metadata": {},
   "outputs": [],
   "source": [
    "KDs_Cu=pd.DataFrame(data={'element': 'Cu',\n",
    "        'ol': 0.048, 'opx': 0.034, \n",
    "        'cpx': 0.043, 'sp': 0.223, \n",
    "        'gt': 0, 'sulf': 800}, index=[0])\n",
    "\n",
    "Modes=pd.DataFrame(data={'ol': 0.6, 'opx': 0.2, \n",
    "       'cpx': 0.18, 'sp': 0.02, 'gt': 0}, index=[0])\n",
    "\n",
    "# Lets run the simple model for comparison\n",
    "S_Sulf = 38*(10**4)\n",
    "df_Cu_200S=ss.Lee_Wieser_sulfide_melting(N=len(Modes3), Modes=Modes,\n",
    "                        M_Max=0.2,\n",
    "                        KDs=KDs_Cu,\n",
    "                        S_Sulf=S_Sulf, elem_Per=30,\n",
    "                        S_Mantle=[200],\n",
    "                        S_Melt_SCSS_2=1000,\n",
    "                         Prop_S6=0)\n",
    "# Now lets change S\n",
    "\n",
    "df_Cu_200S_Thermocalc=ss.Lee_Wieser_sulfide_melting(N=len(Modes3), \n",
    "                        Modes=Modes3,\n",
    "                        M_Max=0.01,\n",
    "                        KDs=KDs_Cu,\n",
    "                        S_Sulf=S_Sulf, elem_Per=30,\n",
    "                        S_Mantle=[200],\n",
    "                        S_Melt_SCSS_2=SCSS_fixedSulf['SCSS2_ppm'],\n",
    "                         Prop_S6=0)"
   ]
  },
  {
   "cell_type": "code",
   "execution_count": 22,
   "metadata": {},
   "outputs": [
    {
     "data": {
      "text/plain": [
       "[<matplotlib.lines.Line2D at 0x2474f6dbc10>]"
      ]
     },
     "execution_count": 22,
     "metadata": {},
     "output_type": "execute_result"
    },
    {
     "data": {
      "image/png": "[encoded data removed]",
      "text/plain": [
       "<Figure size 1000x400 with 2 Axes>"
      ]
     },
     "metadata": {},
     "output_type": "display_data"
    }
   ],
   "source": [
    "fig, ((ax1, ax2)) = plt.subplots(1, 2, figsize=(10,4))\n",
    "# 100 ppm\n",
    "ax1.plot(df_Cu_200S['F'].iloc[1:], \n",
    "         df_Cu_200S['Cu_Melt_Agg'].iloc[1:],\n",
    "        '-',color='m', ms=10, label='Cu, S=200, fixed SCSS')\n",
    "# Lets add a cross to show the point at which sulfide is exhausted\n",
    "sulf_out_200=np.take(np.where(df_Cu_200S['S_Residue']==0), 0)\n",
    "ax1.plot(df_Cu_200S['F'].loc[sulf_out_200], \n",
    "         df_Cu_200S['Cu_Melt_Agg'].loc[sulf_out_200],\n",
    "        '*k', ms=10, label='Sulf out')\n",
    "\n",
    "\n",
    "ax1.plot(df_Cu_200S_Thermocalc['F'].iloc[1:], \n",
    "         df_Cu_200S_Thermocalc['Cu_Melt_Agg'].iloc[1:],\n",
    "        '-',color='c', ms=10, label='Cu, S=200, fixed SCSS')\n",
    "# Lets add a cross to show the point at which sulfide is exhausted\n",
    "sulf_out_200=np.take(np.where(df_Cu_200S_Thermocalc['S_Residue']==0), 0)\n",
    "ax1.plot(df_Cu_200S_Thermocalc['F'].loc[sulf_out_200], \n",
    "         df_Cu_200S_Thermocalc['Cu_Melt_Agg'].loc[sulf_out_200],\n",
    "        '*k', ms=10, label='Sulf out')\n",
    "ax1.set_xlim([0, 0.5])\n",
    "ax1.set_xlabel('F')\n",
    "ax1.set_ylabel('Cu (ppm')\n",
    "\n",
    "# Plot S in source\n",
    "ax2.plot(df_Cu_200S['F'].iloc[1:], \n",
    "         df_Cu_200S['S_Melt'].iloc[1:],\n",
    "        '-',color='m', ms=10, label='Cu, S=200, fixed SCSS')\n",
    "\n",
    "ax2.plot(df_Cu_200S_Thermocalc['F'].iloc[1:], \n",
    "         df_Cu_200S_Thermocalc['S_Melt'].iloc[1:],\n",
    "        '-',color='c', ms=10, label='Cu, S=200, fixed SCSS')"
   ]
  },
  {
   "cell_type": "markdown",
   "metadata": {},
   "source": [
    "## Example 4 - Variable KD\n",
    "- We can be even 'cleverer' than this. So far, we have assumed the KDs stay constant, but that isn't the case. We know from Kiseeva et al. (2015) that the KD of Cu in the sulfide depends on the FeOt content of the melt, the sulfide composition and the temperature. \n",
    "- So what we do first, is we create "
   ]
  },
  {
   "cell_type": "code",
   "execution_count": null,
   "metadata": {},
   "outputs": [
    {
     "name": "stderr",
     "output_type": "stream",
     "text": [
      "g:\\my drive\\berkeley_new\\pysulfsat\\pysulfsat_structure\\src\\PySulfSat\\mantle_melting.py:42: UserWarning: You have inputted a dataframe of silicate modes that doesnt match the number of steps you asked for. We are changing the number of steps to match the length of your dataframe\n",
      "  w.warn('You have inputted a dataframe of silicate modes that doesnt match the number of steps you asked for. We are changing the number of steps to match the length of your dataframe')\n"
     ]
    },
    {
     "data": {
      "text/html": [
       "<div>\n",
       "<style scoped>\n",
       "    .dataframe tbody tr th:only-of-type {\n",
       "        vertical-align: middle;\n",
       "    }\n",
       "\n",
       "    .dataframe tbody tr th {\n",
       "        vertical-align: top;\n",
       "    }\n",
       "\n",
       "    .dataframe thead th {\n",
       "        text-align: right;\n",
       "    }\n",
       "</style>\n",
       "<table border=\"1\" class=\"dataframe\">\n",
       "  <thead>\n",
       "    <tr style=\"text-align: right;\">\n",
       "      <th></th>\n",
       "      <th>F</th>\n",
       "      <th>M</th>\n",
       "      <th>Ba_KD</th>\n",
       "      <th>Ba_Melt_Agg</th>\n",
       "      <th>Ba_Melt_Inst</th>\n",
       "      <th>Ba_residue</th>\n",
       "      <th>S_residue</th>\n",
       "      <th>S_Melt</th>\n",
       "      <th>XSulf</th>\n",
       "    </tr>\n",
       "  </thead>\n",
       "  <tbody>\n",
       "    <tr>\n",
       "      <th>0</th>\n",
       "      <td>0.000000</td>\n",
       "      <td>1.000000</td>\n",
       "      <td>0.004534</td>\n",
       "      <td>0.000000</td>\n",
       "      <td>0.000000</td>\n",
       "      <td>30.000000</td>\n",
       "      <td>200.000000</td>\n",
       "      <td>980.787209</td>\n",
       "      <td>0.000550</td>\n",
       "    </tr>\n",
       "    <tr>\n",
       "      <th>1</th>\n",
       "      <td>0.000764</td>\n",
       "      <td>0.999236</td>\n",
       "      <td>0.004534</td>\n",
       "      <td>5666.018119</td>\n",
       "      <td>5666.018119</td>\n",
       "      <td>25.688087</td>\n",
       "      <td>199.402648</td>\n",
       "      <td>980.787209</td>\n",
       "      <td>0.000548</td>\n",
       "    </tr>\n",
       "    <tr>\n",
       "      <th>2</th>\n",
       "      <td>0.001529</td>\n",
       "      <td>0.998471</td>\n",
       "      <td>0.004533</td>\n",
       "      <td>5258.648753</td>\n",
       "      <td>4851.279386</td>\n",
       "      <td>21.993376</td>\n",
       "      <td>198.804381</td>\n",
       "      <td>980.787209</td>\n",
       "      <td>0.000547</td>\n",
       "    </tr>\n",
       "    <tr>\n",
       "      <th>3</th>\n",
       "      <td>0.002293</td>\n",
       "      <td>0.997707</td>\n",
       "      <td>0.004533</td>\n",
       "      <td>4890.170026</td>\n",
       "      <td>4153.212573</td>\n",
       "      <td>18.827887</td>\n",
       "      <td>198.205198</td>\n",
       "      <td>980.787209</td>\n",
       "      <td>0.000545</td>\n",
       "    </tr>\n",
       "    <tr>\n",
       "      <th>4</th>\n",
       "      <td>0.003058</td>\n",
       "      <td>0.996942</td>\n",
       "      <td>0.004533</td>\n",
       "      <td>4556.422344</td>\n",
       "      <td>3555.179297</td>\n",
       "      <td>16.116129</td>\n",
       "      <td>197.605096</td>\n",
       "      <td>980.787209</td>\n",
       "      <td>0.000543</td>\n",
       "    </tr>\n",
       "  </tbody>\n",
       "</table>\n",
       "</div>"
      ],
      "text/plain": [
       "          F         M     Ba_KD  Ba_Melt_Agg  Ba_Melt_Inst  Ba_residue  \\\n",
       "0  0.000000  1.000000  0.004534     0.000000      0.000000   30.000000   \n",
       "1  0.000764  0.999236  0.004534  5666.018119   5666.018119   25.688087   \n",
       "2  0.001529  0.998471  0.004533  5258.648753   4851.279386   21.993376   \n",
       "3  0.002293  0.997707  0.004533  4890.170026   4153.212573   18.827887   \n",
       "4  0.003058  0.996942  0.004533  4556.422344   3555.179297   16.116129   \n",
       "\n",
       "    S_residue      S_Melt     XSulf  \n",
       "0  200.000000  980.787209  0.000550  \n",
       "1  199.402648  980.787209  0.000548  \n",
       "2  198.804381  980.787209  0.000547  \n",
       "3  198.205198  980.787209  0.000545  \n",
       "4  197.605096  980.787209  0.000543  "
      ]
     },
     "execution_count": 15,
     "metadata": {},
     "output_type": "execute_result"
    }
   ],
   "source": [
    "df_Ba_200S_changeSi=ss.Lee_Wieser_sulfide_melting(N=3000, \n",
    "                        Modes=Modes2,\n",
    "                        M_Max=0.01,\n",
    "                        KDs=KDs_Ba,\n",
    "                        S_Sulf=363636, elem_Per=30,\n",
    "                        S_Mantle=[200],\n",
    "                        S_Melt_SCSS_2=980.7872088,\n",
    "                         Prop_S6=0)\n",
    "df_Ba_200S_changeSi.head()\n"
   ]
  },
  {
   "cell_type": "code",
   "execution_count": null,
   "metadata": {},
   "outputs": [
    {
     "data": {
      "text/plain": [
       "[<matplotlib.lines.Line2D at 0x1d4722a9730>]"
      ]
     },
     "execution_count": 16,
     "metadata": {},
     "output_type": "execute_result"
    },
    {
     "data": {
      "image/png": "[encoded data removed]",
      "text/plain": [
       "<Figure size 1000x500 with 2 Axes>"
      ]
     },
     "metadata": {},
     "output_type": "display_data"
    }
   ],
   "source": [
    "fig, (ax1, ax2) = plt.subplots(1, 2, figsize=(10,5))\n",
    "ax1.plot(df_Cu_200S_changeSi['F'],\n",
    "         df_Cu_200S_changeSi['Cu_Melt_Agg'],\n",
    "         '-.', color='m')\n",
    "ax1.plot(df_Cu_300S_changeSi['F'],\n",
    "         df_Cu_300S_changeSi['Cu_Melt_Agg'],\n",
    "         ':', color='m')\n",
    "ax1.plot(df_Cu_100S_changeSi['F'],\n",
    "         df_Cu_100S_changeSi['Cu_Melt_Agg'],\n",
    "         '-', color='m')\n",
    "ax1.plot(df_Ba_200S_changeSi['F'],\n",
    "         df_Ba_200S_changeSi['Ba_Melt_Agg'],\n",
    "         '-', color='k')\n",
    "         "
   ]
  },
  {
   "cell_type": "code",
   "execution_count": null,
   "metadata": {},
   "outputs": [
    {
     "data": {
      "text/html": [
       "<div>\n",
       "<style scoped>\n",
       "    .dataframe tbody tr th:only-of-type {\n",
       "        vertical-align: middle;\n",
       "    }\n",
       "\n",
       "    .dataframe tbody tr th {\n",
       "        vertical-align: top;\n",
       "    }\n",
       "\n",
       "    .dataframe thead th {\n",
       "        text-align: right;\n",
       "    }\n",
       "</style>\n",
       "<table border=\"1\" class=\"dataframe\">\n",
       "  <thead>\n",
       "    <tr style=\"text-align: right;\">\n",
       "      <th></th>\n",
       "      <th>F</th>\n",
       "      <th>M</th>\n",
       "      <th>Cu_KD_100</th>\n",
       "    </tr>\n",
       "  </thead>\n",
       "  <tbody>\n",
       "    <tr>\n",
       "      <th>0</th>\n",
       "      <td>1.000000</td>\n",
       "      <td>0.000000</td>\n",
       "      <td>0.00000</td>\n",
       "    </tr>\n",
       "    <tr>\n",
       "      <th>1</th>\n",
       "      <td>0.989899</td>\n",
       "      <td>0.010101</td>\n",
       "      <td>0.00101</td>\n",
       "    </tr>\n",
       "    <tr>\n",
       "      <th>2</th>\n",
       "      <td>0.979798</td>\n",
       "      <td>0.020202</td>\n",
       "      <td>0.00202</td>\n",
       "    </tr>\n",
       "    <tr>\n",
       "      <th>3</th>\n",
       "      <td>0.969697</td>\n",
       "      <td>0.030303</td>\n",
       "      <td>0.00303</td>\n",
       "    </tr>\n",
       "    <tr>\n",
       "      <th>4</th>\n",
       "      <td>0.959596</td>\n",
       "      <td>0.040404</td>\n",
       "      <td>0.00404</td>\n",
       "    </tr>\n",
       "    <tr>\n",
       "      <th>...</th>\n",
       "      <td>...</td>\n",
       "      <td>...</td>\n",
       "      <td>...</td>\n",
       "    </tr>\n",
       "    <tr>\n",
       "      <th>95</th>\n",
       "      <td>0.040404</td>\n",
       "      <td>0.959596</td>\n",
       "      <td>0.09596</td>\n",
       "    </tr>\n",
       "    <tr>\n",
       "      <th>96</th>\n",
       "      <td>0.030303</td>\n",
       "      <td>0.969697</td>\n",
       "      <td>0.09697</td>\n",
       "    </tr>\n",
       "    <tr>\n",
       "      <th>97</th>\n",
       "      <td>0.020202</td>\n",
       "      <td>0.979798</td>\n",
       "      <td>0.09798</td>\n",
       "    </tr>\n",
       "    <tr>\n",
       "      <th>98</th>\n",
       "      <td>0.010101</td>\n",
       "      <td>0.989899</td>\n",
       "      <td>0.09899</td>\n",
       "    </tr>\n",
       "    <tr>\n",
       "      <th>99</th>\n",
       "      <td>0.000000</td>\n",
       "      <td>1.000000</td>\n",
       "      <td>0.10000</td>\n",
       "    </tr>\n",
       "  </tbody>\n",
       "</table>\n",
       "<p>100 rows × 3 columns</p>\n",
       "</div>"
      ],
      "text/plain": [
       "           F         M  Cu_KD_100\n",
       "0   1.000000  0.000000    0.00000\n",
       "1   0.989899  0.010101    0.00101\n",
       "2   0.979798  0.020202    0.00202\n",
       "3   0.969697  0.030303    0.00303\n",
       "4   0.959596  0.040404    0.00404\n",
       "..       ...       ...        ...\n",
       "95  0.040404  0.959596    0.09596\n",
       "96  0.030303  0.969697    0.09697\n",
       "97  0.020202  0.979798    0.09798\n",
       "98  0.010101  0.989899    0.09899\n",
       "99  0.000000  1.000000    0.10000\n",
       "\n",
       "[100 rows x 3 columns]"
      ]
     },
     "execution_count": 17,
     "metadata": {},
     "output_type": "execute_result"
    }
   ],
   "source": [
    "elx='Cu'\n",
    "ely='100'\n",
    "M=np.linspace(0, 1, 100)\n",
    "Kd_Cu=M*0.1\n",
    "df_out_S0=pd.DataFrame(data={'F': 1-M,\n",
    "                        'M': M,                     \n",
    "                    '{}_KD_{}'.format(elx, ely): Kd_Cu})\n",
    "df_out_S0 "
   ]
  },
  {
   "cell_type": "code",
   "execution_count": null,
   "metadata": {},
   "outputs": [],
   "source": [
    "plt.plot(df_Ba_200S_changeSi['F'],\n"
   ]
  }
 ],
 "metadata": {
  "kernelspec": {
   "display_name": "Python 3 (ipykernel)",
   "language": "python",
   "name": "python3"
  },
  "language_info": {
   "codemirror_mode": {
    "name": "ipython",
    "version": 3
   },
   "file_extension": ".py",
   "mimetype": "text/x-python",
   "name": "python",
   "nbconvert_exporter": "python",
   "pygments_lexer": "ipython3",
   "version": "3.9.13"
  },
  "toc": {
   "base_numbering": 1,
   "nav_menu": {},
   "number_sections": true,
   "sideBar": true,
   "skip_h1_title": false,
   "title_cell": "Table of Contents",
   "title_sidebar": "Contents",
   "toc_cell": true,
   "toc_position": {},
   "toc_section_display": true,
   "toc_window_display": true
  },
  "varInspector": {
   "cols": {
    "lenName": 16,
    "lenType": 16,
    "lenVar": 40
   },
   "kernels_config": {
    "python": {
     "delete_cmd_postfix": "",
     "delete_cmd_prefix": "del ",
     "library": "var_list.py",
     "varRefreshCmd": "print(var_dic_list())"
    },
    "r": {
     "delete_cmd_postfix": ") ",
     "delete_cmd_prefix": "rm(",
     "library": "var_list.r",
     "varRefreshCmd": "cat(var_dic_list()) "
    }
   },
   "position": {
    "height": "572.5183715820312px",
    "left": "1345.481689453125px",
    "right": "20px",
    "top": "66.99999237060547px",
    "width": "326.6360168457031px"
   },
   "types_to_exclude": [
    "module",
    "function",
    "builtin_function_or_method",
    "instance",
    "_Feature"
   ],
   "window_display": false
  }
 },
 "nbformat": 4,
 "nbformat_minor": 4
}
