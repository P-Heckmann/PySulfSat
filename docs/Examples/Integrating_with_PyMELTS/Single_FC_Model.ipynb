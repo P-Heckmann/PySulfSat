{
 "cells": [
  {
   "cell_type": "code",
   "execution_count": 1,
   "id": "40db729b-dd2a-441f-a833-1535895a6df9",
   "metadata": {},
   "outputs": [],
   "source": [
    "import numpy as np\n",
    "import pandas as pd\n",
    "import matplotlib.pyplot as plt\n",
    "import sys\n",
    "import PySulfSat as ss"
   ]
  },
  {
   "cell_type": "code",
   "execution_count": 2,
   "id": "4128d3bb-fede-463c-a6d3-dd44e0a38dfe",
   "metadata": {},
   "outputs": [],
   "source": [
    "sys.path.append(r'G:\\My Drive\\Berkeley_NEW\\MELTS_python_Paula\\melts_matlab_git_master\\package')"
   ]
  },
  {
   "cell_type": "code",
   "execution_count": 3,
   "id": "537918b9-e764-4571-9457-f85031346012",
   "metadata": {},
   "outputs": [
    {
     "name": "stdout",
     "output_type": "stream",
     "text": [
      "Collecting https://github.com/gleesonm1/pyMELTScalc/archive/refs/tags/v0.0.7.zip\n",
      "  Using cached https://github.com/gleesonm1/pyMELTScalc/archive/refs/tags/v0.0.7.zip\n",
      "  Preparing metadata (setup.py): started\n",
      "  Preparing metadata (setup.py): finished with status 'done'\n",
      "Requirement already satisfied: pandas in c:\\users\\penny\\anaconda3\\lib\\site-packages (from pyMELTScalc==0.0.7) (1.4.4)\n",
      "Requirement already satisfied: numpy in c:\\users\\penny\\anaconda3\\lib\\site-packages (from pyMELTScalc==0.0.7) (1.22.4)\n",
      "Requirement already satisfied: matplotlib in c:\\users\\penny\\anaconda3\\lib\\site-packages (from pyMELTScalc==0.0.7) (3.5.2)\n",
      "Requirement already satisfied: scikit-learn in c:\\users\\penny\\anaconda3\\lib\\site-packages (from pyMELTScalc==0.0.7) (1.1.1)\n",
      "Requirement already satisfied: scipy in c:\\users\\penny\\anaconda3\\lib\\site-packages (from pyMELTScalc==0.0.7) (1.7.3)\n",
      "Requirement already satisfied: julia in c:\\users\\penny\\anaconda3\\lib\\site-packages (from pyMELTScalc==0.0.7) (0.5.7)\n",
      "Requirement already satisfied: tinynumpy in c:\\users\\penny\\anaconda3\\lib\\site-packages (from pyMELTScalc==0.0.7) (1.2.1)\n",
      "Requirement already satisfied: packaging>=20.0 in c:\\users\\penny\\anaconda3\\lib\\site-packages (from matplotlib->pyMELTScalc==0.0.7) (21.3)\n",
      "Requirement already satisfied: fonttools>=4.22.0 in c:\\users\\penny\\anaconda3\\lib\\site-packages (from matplotlib->pyMELTScalc==0.0.7) (4.25.0)\n",
      "Requirement already satisfied: pillow>=6.2.0 in c:\\users\\penny\\anaconda3\\lib\\site-packages (from matplotlib->pyMELTScalc==0.0.7) (9.2.0)\n",
      "Requirement already satisfied: pyparsing>=2.2.1 in c:\\users\\penny\\anaconda3\\lib\\site-packages (from matplotlib->pyMELTScalc==0.0.7) (3.0.9)\n",
      "Requirement already satisfied: python-dateutil>=2.7 in c:\\users\\penny\\anaconda3\\lib\\site-packages (from matplotlib->pyMELTScalc==0.0.7) (2.8.2)\n",
      "Requirement already satisfied: cycler>=0.10 in c:\\users\\penny\\anaconda3\\lib\\site-packages (from matplotlib->pyMELTScalc==0.0.7) (0.11.0)\n",
      "Requirement already satisfied: kiwisolver>=1.0.1 in c:\\users\\penny\\anaconda3\\lib\\site-packages (from matplotlib->pyMELTScalc==0.0.7) (1.4.2)\n",
      "Requirement already satisfied: pytz>=2020.1 in c:\\users\\penny\\anaconda3\\lib\\site-packages (from pandas->pyMELTScalc==0.0.7) (2022.1)\n",
      "Requirement already satisfied: threadpoolctl>=2.0.0 in c:\\users\\penny\\anaconda3\\lib\\site-packages (from scikit-learn->pyMELTScalc==0.0.7) (2.2.0)\n",
      "Requirement already satisfied: joblib>=1.0.0 in c:\\users\\penny\\anaconda3\\lib\\site-packages (from scikit-learn->pyMELTScalc==0.0.7) (1.1.0)\n",
      "Requirement already satisfied: six>=1.5 in c:\\users\\penny\\anaconda3\\lib\\site-packages (from python-dateutil>=2.7->matplotlib->pyMELTScalc==0.0.7) (1.16.0)\n"
     ]
    }
   ],
   "source": [
    "!pip install --upgrade \"https://github.com/gleesonm1/pyMELTScalc/archive/refs/tags/v0.0.7.zip\""
   ]
  },
  {
   "cell_type": "code",
   "execution_count": 4,
   "id": "d475ec09-e0b6-4e5c-ab58-d24552085022",
   "metadata": {},
   "outputs": [
    {
     "name": "stdout",
     "output_type": "stream",
     "text": [
      "Warning: MAGEMin calculations cannot be performed\n"
     ]
    },
    {
     "data": {
      "text/plain": [
       "'0.0.7'"
      ]
     },
     "execution_count": 4,
     "metadata": {},
     "output_type": "execute_result"
    }
   ],
   "source": [
    "import pyMELTScalc as M\n",
    "M.__version__"
   ]
  },
  {
   "cell_type": "code",
   "execution_count": 5,
   "id": "2542acaf-7427-4220-8ff1-da7ac6b0aeec",
   "metadata": {},
   "outputs": [
    {
     "name": "stdout",
     "output_type": "stream",
     "text": [
      "We have replaced all missing liquid oxides and strings with zeros. \n"
     ]
    }
   ],
   "source": [
    "df_out2=ss.import_data('Glass_input_example.xlsx', sheet_name='Glass_input', \n",
    "                       suffix=\"_Liq\", sample_label='Sample_ID_Liq')\n",
    "df_out2.head()\n",
    "# Selecting a single composition to start the model from\n",
    "sample=df_out2.iloc[0]"
   ]
  },
  {
   "cell_type": "code",
   "execution_count": 6,
   "id": "6a353cd4-137f-4c15-9a23-25cbd61f7968",
   "metadata": {},
   "outputs": [],
   "source": [
    "P=1000\n",
    "MELTS_FC=M.multi_iso_crystallise(Model = \"MELTSv1.0.2\", \n",
    "                        Fe3Fet_Liq=0.1,\n",
    "                        comp = sample.to_dict(), \n",
    "                        Frac_solid = True, \n",
    "                        Frac_fluid = True, \n",
    "                        T_start_C = 1200, \n",
    "                        T_end_C = 750, \n",
    "                        dt_C = 5, \n",
    "                        P_path_bar = P, \n",
    "                        find_liquidus = True)"
   ]
  },
  {
   "cell_type": "code",
   "execution_count": 7,
   "id": "10687e94-9ba5-4a7d-aec9-b128e9aa6828",
   "metadata": {},
   "outputs": [],
   "source": [
    "MELTS=MELTS_FC['All']"
   ]
  },
  {
   "cell_type": "code",
   "execution_count": 8,
   "id": "389963be-fe73-41b1-a2f1-444ccd0e706e",
   "metadata": {},
   "outputs": [
    {
     "data": {
      "text/plain": [
       "Index(['SiO2_Liq', 'SiO2_Cpx', 'SiO2_Plag', 'SiO2_Cpx2', 'SiO2_rutile1',\n",
       "       'SiO2_Sp', 'SiO2_Ol', 'SiO2_whitlockite1'],\n",
       "      dtype='object')"
      ]
     },
     "execution_count": 8,
     "metadata": {},
     "output_type": "execute_result"
    }
   ],
   "source": [
    "# Lets see what phases we have!\n",
    "MELTS.columns[MELTS.columns.str.contains('SiO2')]"
   ]
  },
  {
   "cell_type": "code",
   "execution_count": 9,
   "id": "4ef0df8d-2077-493f-91f0-f054db0a732a",
   "metadata": {},
   "outputs": [
    {
     "data": {
      "text/html": [
       "<div>\n",
       "<style scoped>\n",
       "    .dataframe tbody tr th:only-of-type {\n",
       "        vertical-align: middle;\n",
       "    }\n",
       "\n",
       "    .dataframe tbody tr th {\n",
       "        vertical-align: top;\n",
       "    }\n",
       "\n",
       "    .dataframe thead th {\n",
       "        text-align: right;\n",
       "    }\n",
       "</style>\n",
       "<table border=\"1\" class=\"dataframe\">\n",
       "  <thead>\n",
       "    <tr style=\"text-align: right;\">\n",
       "      <th></th>\n",
       "      <th>T_C</th>\n",
       "      <th>P_bar</th>\n",
       "      <th>h</th>\n",
       "      <th>s</th>\n",
       "      <th>v</th>\n",
       "      <th>SiO2_Liq</th>\n",
       "      <th>TiO2_Liq</th>\n",
       "      <th>Al2O3_Liq</th>\n",
       "      <th>Cr2O3_Liq</th>\n",
       "      <th>Fe2O3_Liq</th>\n",
       "      <th>...</th>\n",
       "      <th>Na2O_whitlockite1</th>\n",
       "      <th>K2O_whitlockite1</th>\n",
       "      <th>P2O5_whitlockite1</th>\n",
       "      <th>H2O_whitlockite1</th>\n",
       "      <th>CO2_whitlockite1</th>\n",
       "      <th>Fe3Fet_whitlockite1</th>\n",
       "      <th>h_whitlockite1_prop</th>\n",
       "      <th>mass_whitlockite1_prop</th>\n",
       "      <th>v_whitlockite1_prop</th>\n",
       "      <th>rho_whitlockite1_prop</th>\n",
       "    </tr>\n",
       "  </thead>\n",
       "  <tbody>\n",
       "    <tr>\n",
       "      <th>0</th>\n",
       "      <td>1183.300000</td>\n",
       "      <td>1000.0</td>\n",
       "      <td>-1.180231e+06</td>\n",
       "      <td>263.406565</td>\n",
       "      <td>36.469894</td>\n",
       "      <td>50.436352</td>\n",
       "      <td>2.040399</td>\n",
       "      <td>13.134570</td>\n",
       "      <td>0.0</td>\n",
       "      <td>1.470281</td>\n",
       "      <td>...</td>\n",
       "      <td>NaN</td>\n",
       "      <td>NaN</td>\n",
       "      <td>NaN</td>\n",
       "      <td>NaN</td>\n",
       "      <td>NaN</td>\n",
       "      <td>NaN</td>\n",
       "      <td>0.0</td>\n",
       "      <td>0.0</td>\n",
       "      <td>0.0</td>\n",
       "      <td>0.0</td>\n",
       "    </tr>\n",
       "    <tr>\n",
       "      <th>1</th>\n",
       "      <td>1178.319540</td>\n",
       "      <td>1000.0</td>\n",
       "      <td>-1.182782e+06</td>\n",
       "      <td>261.652227</td>\n",
       "      <td>36.269339</td>\n",
       "      <td>50.400619</td>\n",
       "      <td>2.132021</td>\n",
       "      <td>13.079651</td>\n",
       "      <td>0.0</td>\n",
       "      <td>1.504555</td>\n",
       "      <td>...</td>\n",
       "      <td>NaN</td>\n",
       "      <td>NaN</td>\n",
       "      <td>NaN</td>\n",
       "      <td>NaN</td>\n",
       "      <td>NaN</td>\n",
       "      <td>NaN</td>\n",
       "      <td>0.0</td>\n",
       "      <td>0.0</td>\n",
       "      <td>0.0</td>\n",
       "      <td>0.0</td>\n",
       "    </tr>\n",
       "    <tr>\n",
       "      <th>2</th>\n",
       "      <td>1173.339080</td>\n",
       "      <td>1000.0</td>\n",
       "      <td>-1.120803e+06</td>\n",
       "      <td>248.027312</td>\n",
       "      <td>34.408849</td>\n",
       "      <td>50.347120</td>\n",
       "      <td>2.248859</td>\n",
       "      <td>12.894563</td>\n",
       "      <td>0.0</td>\n",
       "      <td>1.554907</td>\n",
       "      <td>...</td>\n",
       "      <td>NaN</td>\n",
       "      <td>NaN</td>\n",
       "      <td>NaN</td>\n",
       "      <td>NaN</td>\n",
       "      <td>NaN</td>\n",
       "      <td>NaN</td>\n",
       "      <td>0.0</td>\n",
       "      <td>0.0</td>\n",
       "      <td>0.0</td>\n",
       "      <td>0.0</td>\n",
       "    </tr>\n",
       "    <tr>\n",
       "      <th>3</th>\n",
       "      <td>1168.358621</td>\n",
       "      <td>1000.0</td>\n",
       "      <td>-1.050379e+06</td>\n",
       "      <td>233.074597</td>\n",
       "      <td>32.336062</td>\n",
       "      <td>50.279685</td>\n",
       "      <td>2.371121</td>\n",
       "      <td>12.701134</td>\n",
       "      <td>0.0</td>\n",
       "      <td>1.609440</td>\n",
       "      <td>...</td>\n",
       "      <td>NaN</td>\n",
       "      <td>NaN</td>\n",
       "      <td>NaN</td>\n",
       "      <td>NaN</td>\n",
       "      <td>NaN</td>\n",
       "      <td>NaN</td>\n",
       "      <td>0.0</td>\n",
       "      <td>0.0</td>\n",
       "      <td>0.0</td>\n",
       "      <td>0.0</td>\n",
       "    </tr>\n",
       "    <tr>\n",
       "      <th>4</th>\n",
       "      <td>1163.378161</td>\n",
       "      <td>1000.0</td>\n",
       "      <td>-9.853206e+05</td>\n",
       "      <td>219.223435</td>\n",
       "      <td>30.414423</td>\n",
       "      <td>50.194928</td>\n",
       "      <td>2.502151</td>\n",
       "      <td>12.492723</td>\n",
       "      <td>0.0</td>\n",
       "      <td>1.669881</td>\n",
       "      <td>...</td>\n",
       "      <td>NaN</td>\n",
       "      <td>NaN</td>\n",
       "      <td>NaN</td>\n",
       "      <td>NaN</td>\n",
       "      <td>NaN</td>\n",
       "      <td>NaN</td>\n",
       "      <td>0.0</td>\n",
       "      <td>0.0</td>\n",
       "      <td>0.0</td>\n",
       "      <td>0.0</td>\n",
       "    </tr>\n",
       "  </tbody>\n",
       "</table>\n",
       "<p>5 rows × 165 columns</p>\n",
       "</div>"
      ],
      "text/plain": [
       "           T_C   P_bar             h           s          v   SiO2_Liq  \\\n",
       "0  1183.300000  1000.0 -1.180231e+06  263.406565  36.469894  50.436352   \n",
       "1  1178.319540  1000.0 -1.182782e+06  261.652227  36.269339  50.400619   \n",
       "2  1173.339080  1000.0 -1.120803e+06  248.027312  34.408849  50.347120   \n",
       "3  1168.358621  1000.0 -1.050379e+06  233.074597  32.336062  50.279685   \n",
       "4  1163.378161  1000.0 -9.853206e+05  219.223435  30.414423  50.194928   \n",
       "\n",
       "   TiO2_Liq  Al2O3_Liq  Cr2O3_Liq  Fe2O3_Liq  ...  Na2O_whitlockite1  \\\n",
       "0  2.040399  13.134570        0.0   1.470281  ...                NaN   \n",
       "1  2.132021  13.079651        0.0   1.504555  ...                NaN   \n",
       "2  2.248859  12.894563        0.0   1.554907  ...                NaN   \n",
       "3  2.371121  12.701134        0.0   1.609440  ...                NaN   \n",
       "4  2.502151  12.492723        0.0   1.669881  ...                NaN   \n",
       "\n",
       "   K2O_whitlockite1  P2O5_whitlockite1  H2O_whitlockite1  CO2_whitlockite1  \\\n",
       "0               NaN                NaN               NaN               NaN   \n",
       "1               NaN                NaN               NaN               NaN   \n",
       "2               NaN                NaN               NaN               NaN   \n",
       "3               NaN                NaN               NaN               NaN   \n",
       "4               NaN                NaN               NaN               NaN   \n",
       "\n",
       "   Fe3Fet_whitlockite1  h_whitlockite1_prop  mass_whitlockite1_prop  \\\n",
       "0                  NaN                  0.0                     0.0   \n",
       "1                  NaN                  0.0                     0.0   \n",
       "2                  NaN                  0.0                     0.0   \n",
       "3                  NaN                  0.0                     0.0   \n",
       "4                  NaN                  0.0                     0.0   \n",
       "\n",
       "   v_whitlockite1_prop  rho_whitlockite1_prop  \n",
       "0                  0.0                    0.0  \n",
       "1                  0.0                    0.0  \n",
       "2                  0.0                    0.0  \n",
       "3                  0.0                    0.0  \n",
       "4                  0.0                    0.0  \n",
       "\n",
       "[5 rows x 165 columns]"
      ]
     },
     "execution_count": 9,
     "metadata": {},
     "output_type": "execute_result"
    }
   ],
   "source": [
    "MELTS.head()"
   ]
  },
  {
   "cell_type": "code",
   "execution_count": 10,
   "id": "a7342125-5ddc-4c2b-992c-9b76cfa770ad",
   "metadata": {},
   "outputs": [
    {
     "ename": "NameError",
     "evalue": "name 'test2' is not defined",
     "output_type": "error",
     "traceback": [
      "\u001b[1;31m---------------------------------------------------------------------------\u001b[0m",
      "\u001b[1;31mNameError\u001b[0m                                 Traceback (most recent call last)",
      "Input \u001b[1;32mIn [10]\u001b[0m, in \u001b[0;36m<cell line: 1>\u001b[1;34m()\u001b[0m\n\u001b[0;32m      1\u001b[0m Smythe_CalcSulf\u001b[38;5;241m=\u001b[39mss\u001b[38;5;241m.\u001b[39mcalculate_Smythe2017_SCSS(df\u001b[38;5;241m=\u001b[39mMELTS, \n\u001b[0;32m      2\u001b[0m                                              T_K\u001b[38;5;241m=\u001b[39mMELTS[\u001b[38;5;124m'\u001b[39m\u001b[38;5;124mT_C\u001b[39m\u001b[38;5;124m'\u001b[39m]\u001b[38;5;241m+\u001b[39m\u001b[38;5;241m273.15\u001b[39m, \n\u001b[1;32m----> 3\u001b[0m P_kbar\u001b[38;5;241m=\u001b[39m\u001b[43mtest2\u001b[49m[\u001b[38;5;124m'\u001b[39m\u001b[38;5;124mP_bar\u001b[39m\u001b[38;5;124m'\u001b[39m]\u001b[38;5;241m/\u001b[39m\u001b[38;5;241m1000\u001b[39m, Fe_FeNiCu_Sulf\u001b[38;5;241m=\u001b[39m\u001b[38;5;241m0.65\u001b[39m,\n\u001b[0;32m      4\u001b[0m Fe3Fet_Liq\u001b[38;5;241m=\u001b[39mtest2[\u001b[38;5;124m'\u001b[39m\u001b[38;5;124mFe3Fet_Liq\u001b[39m\u001b[38;5;124m'\u001b[39m])\n\u001b[0;32m      6\u001b[0m Smythe_CalcSulf\u001b[38;5;241m.\u001b[39mhead()\n",
      "\u001b[1;31mNameError\u001b[0m: name 'test2' is not defined"
     ]
    }
   ],
   "source": [
    "Smythe_CalcSulf=ss.calculate_Smythe2017_SCSS(df=MELTS, \n",
    "                                             T_K=MELTS['T_C']+273.15, \n",
    "P_kbar=test2['P_bar']/1000, Fe_FeNiCu_Sulf=0.65,\n",
    "Fe3Fet_Liq=test2['Fe3Fet_Liq'])\n",
    "\n",
    "Smythe_CalcSulf.head()"
   ]
  },
  {
   "cell_type": "code",
   "execution_count": null,
   "id": "0e921099-8edf-4866-a20f-f3d12a6ce811",
   "metadata": {},
   "outputs": [],
   "source": [
    "plt.plot(MELTS['MgO_Liq'], Smythe_CalcSulf['SCSS_ideal_ppm_Smythe2017'],\n",
    "         '-r')\n",
    "plt.xlabel('Liq MgO (wt%)')\n",
    "plt.ylabel('SCSS (Smythe, ppm)')"
   ]
  },
  {
   "cell_type": "code",
   "execution_count": 12,
   "id": "c7fd54af-4d57-4967-adf9-31ab632f1482",
   "metadata": {},
   "outputs": [
    {
     "data": {
      "text/plain": [
       "[<matplotlib.lines.Line2D at 0x27bfc406d30>]"
      ]
     },
     "execution_count": 12,
     "metadata": {},
     "output_type": "execute_result"
    },
    {
     "data": {
      "image/png": "[encoded data removed]",
      "text/plain": [
       "<Figure size 640x480 with 1 Axes>"
      ]
     },
     "metadata": {},
     "output_type": "display_data"
    }
   ],
   "source": [
    "plt.plot( MELTS['MgO_Liq'],MELTS['FeOt_Liq'],\n",
    "         '-r')\n",
    "plt.xlabel('Liq MgO (wt%)')\n",
    "plt.ylabel('Liq FeO (wt%)')"
   ]
  },
  {
   "cell_type": "code",
   "execution_count": null,
   "id": "e97a8722-b86c-40f5-930f-e4cb6124e3af",
   "metadata": {},
   "outputs": [],
   "source": []
  },
  {
   "cell_type": "code",
   "execution_count": null,
   "id": "67503197-023b-4c02-8226-cfff3d56c941",
   "metadata": {},
   "outputs": [],
   "source": []
  }
 ],
 "metadata": {
  "kernelspec": {
   "display_name": "Python 3 (ipykernel)",
   "language": "python",
   "name": "python3"
  },
  "language_info": {
   "codemirror_mode": {
    "name": "ipython",
    "version": 3
   },
   "file_extension": ".py",
   "mimetype": "text/x-python",
   "name": "python",
   "nbconvert_exporter": "python",
   "pygments_lexer": "ipython3",
   "version": "3.9.13"
  }
 },
 "nbformat": 4,
 "nbformat_minor": 5
}
