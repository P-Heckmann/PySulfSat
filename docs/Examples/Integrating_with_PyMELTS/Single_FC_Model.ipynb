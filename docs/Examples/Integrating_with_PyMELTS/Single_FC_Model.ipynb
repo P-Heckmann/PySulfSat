{
 "cells": [
  {
   "cell_type": "code",
   "execution_count": 1,
   "id": "40db729b-dd2a-441f-a833-1535895a6df9",
   "metadata": {},
   "outputs": [],
   "source": [
    "import numpy as np\n",
    "import pandas as pd\n",
    "import matplotlib.pyplot as plt\n",
    "import sys\n",
    "import PySulfSat as ss"
   ]
  },
  {
   "cell_type": "code",
   "execution_count": 2,
   "id": "4128d3bb-fede-463c-a6d3-dd44e0a38dfe",
   "metadata": {},
   "outputs": [],
   "source": [
    "sys.path.append(r'G:\\My Drive\\Berkeley_NEW\\MELTS_python_Paula\\melts_matlab_git_master\\package')"
   ]
  },
  {
   "cell_type": "code",
   "execution_count": 3,
   "id": "537918b9-e764-4571-9457-f85031346012",
   "metadata": {},
   "outputs": [
    {
     "name": "stdout",
     "output_type": "stream",
     "text": [
      "Collecting https://github.com/gleesonm1/pyMELTScalc/archive/refs/tags/v0.0.7.zip\n",
      "  Downloading https://github.com/gleesonm1/pyMELTScalc/archive/refs/tags/v0.0.7.zip\n",
      "Requirement already satisfied: pandas in c:\\users\\penny\\anaconda3\\lib\\site-packages (from pyMELTScalc==0.0.7) (1.4.2)\n",
      "Requirement already satisfied: numpy in c:\\users\\penny\\anaconda3\\lib\\site-packages (from pyMELTScalc==0.0.7) (1.22.4)\n",
      "Requirement already satisfied: matplotlib in c:\\users\\penny\\anaconda3\\lib\\site-packages (from pyMELTScalc==0.0.7) (3.5.1)\n",
      "Requirement already satisfied: scikit-learn in c:\\users\\penny\\anaconda3\\lib\\site-packages (from pyMELTScalc==0.0.7) (1.0.2)\n",
      "Requirement already satisfied: scipy in c:\\users\\penny\\anaconda3\\lib\\site-packages (from pyMELTScalc==0.0.7) (1.7.3)\n",
      "Requirement already satisfied: julia in c:\\users\\penny\\anaconda3\\lib\\site-packages (from pyMELTScalc==0.0.7) (0.5.7)\n",
      "Requirement already satisfied: tinynumpy in c:\\users\\penny\\anaconda3\\lib\\site-packages (from pyMELTScalc==0.0.7) (1.2.1)\n",
      "Requirement already satisfied: fonttools>=4.22.0 in c:\\users\\penny\\anaconda3\\lib\\site-packages (from matplotlib->pyMELTScalc==0.0.7) (4.25.0)\n",
      "Requirement already satisfied: cycler>=0.10 in c:\\users\\penny\\anaconda3\\lib\\site-packages (from matplotlib->pyMELTScalc==0.0.7) (0.11.0)\n",
      "Requirement already satisfied: packaging>=20.0 in c:\\users\\penny\\anaconda3\\lib\\site-packages (from matplotlib->pyMELTScalc==0.0.7) (21.3)\n",
      "Requirement already satisfied: kiwisolver>=1.0.1 in c:\\users\\penny\\anaconda3\\lib\\site-packages (from matplotlib->pyMELTScalc==0.0.7) (1.3.2)\n",
      "Requirement already satisfied: python-dateutil>=2.7 in c:\\users\\penny\\anaconda3\\lib\\site-packages (from matplotlib->pyMELTScalc==0.0.7) (2.8.2)\n",
      "Requirement already satisfied: pillow>=6.2.0 in c:\\users\\penny\\anaconda3\\lib\\site-packages (from matplotlib->pyMELTScalc==0.0.7) (9.0.1)\n",
      "Requirement already satisfied: pyparsing>=2.2.1 in c:\\users\\penny\\anaconda3\\lib\\site-packages (from matplotlib->pyMELTScalc==0.0.7) (3.0.4)\n",
      "Requirement already satisfied: six>=1.5 in c:\\users\\penny\\anaconda3\\lib\\site-packages (from python-dateutil>=2.7->matplotlib->pyMELTScalc==0.0.7) (1.16.0)\n",
      "Requirement already satisfied: pytz>=2020.1 in c:\\users\\penny\\anaconda3\\lib\\site-packages (from pandas->pyMELTScalc==0.0.7) (2021.3)\n",
      "Requirement already satisfied: threadpoolctl>=2.0.0 in c:\\users\\penny\\anaconda3\\lib\\site-packages (from scikit-learn->pyMELTScalc==0.0.7) (2.2.0)\n",
      "Requirement already satisfied: joblib>=0.11 in c:\\users\\penny\\anaconda3\\lib\\site-packages (from scikit-learn->pyMELTScalc==0.0.7) (1.1.0)\n",
      "Building wheels for collected packages: pyMELTScalc\n",
      "  Building wheel for pyMELTScalc (setup.py): started\n",
      "  Building wheel for pyMELTScalc (setup.py): finished with status 'done'\n",
      "  Created wheel for pyMELTScalc: filename=pyMELTScalc-0.0.7-py3-none-any.whl size=19157 sha256=6c996557fbb56dae061e0c434d1061cd77a90424a95b5850a2cc6979fd435393\n",
      "  Stored in directory: C:\\Users\\penny\\AppData\\Local\\Temp\\pip-ephem-wheel-cache-1n_tbkcx\\wheels\\d3\\74\\38\\9faa31392586574e5b0e73e1bff5a4b83cabdd1e490413519d\n",
      "Successfully built pyMELTScalc\n",
      "Installing collected packages: pyMELTScalc\n",
      "  Attempting uninstall: pyMELTScalc\n",
      "    Found existing installation: pyMELTScalc 0.0.6\n",
      "    Uninstalling pyMELTScalc-0.0.6:\n",
      "      Successfully uninstalled pyMELTScalc-0.0.6\n",
      "Successfully installed pyMELTScalc-0.0.7\n"
     ]
    }
   ],
   "source": [
    "!pip install --upgrade \"https://github.com/gleesonm1/pyMELTScalc/archive/refs/tags/v0.0.7.zip\""
   ]
  },
  {
   "cell_type": "code",
   "execution_count": 4,
   "id": "d475ec09-e0b6-4e5c-ab58-d24552085022",
   "metadata": {},
   "outputs": [
    {
     "name": "stdout",
     "output_type": "stream",
     "text": [
      "Warning: MAGEMin calculations cannot be performed\n"
     ]
    },
    {
     "data": {
      "text/plain": [
       "'0.0.7'"
      ]
     },
     "execution_count": 4,
     "metadata": {},
     "output_type": "execute_result"
    }
   ],
   "source": [
    "import pyMELTScalc as M\n",
    "M.__version__"
   ]
  },
  {
   "cell_type": "code",
   "execution_count": 5,
   "id": "2542acaf-7427-4220-8ff1-da7ac6b0aeec",
   "metadata": {},
   "outputs": [
    {
     "name": "stdout",
     "output_type": "stream",
     "text": [
      "We have replaced all missing liquid oxides and strings with zeros. \n"
     ]
    }
   ],
   "source": [
    "df_out2=ss.import_data('Glass_input_example.xlsx', sheet_name='Glass_input', \n",
    "                       suffix=\"_Liq\", sample_label='Sample_ID_Liq')\n",
    "df_out2.head()\n",
    "\n",
    "\n",
    "test3=df_out2.iloc[0]"
   ]
  },
  {
   "cell_type": "code",
   "execution_count": 30,
   "id": "0e483341-4559-4c48-95c3-ed1674bf067c",
   "metadata": {},
   "outputs": [
    {
     "data": {
      "text/plain": [
       "SiO2_Liq       50.822\n",
       "TiO2_Liq        2.056\n",
       "Al2O3_Liq      13.235\n",
       "FeOt_Liq       13.339\n",
       "MnO_Liq         0.252\n",
       "MgO_Liq         6.631\n",
       "CaO_Liq        11.356\n",
       "Na2O_Liq         2.49\n",
       "K2O_Liq         0.247\n",
       "P2O5_Liq        0.189\n",
       "H2O_Liq           0.0\n",
       "Fe3Fet_Liq        0.0\n",
       "Ni_Liq_ppm        0.0\n",
       "Cu_Liq_ppm        0.0\n",
       "Sample_ID         H_1\n",
       "SiO2           50.822\n",
       "Na2O             2.49\n",
       "K2O             0.247\n",
       "FeOt           13.339\n",
       "Cr2O3            0.04\n",
       "MnO             0.252\n",
       "CaO            11.356\n",
       "TiO2            2.056\n",
       "MgO             6.631\n",
       "Al2O3          13.235\n",
       "P2O5            0.189\n",
       "Total         100.754\n",
       "Name: 0, dtype: object"
      ]
     },
     "execution_count": 30,
     "metadata": {},
     "output_type": "execute_result"
    }
   ],
   "source": [
    "test3"
   ]
  },
  {
   "cell_type": "code",
   "execution_count": 6,
   "id": "8e7d0b71-21c0-464a-8d0d-a4dcffadda4d",
   "metadata": {},
   "outputs": [],
   "source": [
    "df_ideal_MELTS = pd.DataFrame(columns=['SiO2_Liq', 'TiO2_Liq', 'Al2O3_Liq',\n",
    "'FeOt_Liq',  'MgO_Liq', 'CaO_Liq', 'Na2O_Liq', 'K2O_Liq',\n",
    "'P2O5_Liq',  'MnO_Liq', 'CO2_Liq', 'H2O_Liq', 'Fe3Fet_Liq'])\n",
    "\n",
    "df_ideal_MELTS2=df_ideal_MELTS.rename(columns={'Fe3Fet_Liq': 'Fe3Fet'}).to_dict()\n",
    "\n",
    "test4=test3.reindex(df_ideal_MELTS2, axis=1).fillna(0)\n",
    "test5=test4.to_dict()"
   ]
  },
  {
   "cell_type": "code",
   "execution_count": 27,
   "id": "0565cc3a-909c-4f7d-a6b7-7935a93ce738",
   "metadata": {},
   "outputs": [],
   "source": [
    "test5['Fe3Fet']=0.1\n",
    "test"
   ]
  },
  {
   "cell_type": "code",
   "execution_count": 12,
   "id": "1dd9f3f2-3903-4016-bac5-42e541fa7582",
   "metadata": {},
   "outputs": [
    {
     "data": {
      "text/plain": [
       "pandas.core.series.Series"
      ]
     },
     "execution_count": 12,
     "metadata": {},
     "output_type": "execute_result"
    }
   ],
   "source": [
    "type(test3)"
   ]
  },
  {
   "cell_type": "code",
   "execution_count": 31,
   "id": "bbb802a5-4e59-49f9-b1fa-10805665bf0c",
   "metadata": {},
   "outputs": [
    {
     "name": "stderr",
     "output_type": "stream",
     "text": [
      "C:\\Users\\penny\\AppData\\Local\\Temp\\ipykernel_25180\\2858094443.py:1: SettingWithCopyWarning: \n",
      "A value is trying to be set on a copy of a slice from a DataFrame\n",
      "\n",
      "See the caveats in the documentation: https://pandas.pydata.org/pandas-docs/stable/user_guide/indexing.html#returning-a-view-versus-a-copy\n",
      "  test3['H2O_Liq']=0.1\n"
     ]
    }
   ],
   "source": [
    "test3['H2O_Liq']=0.1"
   ]
  },
  {
   "cell_type": "code",
   "execution_count": 33,
   "id": "6a353cd4-137f-4c15-9a23-25cbd61f7968",
   "metadata": {},
   "outputs": [],
   "source": [
    "P=1000\n",
    "test=M.multi_iso_crystallise(Model = \"MELTSv1.0.2\", \n",
    "                        Fe3Fet_Liq=0.1,\n",
    "                        comp = test3.to_dict(), \n",
    "                        Frac_solid = True, \n",
    "                        Frac_fluid = True, \n",
    "                        T_start_C = 1200, \n",
    "                        T_end_C = 750, \n",
    "                        dt_C = 5, \n",
    "                        P_path_bar = P, \n",
    "                        find_liquidus = True)"
   ]
  },
  {
   "cell_type": "code",
   "execution_count": 34,
   "id": "10687e94-9ba5-4a7d-aec9-b128e9aa6828",
   "metadata": {},
   "outputs": [],
   "source": [
    "test2=test['All']"
   ]
  },
  {
   "cell_type": "code",
   "execution_count": 35,
   "id": "389963be-fe73-41b1-a2f1-444ccd0e706e",
   "metadata": {},
   "outputs": [
    {
     "data": {
      "text/plain": [
       "Index(['SiO2_Liq', 'SiO2_Cpx', 'SiO2_Plag', 'SiO2_Cpx2', 'SiO2_rutile1',\n",
       "       'SiO2_Sp', 'SiO2_Ol', 'SiO2_whitlockite1'],\n",
       "      dtype='object')"
      ]
     },
     "execution_count": 35,
     "metadata": {},
     "output_type": "execute_result"
    }
   ],
   "source": [
    "test2.columns[test2.columns.str.contains('SiO2')]"
   ]
  },
  {
   "cell_type": "code",
   "execution_count": 36,
   "id": "4ef0df8d-2077-493f-91f0-f054db0a732a",
   "metadata": {},
   "outputs": [
    {
     "data": {
      "text/html": [
       "<div>\n",
       "<style scoped>\n",
       "    .dataframe tbody tr th:only-of-type {\n",
       "        vertical-align: middle;\n",
       "    }\n",
       "\n",
       "    .dataframe tbody tr th {\n",
       "        vertical-align: top;\n",
       "    }\n",
       "\n",
       "    .dataframe thead th {\n",
       "        text-align: right;\n",
       "    }\n",
       "</style>\n",
       "<table border=\"1\" class=\"dataframe\">\n",
       "  <thead>\n",
       "    <tr style=\"text-align: right;\">\n",
       "      <th></th>\n",
       "      <th>T_C</th>\n",
       "      <th>P_bar</th>\n",
       "      <th>h</th>\n",
       "      <th>s</th>\n",
       "      <th>v</th>\n",
       "      <th>SiO2_Liq</th>\n",
       "      <th>TiO2_Liq</th>\n",
       "      <th>Al2O3_Liq</th>\n",
       "      <th>Cr2O3_Liq</th>\n",
       "      <th>Fe2O3_Liq</th>\n",
       "      <th>...</th>\n",
       "      <th>Na2O_whitlockite1</th>\n",
       "      <th>K2O_whitlockite1</th>\n",
       "      <th>P2O5_whitlockite1</th>\n",
       "      <th>H2O_whitlockite1</th>\n",
       "      <th>CO2_whitlockite1</th>\n",
       "      <th>Fe3Fet_whitlockite1</th>\n",
       "      <th>h_whitlockite1_prop</th>\n",
       "      <th>mass_whitlockite1_prop</th>\n",
       "      <th>v_whitlockite1_prop</th>\n",
       "      <th>rho_whitlockite1_prop</th>\n",
       "    </tr>\n",
       "  </thead>\n",
       "  <tbody>\n",
       "    <tr>\n",
       "      <th>0</th>\n",
       "      <td>1179.700000</td>\n",
       "      <td>1000.0</td>\n",
       "      <td>-1.180676e+06</td>\n",
       "      <td>264.191326</td>\n",
       "      <td>36.590693</td>\n",
       "      <td>50.386348</td>\n",
       "      <td>2.038376</td>\n",
       "      <td>13.121548</td>\n",
       "      <td>0.0</td>\n",
       "      <td>1.468823</td>\n",
       "      <td>...</td>\n",
       "      <td>NaN</td>\n",
       "      <td>NaN</td>\n",
       "      <td>NaN</td>\n",
       "      <td>NaN</td>\n",
       "      <td>NaN</td>\n",
       "      <td>NaN</td>\n",
       "      <td>0.0</td>\n",
       "      <td>0.0</td>\n",
       "      <td>0.0</td>\n",
       "      <td>0.0</td>\n",
       "    </tr>\n",
       "    <tr>\n",
       "      <th>1</th>\n",
       "      <td>1174.703488</td>\n",
       "      <td>1000.0</td>\n",
       "      <td>-1.182433e+06</td>\n",
       "      <td>262.979871</td>\n",
       "      <td>36.447230</td>\n",
       "      <td>50.364941</td>\n",
       "      <td>2.079988</td>\n",
       "      <td>13.353934</td>\n",
       "      <td>0.0</td>\n",
       "      <td>1.472726</td>\n",
       "      <td>...</td>\n",
       "      <td>NaN</td>\n",
       "      <td>NaN</td>\n",
       "      <td>NaN</td>\n",
       "      <td>NaN</td>\n",
       "      <td>NaN</td>\n",
       "      <td>NaN</td>\n",
       "      <td>0.0</td>\n",
       "      <td>0.0</td>\n",
       "      <td>0.0</td>\n",
       "      <td>0.0</td>\n",
       "    </tr>\n",
       "    <tr>\n",
       "      <th>2</th>\n",
       "      <td>1169.706977</td>\n",
       "      <td>1000.0</td>\n",
       "      <td>-1.152172e+06</td>\n",
       "      <td>255.125955</td>\n",
       "      <td>35.446411</td>\n",
       "      <td>50.329120</td>\n",
       "      <td>2.182600</td>\n",
       "      <td>13.201932</td>\n",
       "      <td>0.0</td>\n",
       "      <td>1.514798</td>\n",
       "      <td>...</td>\n",
       "      <td>NaN</td>\n",
       "      <td>NaN</td>\n",
       "      <td>NaN</td>\n",
       "      <td>NaN</td>\n",
       "      <td>NaN</td>\n",
       "      <td>NaN</td>\n",
       "      <td>0.0</td>\n",
       "      <td>0.0</td>\n",
       "      <td>0.0</td>\n",
       "      <td>0.0</td>\n",
       "    </tr>\n",
       "    <tr>\n",
       "      <th>3</th>\n",
       "      <td>1164.710465</td>\n",
       "      <td>1000.0</td>\n",
       "      <td>-1.085714e+06</td>\n",
       "      <td>241.004085</td>\n",
       "      <td>33.492630</td>\n",
       "      <td>50.283802</td>\n",
       "      <td>2.287899</td>\n",
       "      <td>13.046274</td>\n",
       "      <td>0.0</td>\n",
       "      <td>1.559499</td>\n",
       "      <td>...</td>\n",
       "      <td>NaN</td>\n",
       "      <td>NaN</td>\n",
       "      <td>NaN</td>\n",
       "      <td>NaN</td>\n",
       "      <td>NaN</td>\n",
       "      <td>NaN</td>\n",
       "      <td>0.0</td>\n",
       "      <td>0.0</td>\n",
       "      <td>0.0</td>\n",
       "      <td>0.0</td>\n",
       "    </tr>\n",
       "    <tr>\n",
       "      <th>4</th>\n",
       "      <td>1159.713953</td>\n",
       "      <td>1000.0</td>\n",
       "      <td>-1.024687e+06</td>\n",
       "      <td>228.008024</td>\n",
       "      <td>31.693729</td>\n",
       "      <td>50.227928</td>\n",
       "      <td>2.397205</td>\n",
       "      <td>12.884931</td>\n",
       "      <td>0.0</td>\n",
       "      <td>1.607389</td>\n",
       "      <td>...</td>\n",
       "      <td>NaN</td>\n",
       "      <td>NaN</td>\n",
       "      <td>NaN</td>\n",
       "      <td>NaN</td>\n",
       "      <td>NaN</td>\n",
       "      <td>NaN</td>\n",
       "      <td>0.0</td>\n",
       "      <td>0.0</td>\n",
       "      <td>0.0</td>\n",
       "      <td>0.0</td>\n",
       "    </tr>\n",
       "  </tbody>\n",
       "</table>\n",
       "<p>5 rows × 165 columns</p>\n",
       "</div>"
      ],
      "text/plain": [
       "           T_C   P_bar             h           s          v   SiO2_Liq  \\\n",
       "0  1179.700000  1000.0 -1.180676e+06  264.191326  36.590693  50.386348   \n",
       "1  1174.703488  1000.0 -1.182433e+06  262.979871  36.447230  50.364941   \n",
       "2  1169.706977  1000.0 -1.152172e+06  255.125955  35.446411  50.329120   \n",
       "3  1164.710465  1000.0 -1.085714e+06  241.004085  33.492630  50.283802   \n",
       "4  1159.713953  1000.0 -1.024687e+06  228.008024  31.693729  50.227928   \n",
       "\n",
       "   TiO2_Liq  Al2O3_Liq  Cr2O3_Liq  Fe2O3_Liq  ...  Na2O_whitlockite1  \\\n",
       "0  2.038376  13.121548        0.0   1.468823  ...                NaN   \n",
       "1  2.079988  13.353934        0.0   1.472726  ...                NaN   \n",
       "2  2.182600  13.201932        0.0   1.514798  ...                NaN   \n",
       "3  2.287899  13.046274        0.0   1.559499  ...                NaN   \n",
       "4  2.397205  12.884931        0.0   1.607389  ...                NaN   \n",
       "\n",
       "   K2O_whitlockite1  P2O5_whitlockite1  H2O_whitlockite1  CO2_whitlockite1  \\\n",
       "0               NaN                NaN               NaN               NaN   \n",
       "1               NaN                NaN               NaN               NaN   \n",
       "2               NaN                NaN               NaN               NaN   \n",
       "3               NaN                NaN               NaN               NaN   \n",
       "4               NaN                NaN               NaN               NaN   \n",
       "\n",
       "   Fe3Fet_whitlockite1  h_whitlockite1_prop  mass_whitlockite1_prop  \\\n",
       "0                  NaN                  0.0                     0.0   \n",
       "1                  NaN                  0.0                     0.0   \n",
       "2                  NaN                  0.0                     0.0   \n",
       "3                  NaN                  0.0                     0.0   \n",
       "4                  NaN                  0.0                     0.0   \n",
       "\n",
       "   v_whitlockite1_prop  rho_whitlockite1_prop  \n",
       "0                  0.0                    0.0  \n",
       "1                  0.0                    0.0  \n",
       "2                  0.0                    0.0  \n",
       "3                  0.0                    0.0  \n",
       "4                  0.0                    0.0  \n",
       "\n",
       "[5 rows x 165 columns]"
      ]
     },
     "execution_count": 36,
     "metadata": {},
     "output_type": "execute_result"
    }
   ],
   "source": [
    "test2.head()"
   ]
  },
  {
   "cell_type": "code",
   "execution_count": 37,
   "id": "a7342125-5ddc-4c2b-992c-9b76cfa770ad",
   "metadata": {},
   "outputs": [
    {
     "name": "stdout",
     "output_type": "stream",
     "text": [
      "Using inputted Fe_FeNiCu_Sulf ratio for calculations.\n",
      "You havent entered a value for Ni_FeNiCu_Sulf and Cu_FeNiCu_Sulf so we cant calculate the non-ideal SCSS\n"
     ]
    },
    {
     "data": {
      "text/html": [
       "<div>\n",
       "<style scoped>\n",
       "    .dataframe tbody tr th:only-of-type {\n",
       "        vertical-align: middle;\n",
       "    }\n",
       "\n",
       "    .dataframe tbody tr th {\n",
       "        vertical-align: top;\n",
       "    }\n",
       "\n",
       "    .dataframe thead th {\n",
       "        text-align: right;\n",
       "    }\n",
       "</style>\n",
       "<table border=\"1\" class=\"dataframe\">\n",
       "  <thead>\n",
       "    <tr style=\"text-align: right;\">\n",
       "      <th></th>\n",
       "      <th>SCSS_ideal_ppm_Smythe2017</th>\n",
       "      <th>SCSS_ideal_ppm_Smythe2017_1sigma</th>\n",
       "      <th>T_Input_K</th>\n",
       "      <th>P_Input_kbar</th>\n",
       "      <th>Fe_FeNiCu_Sulf</th>\n",
       "      <th>Fe3Fet_Liq_input</th>\n",
       "      <th>Si_wt_atom</th>\n",
       "      <th>Ti_wt_atom</th>\n",
       "      <th>Al_wt_atom</th>\n",
       "      <th>Mg_wt_atom</th>\n",
       "      <th>...</th>\n",
       "      <th>Na2O_whitlockite1</th>\n",
       "      <th>K2O_whitlockite1</th>\n",
       "      <th>P2O5_whitlockite1</th>\n",
       "      <th>H2O_whitlockite1</th>\n",
       "      <th>CO2_whitlockite1</th>\n",
       "      <th>Fe3Fet_whitlockite1</th>\n",
       "      <th>h_whitlockite1_prop</th>\n",
       "      <th>mass_whitlockite1_prop</th>\n",
       "      <th>v_whitlockite1_prop</th>\n",
       "      <th>rho_whitlockite1_prop</th>\n",
       "    </tr>\n",
       "  </thead>\n",
       "  <tbody>\n",
       "    <tr>\n",
       "      <th>0</th>\n",
       "      <td>1418.668555</td>\n",
       "      <td>387.537370</td>\n",
       "      <td>1452.850000</td>\n",
       "      <td>1.0</td>\n",
       "      <td>0.65</td>\n",
       "      <td>0.099881</td>\n",
       "      <td>0.473365</td>\n",
       "      <td>0.014401</td>\n",
       "      <td>0.145286</td>\n",
       "      <td>0.092073</td>\n",
       "      <td>...</td>\n",
       "      <td>NaN</td>\n",
       "      <td>NaN</td>\n",
       "      <td>NaN</td>\n",
       "      <td>NaN</td>\n",
       "      <td>NaN</td>\n",
       "      <td>NaN</td>\n",
       "      <td>0.0</td>\n",
       "      <td>0.0</td>\n",
       "      <td>0.0</td>\n",
       "      <td>0.0</td>\n",
       "    </tr>\n",
       "    <tr>\n",
       "      <th>1</th>\n",
       "      <td>1403.504696</td>\n",
       "      <td>383.395062</td>\n",
       "      <td>1447.853488</td>\n",
       "      <td>1.0</td>\n",
       "      <td>0.65</td>\n",
       "      <td>0.099173</td>\n",
       "      <td>0.473420</td>\n",
       "      <td>0.014703</td>\n",
       "      <td>0.147939</td>\n",
       "      <td>0.088606</td>\n",
       "      <td>...</td>\n",
       "      <td>NaN</td>\n",
       "      <td>NaN</td>\n",
       "      <td>NaN</td>\n",
       "      <td>NaN</td>\n",
       "      <td>NaN</td>\n",
       "      <td>NaN</td>\n",
       "      <td>0.0</td>\n",
       "      <td>0.0</td>\n",
       "      <td>0.0</td>\n",
       "      <td>0.0</td>\n",
       "    </tr>\n",
       "    <tr>\n",
       "      <th>2</th>\n",
       "      <td>1454.308254</td>\n",
       "      <td>397.273059</td>\n",
       "      <td>1442.856977</td>\n",
       "      <td>1.0</td>\n",
       "      <td>0.65</td>\n",
       "      <td>0.098508</td>\n",
       "      <td>0.473777</td>\n",
       "      <td>0.015451</td>\n",
       "      <td>0.146469</td>\n",
       "      <td>0.086457</td>\n",
       "      <td>...</td>\n",
       "      <td>NaN</td>\n",
       "      <td>NaN</td>\n",
       "      <td>NaN</td>\n",
       "      <td>NaN</td>\n",
       "      <td>NaN</td>\n",
       "      <td>NaN</td>\n",
       "      <td>0.0</td>\n",
       "      <td>0.0</td>\n",
       "      <td>0.0</td>\n",
       "      <td>0.0</td>\n",
       "    </tr>\n",
       "    <tr>\n",
       "      <th>3</th>\n",
       "      <td>1511.396189</td>\n",
       "      <td>412.867757</td>\n",
       "      <td>1437.860465</td>\n",
       "      <td>1.0</td>\n",
       "      <td>0.65</td>\n",
       "      <td>0.098064</td>\n",
       "      <td>0.474064</td>\n",
       "      <td>0.016221</td>\n",
       "      <td>0.144961</td>\n",
       "      <td>0.084258</td>\n",
       "      <td>...</td>\n",
       "      <td>NaN</td>\n",
       "      <td>NaN</td>\n",
       "      <td>NaN</td>\n",
       "      <td>NaN</td>\n",
       "      <td>NaN</td>\n",
       "      <td>NaN</td>\n",
       "      <td>0.0</td>\n",
       "      <td>0.0</td>\n",
       "      <td>0.0</td>\n",
       "      <td>0.0</td>\n",
       "    </tr>\n",
       "    <tr>\n",
       "      <th>4</th>\n",
       "      <td>1575.717392</td>\n",
       "      <td>430.438366</td>\n",
       "      <td>1432.863953</td>\n",
       "      <td>1.0</td>\n",
       "      <td>0.65</td>\n",
       "      <td>0.097842</td>\n",
       "      <td>0.474277</td>\n",
       "      <td>0.017022</td>\n",
       "      <td>0.143392</td>\n",
       "      <td>0.081973</td>\n",
       "      <td>...</td>\n",
       "      <td>NaN</td>\n",
       "      <td>NaN</td>\n",
       "      <td>NaN</td>\n",
       "      <td>NaN</td>\n",
       "      <td>NaN</td>\n",
       "      <td>NaN</td>\n",
       "      <td>0.0</td>\n",
       "      <td>0.0</td>\n",
       "      <td>0.0</td>\n",
       "      <td>0.0</td>\n",
       "    </tr>\n",
       "  </tbody>\n",
       "</table>\n",
       "<p>5 rows × 205 columns</p>\n",
       "</div>"
      ],
      "text/plain": [
       "   SCSS_ideal_ppm_Smythe2017  SCSS_ideal_ppm_Smythe2017_1sigma    T_Input_K  \\\n",
       "0                1418.668555                        387.537370  1452.850000   \n",
       "1                1403.504696                        383.395062  1447.853488   \n",
       "2                1454.308254                        397.273059  1442.856977   \n",
       "3                1511.396189                        412.867757  1437.860465   \n",
       "4                1575.717392                        430.438366  1432.863953   \n",
       "\n",
       "   P_Input_kbar  Fe_FeNiCu_Sulf  Fe3Fet_Liq_input  Si_wt_atom  Ti_wt_atom  \\\n",
       "0           1.0            0.65          0.099881    0.473365    0.014401   \n",
       "1           1.0            0.65          0.099173    0.473420    0.014703   \n",
       "2           1.0            0.65          0.098508    0.473777    0.015451   \n",
       "3           1.0            0.65          0.098064    0.474064    0.016221   \n",
       "4           1.0            0.65          0.097842    0.474277    0.017022   \n",
       "\n",
       "   Al_wt_atom  Mg_wt_atom  ...  Na2O_whitlockite1  K2O_whitlockite1  \\\n",
       "0    0.145286    0.092073  ...                NaN               NaN   \n",
       "1    0.147939    0.088606  ...                NaN               NaN   \n",
       "2    0.146469    0.086457  ...                NaN               NaN   \n",
       "3    0.144961    0.084258  ...                NaN               NaN   \n",
       "4    0.143392    0.081973  ...                NaN               NaN   \n",
       "\n",
       "   P2O5_whitlockite1  H2O_whitlockite1  CO2_whitlockite1  Fe3Fet_whitlockite1  \\\n",
       "0                NaN               NaN               NaN                  NaN   \n",
       "1                NaN               NaN               NaN                  NaN   \n",
       "2                NaN               NaN               NaN                  NaN   \n",
       "3                NaN               NaN               NaN                  NaN   \n",
       "4                NaN               NaN               NaN                  NaN   \n",
       "\n",
       "   h_whitlockite1_prop  mass_whitlockite1_prop  v_whitlockite1_prop  \\\n",
       "0                  0.0                     0.0                  0.0   \n",
       "1                  0.0                     0.0                  0.0   \n",
       "2                  0.0                     0.0                  0.0   \n",
       "3                  0.0                     0.0                  0.0   \n",
       "4                  0.0                     0.0                  0.0   \n",
       "\n",
       "   rho_whitlockite1_prop  \n",
       "0                    0.0  \n",
       "1                    0.0  \n",
       "2                    0.0  \n",
       "3                    0.0  \n",
       "4                    0.0  \n",
       "\n",
       "[5 rows x 205 columns]"
      ]
     },
     "execution_count": 37,
     "metadata": {},
     "output_type": "execute_result"
    }
   ],
   "source": [
    "Smythe_CalcSulf=ss.calculate_Smythe2017_SCSS(df=test2, \n",
    "                                             T_K=test2['T_C']+273.15, \n",
    "P_kbar=test2['P_bar']/1000, Fe_FeNiCu_Sulf=0.65,\n",
    "Fe3Fet_Liq=test2['Fe3Fet_Liq'])\n",
    "\n",
    "Smythe_CalcSulf.head()"
   ]
  },
  {
   "cell_type": "code",
   "execution_count": 38,
   "id": "0e921099-8edf-4866-a20f-f3d12a6ce811",
   "metadata": {},
   "outputs": [
    {
     "data": {
      "text/plain": [
       "[<matplotlib.lines.Line2D at 0x17d687fa7c0>]"
      ]
     },
     "execution_count": 38,
     "metadata": {},
     "output_type": "execute_result"
    },
    {
     "data": {
      "image/png": "[encoded data removed]",
      "text/plain": [
       "<Figure size 432x288 with 1 Axes>"
      ]
     },
     "metadata": {
      "needs_background": "light"
     },
     "output_type": "display_data"
    }
   ],
   "source": [
    "plt.plot(test2['MgO_Liq'], Smythe_CalcSulf['SCSS_ideal_ppm_Smythe2017'],\n",
    "         '-r')"
   ]
  },
  {
   "cell_type": "code",
   "execution_count": 40,
   "id": "c7fd54af-4d57-4967-adf9-31ab632f1482",
   "metadata": {},
   "outputs": [
    {
     "data": {
      "text/plain": [
       "[<matplotlib.lines.Line2D at 0x17d66b7fdf0>]"
      ]
     },
     "execution_count": 40,
     "metadata": {},
     "output_type": "execute_result"
    },
    {
     "data": {
      "image/png": "[encoded data removed]",
      "text/plain": [
       "<Figure size 432x288 with 1 Axes>"
      ]
     },
     "metadata": {
      "needs_background": "light"
     },
     "output_type": "display_data"
    }
   ],
   "source": [
    "plt.plot( test2['MgO_Liq'],test2['FeO_Liq'],\n",
    "         '-r')"
   ]
  },
  {
   "cell_type": "code",
   "execution_count": null,
   "id": "e97a8722-b86c-40f5-930f-e4cb6124e3af",
   "metadata": {},
   "outputs": [],
   "source": []
  }
 ],
 "metadata": {
  "kernelspec": {
   "display_name": "Python 3 (ipykernel)",
   "language": "python",
   "name": "python3"
  },
  "language_info": {
   "codemirror_mode": {
    "name": "ipython",
    "version": 3
   },
   "file_extension": ".py",
   "mimetype": "text/x-python",
   "name": "python",
   "nbconvert_exporter": "python",
   "pygments_lexer": "ipython3",
   "version": "3.9.12"
  }
 },
 "nbformat": 4,
 "nbformat_minor": 5
}
