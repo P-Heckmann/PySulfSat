{
 "cells": [
  {
   "cell_type": "code",
   "execution_count": 1,
   "id": "3ca0d9ba-37c3-4c88-89dc-2e07db30db9b",
   "metadata": {},
   "outputs": [
    {
     "data": {
      "text/plain": [
       "'0.0.10'"
      ]
     },
     "execution_count": 1,
     "metadata": {},
     "output_type": "execute_result"
    }
   ],
   "source": [
    "import numpy as np\n",
    "import pandas as pd\n",
    "import PySulfSat as ss\n",
    "ss.__version__"
   ]
  },
  {
   "cell_type": "code",
   "execution_count": 2,
   "id": "3078399f-dd18-4349-b586-56aac3d0327e",
   "metadata": {},
   "outputs": [],
   "source": [
    "Liq_test=pd.DataFrame(data={'SiO2_Liq': 52.72,\n",
    "                            'TiO2_Liq': 2.08,\n",
    "                            'Al2O3_Liq': 13.26,\n",
    "                            'FeOt_Liq': 9.21,\n",
    "                            'MgO_Liq': 9.32,\n",
    "                            'CaO_Liq': 10.26,\n",
    "                            'Na2O_Liq': 2.24,\n",
    "                            'K2O_Liq': 0.43,\n",
    "                            'P2O5_Liq': 0.22,\n",
    "                            'Fe3Fet_Liq': 0.095,\n",
    "                            'T_K': 1498,\n",
    "                            'P_kbar':0.01,\n",
    "                           'H2O_Liq': 0}, index=[0])\n",
    "decimalPlace=4   \n",
    "\n",
    "Liq_test2=pd.DataFrame(data={'SiO2_Liq': 65,\n",
    "                            'TiO2_Liq': 2.08,\n",
    "                            'Al2O3_Liq': 13.26,\n",
    "                            'FeOt_Liq': 9.21,\n",
    "                            'MgO_Liq': 9.32,\n",
    "                            'CaO_Liq': 10.26,\n",
    "                            'Na2O_Liq': 2.24,\n",
    "                            'K2O_Liq': 0.43,\n",
    "                            'P2O5_Liq': 0.22,\n",
    "                            'Fe3Fet_Liq': 0.095,\n",
    "                            'T_K': 1498,\n",
    "                            'P_kbar':0.01,\n",
    "                           'H2O_Liq': 0}, index=[0])"
   ]
  },
  {
   "cell_type": "markdown",
   "id": "9b151468-022f-45dd-b30a-a21474a47a16",
   "metadata": {},
   "source": [
    "## Total S solubility"
   ]
  },
  {
   "cell_type": "code",
   "execution_count": 3,
   "id": "19bfeada-4a70-485a-8578-3431c5327782",
   "metadata": {},
   "outputs": [
    {
     "name": "stdout",
     "output_type": "stream",
     "text": [
      "1031.6227766016839\n"
     ]
    },
    {
     "ename": "ValueError",
     "evalue": "If using all scalar values, you must pass an index",
     "output_type": "error",
     "traceback": [
      "\u001b[1;31m---------------------------------------------------------------------------\u001b[0m",
      "\u001b[1;31mValueError\u001b[0m                                Traceback (most recent call last)",
      "\u001b[1;32m~\\AppData\\Local\\Temp\\ipykernel_25764\\88115116.py\u001b[0m in \u001b[0;36m<module>\u001b[1;34m\u001b[0m\n\u001b[1;32m----> 1\u001b[1;33m ss.calculate_S_Total_SCSS_SCAS(deltaQFM=0.3,\n\u001b[0m\u001b[0;32m      2\u001b[0m             SCSS=1000, SCAS=5000, model='Jugo')\n",
      "\u001b[1;32mg:\\my drive\\berkeley_new\\pysulfsat\\pysulfsat_structure\\src\\PySulfSat\\s6_corrections.py\u001b[0m in \u001b[0;36mcalculate_S_Total_SCSS_SCAS\u001b[1;34m(SCSS, SCAS, deltaQFM, model, S6St_Liq, T_K, Fe3Fet_Liq)\u001b[0m\n\u001b[0;32m    229\u001b[0m     \u001b[0mprint\u001b[0m\u001b[1;33m(\u001b[0m\u001b[0mSCSS_Tot\u001b[0m\u001b[1;33m)\u001b[0m\u001b[1;33m\u001b[0m\u001b[1;33m\u001b[0m\u001b[0m\n\u001b[0;32m    230\u001b[0m \u001b[1;33m\u001b[0m\u001b[0m\n\u001b[1;32m--> 231\u001b[1;33m     df_Species=pd.DataFrame(data={'deltaQFM': deltaQFM,\n\u001b[0m\u001b[0;32m    232\u001b[0m                                   \u001b[1;34m'S6St_Liq'\u001b[0m\u001b[1;33m:\u001b[0m \u001b[0mS6St_Liq\u001b[0m\u001b[1;33m,\u001b[0m\u001b[1;33m\u001b[0m\u001b[1;33m\u001b[0m\u001b[0m\n\u001b[0;32m    233\u001b[0m                                   \u001b[1;34m'SCSS_2'\u001b[0m\u001b[1;33m:\u001b[0m \u001b[0mSCSS\u001b[0m\u001b[1;33m,\u001b[0m\u001b[1;33m\u001b[0m\u001b[1;33m\u001b[0m\u001b[0m\n",
      "\u001b[1;32m~\\anaconda3\\lib\\site-packages\\pandas\\core\\frame.py\u001b[0m in \u001b[0;36m__init__\u001b[1;34m(self, data, index, columns, dtype, copy)\u001b[0m\n\u001b[0;32m    661\u001b[0m         \u001b[1;32melif\u001b[0m \u001b[0misinstance\u001b[0m\u001b[1;33m(\u001b[0m\u001b[0mdata\u001b[0m\u001b[1;33m,\u001b[0m \u001b[0mdict\u001b[0m\u001b[1;33m)\u001b[0m\u001b[1;33m:\u001b[0m\u001b[1;33m\u001b[0m\u001b[1;33m\u001b[0m\u001b[0m\n\u001b[0;32m    662\u001b[0m             \u001b[1;31m# GH#38939 de facto copy defaults to False only in non-dict cases\u001b[0m\u001b[1;33m\u001b[0m\u001b[1;33m\u001b[0m\u001b[0m\n\u001b[1;32m--> 663\u001b[1;33m             \u001b[0mmgr\u001b[0m \u001b[1;33m=\u001b[0m \u001b[0mdict_to_mgr\u001b[0m\u001b[1;33m(\u001b[0m\u001b[0mdata\u001b[0m\u001b[1;33m,\u001b[0m \u001b[0mindex\u001b[0m\u001b[1;33m,\u001b[0m \u001b[0mcolumns\u001b[0m\u001b[1;33m,\u001b[0m \u001b[0mdtype\u001b[0m\u001b[1;33m=\u001b[0m\u001b[0mdtype\u001b[0m\u001b[1;33m,\u001b[0m \u001b[0mcopy\u001b[0m\u001b[1;33m=\u001b[0m\u001b[0mcopy\u001b[0m\u001b[1;33m,\u001b[0m \u001b[0mtyp\u001b[0m\u001b[1;33m=\u001b[0m\u001b[0mmanager\u001b[0m\u001b[1;33m)\u001b[0m\u001b[1;33m\u001b[0m\u001b[1;33m\u001b[0m\u001b[0m\n\u001b[0m\u001b[0;32m    664\u001b[0m         \u001b[1;32melif\u001b[0m \u001b[0misinstance\u001b[0m\u001b[1;33m(\u001b[0m\u001b[0mdata\u001b[0m\u001b[1;33m,\u001b[0m \u001b[0mma\u001b[0m\u001b[1;33m.\u001b[0m\u001b[0mMaskedArray\u001b[0m\u001b[1;33m)\u001b[0m\u001b[1;33m:\u001b[0m\u001b[1;33m\u001b[0m\u001b[1;33m\u001b[0m\u001b[0m\n\u001b[0;32m    665\u001b[0m             \u001b[1;32mimport\u001b[0m \u001b[0mnumpy\u001b[0m\u001b[1;33m.\u001b[0m\u001b[0mma\u001b[0m\u001b[1;33m.\u001b[0m\u001b[0mmrecords\u001b[0m \u001b[1;32mas\u001b[0m \u001b[0mmrecords\u001b[0m\u001b[1;33m\u001b[0m\u001b[1;33m\u001b[0m\u001b[0m\n",
      "\u001b[1;32m~\\anaconda3\\lib\\site-packages\\pandas\\core\\internals\\construction.py\u001b[0m in \u001b[0;36mdict_to_mgr\u001b[1;34m(data, index, columns, dtype, typ, copy)\u001b[0m\n\u001b[0;32m    491\u001b[0m             \u001b[0marrays\u001b[0m \u001b[1;33m=\u001b[0m \u001b[1;33m[\u001b[0m\u001b[0mx\u001b[0m\u001b[1;33m.\u001b[0m\u001b[0mcopy\u001b[0m\u001b[1;33m(\u001b[0m\u001b[1;33m)\u001b[0m \u001b[1;32mif\u001b[0m \u001b[0mhasattr\u001b[0m\u001b[1;33m(\u001b[0m\u001b[0mx\u001b[0m\u001b[1;33m,\u001b[0m \u001b[1;34m\"dtype\"\u001b[0m\u001b[1;33m)\u001b[0m \u001b[1;32melse\u001b[0m \u001b[0mx\u001b[0m \u001b[1;32mfor\u001b[0m \u001b[0mx\u001b[0m \u001b[1;32min\u001b[0m \u001b[0marrays\u001b[0m\u001b[1;33m]\u001b[0m\u001b[1;33m\u001b[0m\u001b[1;33m\u001b[0m\u001b[0m\n\u001b[0;32m    492\u001b[0m \u001b[1;33m\u001b[0m\u001b[0m\n\u001b[1;32m--> 493\u001b[1;33m     \u001b[1;32mreturn\u001b[0m \u001b[0marrays_to_mgr\u001b[0m\u001b[1;33m(\u001b[0m\u001b[0marrays\u001b[0m\u001b[1;33m,\u001b[0m \u001b[0mcolumns\u001b[0m\u001b[1;33m,\u001b[0m \u001b[0mindex\u001b[0m\u001b[1;33m,\u001b[0m \u001b[0mdtype\u001b[0m\u001b[1;33m=\u001b[0m\u001b[0mdtype\u001b[0m\u001b[1;33m,\u001b[0m \u001b[0mtyp\u001b[0m\u001b[1;33m=\u001b[0m\u001b[0mtyp\u001b[0m\u001b[1;33m,\u001b[0m \u001b[0mconsolidate\u001b[0m\u001b[1;33m=\u001b[0m\u001b[0mcopy\u001b[0m\u001b[1;33m)\u001b[0m\u001b[1;33m\u001b[0m\u001b[1;33m\u001b[0m\u001b[0m\n\u001b[0m\u001b[0;32m    494\u001b[0m \u001b[1;33m\u001b[0m\u001b[0m\n\u001b[0;32m    495\u001b[0m \u001b[1;33m\u001b[0m\u001b[0m\n",
      "\u001b[1;32m~\\anaconda3\\lib\\site-packages\\pandas\\core\\internals\\construction.py\u001b[0m in \u001b[0;36marrays_to_mgr\u001b[1;34m(arrays, columns, index, dtype, verify_integrity, typ, consolidate)\u001b[0m\n\u001b[0;32m    116\u001b[0m         \u001b[1;31m# figure out the index, if necessary\u001b[0m\u001b[1;33m\u001b[0m\u001b[1;33m\u001b[0m\u001b[0m\n\u001b[0;32m    117\u001b[0m         \u001b[1;32mif\u001b[0m \u001b[0mindex\u001b[0m \u001b[1;32mis\u001b[0m \u001b[1;32mNone\u001b[0m\u001b[1;33m:\u001b[0m\u001b[1;33m\u001b[0m\u001b[1;33m\u001b[0m\u001b[0m\n\u001b[1;32m--> 118\u001b[1;33m             \u001b[0mindex\u001b[0m \u001b[1;33m=\u001b[0m \u001b[0m_extract_index\u001b[0m\u001b[1;33m(\u001b[0m\u001b[0marrays\u001b[0m\u001b[1;33m)\u001b[0m\u001b[1;33m\u001b[0m\u001b[1;33m\u001b[0m\u001b[0m\n\u001b[0m\u001b[0;32m    119\u001b[0m         \u001b[1;32melse\u001b[0m\u001b[1;33m:\u001b[0m\u001b[1;33m\u001b[0m\u001b[1;33m\u001b[0m\u001b[0m\n\u001b[0;32m    120\u001b[0m             \u001b[0mindex\u001b[0m \u001b[1;33m=\u001b[0m \u001b[0mensure_index\u001b[0m\u001b[1;33m(\u001b[0m\u001b[0mindex\u001b[0m\u001b[1;33m)\u001b[0m\u001b[1;33m\u001b[0m\u001b[1;33m\u001b[0m\u001b[0m\n",
      "\u001b[1;32m~\\anaconda3\\lib\\site-packages\\pandas\\core\\internals\\construction.py\u001b[0m in \u001b[0;36m_extract_index\u001b[1;34m(data)\u001b[0m\n\u001b[0;32m    654\u001b[0m \u001b[1;33m\u001b[0m\u001b[0m\n\u001b[0;32m    655\u001b[0m         \u001b[1;32mif\u001b[0m \u001b[1;32mnot\u001b[0m \u001b[0mindexes\u001b[0m \u001b[1;32mand\u001b[0m \u001b[1;32mnot\u001b[0m \u001b[0mraw_lengths\u001b[0m\u001b[1;33m:\u001b[0m\u001b[1;33m\u001b[0m\u001b[1;33m\u001b[0m\u001b[0m\n\u001b[1;32m--> 656\u001b[1;33m             \u001b[1;32mraise\u001b[0m \u001b[0mValueError\u001b[0m\u001b[1;33m(\u001b[0m\u001b[1;34m\"If using all scalar values, you must pass an index\"\u001b[0m\u001b[1;33m)\u001b[0m\u001b[1;33m\u001b[0m\u001b[1;33m\u001b[0m\u001b[0m\n\u001b[0m\u001b[0;32m    657\u001b[0m \u001b[1;33m\u001b[0m\u001b[0m\n\u001b[0;32m    658\u001b[0m         \u001b[1;32melif\u001b[0m \u001b[0mhave_series\u001b[0m\u001b[1;33m:\u001b[0m\u001b[1;33m\u001b[0m\u001b[1;33m\u001b[0m\u001b[0m\n",
      "\u001b[1;31mValueError\u001b[0m: If using all scalar values, you must pass an index"
     ]
    }
   ],
   "source": [
    "ss.calculate_S_Total_SCSS_SCAS(deltaQFM=0.3,\n",
    "            SCSS=1000, SCAS=5000, model='Jugo')"
   ]
  },
  {
   "cell_type": "markdown",
   "id": "524a983c-a474-4517-87c2-1f139d01a1a6",
   "metadata": {},
   "source": [
    "## Testing S6 corrections"
   ]
  },
  {
   "cell_type": "code",
   "execution_count": 12,
   "id": "cbec712d-64e0-4d48-bf1d-9e5c97be529d",
   "metadata": {},
   "outputs": [
    {
     "data": {
      "text/plain": [
       "0.030653430031715508"
      ]
     },
     "execution_count": 12,
     "metadata": {},
     "output_type": "execute_result"
    }
   ],
   "source": [
    "ss.calculate_S6St_Jugo2010_eq10(deltaQFM=0.3)"
   ]
  },
  {
   "cell_type": "code",
   "execution_count": 14,
   "id": "0c7fdec1-6a6e-4b82-a829-cd2b86bcd2aa",
   "metadata": {},
   "outputs": [
    {
     "data": {
      "text/plain": [
       "0    0.006945\n",
       "dtype: float64"
      ]
     },
     "execution_count": 14,
     "metadata": {},
     "output_type": "execute_result"
    }
   ],
   "source": [
    "ss.calculate_S6St_Nash2019(T_K=Liq_test['T_K'], Fe3Fet_Liq=Liq_test['Fe3Fet_Liq'])"
   ]
  },
  {
   "cell_type": "code",
   "execution_count": 17,
   "id": "5a183de6-411c-40fc-a125-6e7b3e1798be",
   "metadata": {},
   "outputs": [
    {
     "data": {
      "text/html": [
       "<div>\n",
       "<style scoped>\n",
       "    .dataframe tbody tr th:only-of-type {\n",
       "        vertical-align: middle;\n",
       "    }\n",
       "\n",
       "    .dataframe tbody tr th {\n",
       "        vertical-align: top;\n",
       "    }\n",
       "\n",
       "    .dataframe thead th {\n",
       "        text-align: right;\n",
       "    }\n",
       "</style>\n",
       "<table border=\"1\" class=\"dataframe\">\n",
       "  <thead>\n",
       "    <tr style=\"text-align: right;\">\n",
       "      <th></th>\n",
       "      <th>S6St_Liq</th>\n",
       "      <th>LnCS2_calc</th>\n",
       "      <th>LnCS6_calc</th>\n",
       "      <th>LnKSO2S2</th>\n",
       "      <th>LnS6S2</th>\n",
       "      <th>deltaQFM_calc</th>\n",
       "      <th>SiO2_Liq</th>\n",
       "      <th>TiO2_Liq</th>\n",
       "      <th>Al2O3_Liq</th>\n",
       "      <th>FeOt_Liq</th>\n",
       "      <th>...</th>\n",
       "      <th>Ca_Liq_cat_frac</th>\n",
       "      <th>Al_Liq_cat_frac</th>\n",
       "      <th>Na_Liq_cat_frac</th>\n",
       "      <th>K_Liq_cat_frac</th>\n",
       "      <th>Ti_Liq_cat_frac</th>\n",
       "      <th>P_Liq_cat_frac</th>\n",
       "      <th>Mg_Number_Liq_NoFe3</th>\n",
       "      <th>Mg_Number_Liq_Fe3</th>\n",
       "      <th>logfo2_calc</th>\n",
       "      <th>Fe2_Liq_cat_frac</th>\n",
       "    </tr>\n",
       "  </thead>\n",
       "  <tbody>\n",
       "    <tr>\n",
       "      <th>0</th>\n",
       "      <td>0.008973</td>\n",
       "      <td>-2.566264</td>\n",
       "      <td>12.575097</td>\n",
       "      <td>-16.991249</td>\n",
       "      <td>-4.704549</td>\n",
       "      <td>0.144884</td>\n",
       "      <td>52.72</td>\n",
       "      <td>2.08</td>\n",
       "      <td>13.26</td>\n",
       "      <td>9.21</td>\n",
       "      <td>...</td>\n",
       "      <td>0.102186</td>\n",
       "      <td>0.145268</td>\n",
       "      <td>0.040371</td>\n",
       "      <td>0.005099</td>\n",
       "      <td>0.014543</td>\n",
       "      <td>0.001731</td>\n",
       "      <td>0.643344</td>\n",
       "      <td>0.665907</td>\n",
       "      <td>-7.999087</td>\n",
       "      <td>0.064794</td>\n",
       "    </tr>\n",
       "  </tbody>\n",
       "</table>\n",
       "<p>1 rows × 43 columns</p>\n",
       "</div>"
      ],
      "text/plain": [
       "   S6St_Liq  LnCS2_calc  LnCS6_calc   LnKSO2S2    LnS6S2  deltaQFM_calc  \\\n",
       "0  0.008973   -2.566264   12.575097 -16.991249 -4.704549       0.144884   \n",
       "\n",
       "   SiO2_Liq  TiO2_Liq  Al2O3_Liq  FeOt_Liq  ...  Ca_Liq_cat_frac  \\\n",
       "0     52.72      2.08      13.26      9.21  ...         0.102186   \n",
       "\n",
       "   Al_Liq_cat_frac  Na_Liq_cat_frac  K_Liq_cat_frac  Ti_Liq_cat_frac  \\\n",
       "0         0.145268         0.040371        0.005099         0.014543   \n",
       "\n",
       "   P_Liq_cat_frac  Mg_Number_Liq_NoFe3  Mg_Number_Liq_Fe3  logfo2_calc  \\\n",
       "0        0.001731             0.643344           0.665907    -7.999087   \n",
       "\n",
       "   Fe2_Liq_cat_frac  \n",
       "0          0.064794  \n",
       "\n",
       "[1 rows x 43 columns]"
      ]
     },
     "execution_count": 17,
     "metadata": {},
     "output_type": "execute_result"
    }
   ],
   "source": [
    "ss.calculate_OM2022_S6St(df=Liq_test, T_K=Liq_test['T_K'], logfo2=None,\n",
    "                    Fe3Fet_Liq=Liq_test['Fe3Fet_Liq'])"
   ]
  },
  {
   "cell_type": "markdown",
   "id": "a5059f46-4189-4a37-b120-d31a57e7129a",
   "metadata": {},
   "source": [
    "## Using calculated sulfide"
   ]
  },
  {
   "cell_type": "code",
   "execution_count": 3,
   "id": "ba3f5d27-8538-415d-9e45-a18bb77486e2",
   "metadata": {},
   "outputs": [
    {
     "data": {
      "text/plain": [
       "968.5364514652154"
      ]
     },
     "execution_count": 3,
     "metadata": {},
     "output_type": "execute_result"
    }
   ],
   "source": [
    "ss.calculate_S2017_SCSS(df=Liq_test,\n",
    "T_K=Liq_test['T_K'], P_kbar=Liq_test['P_kbar'],\n",
    "Fe3Fet_Liq=Liq_test['Fe3Fet_Liq'],\n",
    "Ni_Liq=100, Cu_Liq=150,\n",
    "Fe_FeNiCu_Sulf='Calc_Smythe')['SCSS_ideal_ppm_Smythe2017'][0]"
   ]
  },
  {
   "cell_type": "code",
   "execution_count": 4,
   "id": "250ac14e-63ac-4569-97d5-c896b880533b",
   "metadata": {},
   "outputs": [
    {
     "name": "stdout",
     "output_type": "stream",
     "text": [
      "no non ideal SCSS as no Cu/CuFeNiCu\n"
     ]
    },
    {
     "data": {
      "text/plain": [
       "930.3940622962762"
      ]
     },
     "execution_count": 4,
     "metadata": {},
     "output_type": "execute_result"
    }
   ],
   "source": [
    "ss.calculate_S2017_SCSS(df=Liq_test,\n",
    "T_K=Liq_test['T_K'], P_kbar=Liq_test['P_kbar'],\n",
    "Fe3Fet_Liq=Liq_test['Fe3Fet_Liq'],\n",
    "Ni_Liq=100, Cu_Liq=150,\n",
    "Fe_FeNiCu_Sulf='Calc_ONeill')['SCSS_ideal_ppm_Smythe2017'][0]"
   ]
  },
  {
   "cell_type": "code",
   "execution_count": 5,
   "id": "2218b86a-b060-4da6-a133-e2b3f4565132",
   "metadata": {},
   "outputs": [
    {
     "data": {
      "text/plain": [
       "955.4837286314"
      ]
     },
     "execution_count": 5,
     "metadata": {},
     "output_type": "execute_result"
    }
   ],
   "source": [
    "ss.calculate_O2021_SCSS(df=Liq_test,\n",
    "T_K=Liq_test['T_K'], P_kbar=Liq_test['P_kbar'],\n",
    "Fe3Fet_Liq=Liq_test['Fe3Fet_Liq'],\n",
    "Ni_Liq=100, Cu_Liq=150,\n",
    "Fe_FeNiCu_Sulf='Calc_ONeill')['SCSS2_ppm'][0]"
   ]
  },
  {
   "cell_type": "code",
   "execution_count": 6,
   "id": "05467121-803a-491f-a475-f8fda23f086e",
   "metadata": {},
   "outputs": [
    {
     "data": {
      "text/plain": [
       "994.6546925260972"
      ]
     },
     "execution_count": 6,
     "metadata": {},
     "output_type": "execute_result"
    }
   ],
   "source": [
    "ss.calculate_O2021_SCSS(df=Liq_test,\n",
    "T_K=Liq_test['T_K'], P_kbar=Liq_test['P_kbar'],\n",
    "Fe3Fet_Liq=Liq_test['Fe3Fet_Liq'],\n",
    "Ni_Liq=100, Cu_Liq=150,\n",
    "Fe_FeNiCu_Sulf='Calc_Smythe')['SCSS2_ppm'][0]"
   ]
  },
  {
   "cell_type": "code",
   "execution_count": 7,
   "id": "e7d82cc8-f432-4860-b7fd-b2fcf22a82c0",
   "metadata": {},
   "outputs": [
    {
     "data": {
      "text/plain": [
       "1074.7469538219757"
      ]
     },
     "execution_count": 7,
     "metadata": {},
     "output_type": "execute_result"
    }
   ],
   "source": [
    "ss.calculate_B2021_SCSS(df=Liq_test,\n",
    "T_K=Liq_test['T_K'], P_kbar=Liq_test['P_kbar'],\n",
    "Fe3Fet_Liq=Liq_test['Fe3Fet_Liq'],\n",
    "Ni_Liq=100, Cu_Liq=150,\n",
    "Fe_FeNiCu_Sulf='Calc_Smythe')['SCSS2_ppm_eq11'][0]"
   ]
  },
  {
   "cell_type": "code",
   "execution_count": 8,
   "id": "bf6f28de-f088-4485-9851-ed82a04e9391",
   "metadata": {},
   "outputs": [
    {
     "data": {
      "text/plain": [
       "1034.4417069163972"
      ]
     },
     "execution_count": 8,
     "metadata": {},
     "output_type": "execute_result"
    }
   ],
   "source": [
    "ss.calculate_Liu2021_SCSS(df=Liq_test,\n",
    "T_K=Liq_test['T_K'], P_kbar=Liq_test['P_kbar'],\n",
    "Fe3Fet_Liq=Liq_test['Fe3Fet_Liq'],\n",
    "Ni_Liq=100, Cu_Liq=150,\n",
    "Fe_FeNiCu_Sulf='Calc_Smythe')['SCSS2_ppm'][0]"
   ]
  },
  {
   "cell_type": "markdown",
   "id": "d1edf136-ba1e-4a8d-9076-90085a8279e6",
   "metadata": {},
   "source": [
    "## Testing SCSS fixed sulfide"
   ]
  },
  {
   "cell_type": "code",
   "execution_count": 3,
   "id": "6a570515-81ee-4f2c-93d2-1ad0d9fb7577",
   "metadata": {},
   "outputs": [
    {
     "name": "stdout",
     "output_type": "stream",
     "text": [
      "Using inputted Fe_FeNiCu_Sulf ratio for calculations.\n",
      "no non ideal SCSS as no Cu/CuFeNiCu\n"
     ]
    },
    {
     "data": {
      "text/plain": [
       "971.1628818423652"
      ]
     },
     "execution_count": 3,
     "metadata": {},
     "output_type": "execute_result"
    }
   ],
   "source": [
    "Smythe_FixedSulf=ss.calculate_S2017_SCSS(df=Liq_test,\n",
    "T_K=Liq_test['T_K'], P_kbar=Liq_test['P_kbar'], \n",
    "Fe3Fet_Liq=Liq_test['Fe3Fet_Liq'],\n",
    "Fe_FeNiCu_Sulf=0.65)['SCSS_ideal_ppm_Smythe2017'][0]\n",
    "Smythe_FixedSulf"
   ]
  },
  {
   "cell_type": "code",
   "execution_count": 4,
   "id": "a8e55f59-5098-42f2-bc8a-c9acfb5712d6",
   "metadata": {},
   "outputs": [
    {
     "name": "stdout",
     "output_type": "stream",
     "text": [
      "Using inputted Fe_FeNiCu_Sulf ratio for calculations.\n"
     ]
    },
    {
     "data": {
      "text/plain": [
       "997.3519490880699"
      ]
     },
     "execution_count": 4,
     "metadata": {},
     "output_type": "execute_result"
    }
   ],
   "source": [
    "ONeill_FixedSulf=ss.calculate_O2021_SCSS(df=Liq_test,\n",
    "T_K=Liq_test['T_K'], P_kbar=Liq_test['P_kbar'], \n",
    "Fe3Fet_Liq=Liq_test['Fe3Fet_Liq'],\n",
    "Fe_FeNiCu_Sulf=0.65)['SCSS2_ppm'][0]\n",
    "ONeill_FixedSulf"
   ]
  },
  {
   "cell_type": "code",
   "execution_count": 5,
   "id": "552592a3-d489-49f7-b9b0-cda2b0b6ec80",
   "metadata": {},
   "outputs": [
    {
     "name": "stdout",
     "output_type": "stream",
     "text": [
      "Using inputted Fe_FeNiCu_Sulf ratio for calculations.\n"
     ]
    },
    {
     "data": {
      "text/plain": [
       "1077.661400710366"
      ]
     },
     "execution_count": 5,
     "metadata": {},
     "output_type": "execute_result"
    }
   ],
   "source": [
    "Bl_FixedSulf=ss.calculate_B2021_SCSS(df=Liq_test,\n",
    "T_K=Liq_test['T_K'], P_kbar=Liq_test['P_kbar'], \n",
    "Fe3Fet_Liq=Liq_test['Fe3Fet_Liq'],\n",
    "Fe_FeNiCu_Sulf=0.65)['SCSS2_ppm_eq11'][0]\n",
    "Bl_FixedSulf"
   ]
  },
  {
   "cell_type": "code",
   "execution_count": 6,
   "id": "39027e0c-a820-47d0-aa00-7f3dc08458df",
   "metadata": {},
   "outputs": [
    {
     "name": "stderr",
     "output_type": "stream",
     "text": [
      "g:\\my drive\\berkeley_new\\pysulfsat\\pysulfsat_structure\\src\\PySulfSat\\scss_calcs2.py:522: UserWarning: F2015 doesnt use your inputted Fe3Fet_Liq value\n",
      "  w.warn('F2015 doesnt use your inputted Fe3Fet_Liq value')\n",
      "g:\\my drive\\berkeley_new\\pysulfsat\\pysulfsat_structure\\src\\PySulfSat\\scss_calcs2.py:524: UserWarning: F2015 doesnt use your inputted sulfide comp\n",
      "  w.warn('F2015 doesnt use your inputted sulfide comp')\n"
     ]
    },
    {
     "data": {
      "text/plain": [
       "1367.444449878481"
      ]
     },
     "execution_count": 6,
     "metadata": {},
     "output_type": "execute_result"
    }
   ],
   "source": [
    "ss.calculate_F2015_SCSS(df=Liq_test,\n",
    "T_K=Liq_test['T_K'], P_kbar=Liq_test['P_kbar'], \n",
    "Fe3Fet_Liq=Liq_test['Fe3Fet_Liq'], Fe_FeNiCu_Sulf=0.65)['SCSS2_ppm'][0]"
   ]
  },
  {
   "cell_type": "code",
   "execution_count": 7,
   "id": "ed51f090-5315-4e06-9151-ab71895c326a",
   "metadata": {},
   "outputs": [
    {
     "name": "stdout",
     "output_type": "stream",
     "text": [
      "Using inputted Fe_FeNiCu_Sulf ratio for calculations.\n"
     ]
    },
    {
     "data": {
      "text/plain": [
       "1037.2468559826248"
      ]
     },
     "execution_count": 7,
     "metadata": {},
     "output_type": "execute_result"
    }
   ],
   "source": [
    "ss.calculate_Liu2021_SCSS(df=Liq_test,\n",
    "T_K=Liq_test['T_K'], P_kbar=Liq_test['P_kbar'], \n",
    "Fe3Fet_Liq=Liq_test['Fe3Fet_Liq'], Fe_FeNiCu_Sulf=0.65)['SCSS2_ppm'][0]"
   ]
  },
  {
   "cell_type": "code",
   "execution_count": 8,
   "id": "9211f735-4236-42cd-b710-2eaf7ff41bd8",
   "metadata": {},
   "outputs": [],
   "source": [
    "# Swapped SCSS_calc for SCSS2_ppm"
   ]
  },
  {
   "cell_type": "code",
   "execution_count": 9,
   "id": "ba82a56b-fb2f-48fa-8fa3-a7cffc0980be",
   "metadata": {},
   "outputs": [
    {
     "name": "stdout",
     "output_type": "stream",
     "text": [
      "Using inputted Fe_FeNiCu_Sulf ratio for calculations.\n"
     ]
    },
    {
     "data": {
      "text/plain": [
       "997.3519490880699"
      ]
     },
     "execution_count": 9,
     "metadata": {},
     "output_type": "execute_result"
    }
   ],
   "source": [
    "ss.calculate_OM2022_SCSS(df=Liq_test,\n",
    "T_K=Liq_test['T_K'], P_kbar=Liq_test['P_kbar'], \n",
    "Fe3Fet_Liq=Liq_test['Fe3Fet_Liq'], Fe_FeNiCu_Sulf=0.65)['SCSS2_ppm'][0]"
   ]
  },
  {
   "cell_type": "markdown",
   "id": "8e2a2f72-99e5-4e7d-8455-303b3007ebef",
   "metadata": {},
   "source": [
    "## Testing SCAS"
   ]
  },
  {
   "cell_type": "code",
   "execution_count": 10,
   "id": "4e4bb09a-0e2a-4f59-8743-659042414d53",
   "metadata": {},
   "outputs": [
    {
     "name": "stderr",
     "output_type": "stream",
     "text": [
      "g:\\my drive\\berkeley_new\\pysulfsat\\pysulfsat_structure\\src\\PySulfSat\\scas_calc.py:55: UserWarning: you entered a P_kbar, just be aware this function isnt actually pressure sensitive\n",
      "  w.warn('you entered a P_kbar, just be aware this function isnt actually pressure sensitive')\n",
      "g:\\my drive\\berkeley_new\\pysulfsat\\pysulfsat_structure\\src\\PySulfSat\\scas_calc.py:57: UserWarning: you entered a Fe3Fet_Liq, just be aware this function isnt actually redox sensitive\n",
      "  w.warn('you entered a Fe3Fet_Liq, just be aware this function isnt actually redox sensitive')\n"
     ]
    },
    {
     "data": {
      "text/plain": [
       "7043.40006526207"
      ]
     },
     "execution_count": 10,
     "metadata": {},
     "output_type": "execute_result"
    }
   ],
   "source": [
    "ss.calculate_CD2019_SCAS(df=Liq_test,\n",
    "T_K=Liq_test['T_K'], P_kbar=Liq_test['P_kbar'],\n",
    "Fe3Fet_Liq=Liq_test['Fe3Fet_Liq'])['SCAS6_ppm'][0]"
   ]
  },
  {
   "cell_type": "code",
   "execution_count": 11,
   "id": "4b3f954e-ff34-43b9-b151-0e57e0cc1db1",
   "metadata": {},
   "outputs": [
    {
     "name": "stderr",
     "output_type": "stream",
     "text": [
      "g:\\my drive\\berkeley_new\\pysulfsat\\pysulfsat_structure\\src\\PySulfSat\\scas_calc.py:126: UserWarning: you entered a P_kbar, just be aware this function isnt actually pressure sensitive\n",
      "  w.warn('you entered a P_kbar, just be aware this function isnt actually pressure sensitive')\n",
      "g:\\my drive\\berkeley_new\\pysulfsat\\pysulfsat_structure\\src\\PySulfSat\\scas_calc.py:128: UserWarning: you entered a Fe3Fet_Liq, just be aware this function isnt actually redox sensitive\n",
      "  w.warn('you entered a Fe3Fet_Liq, just be aware this function isnt actually redox sensitive')\n"
     ]
    },
    {
     "data": {
      "text/plain": [
       "7025.572329292286"
      ]
     },
     "execution_count": 11,
     "metadata": {},
     "output_type": "execute_result"
    }
   ],
   "source": [
    "ss.calculate_ZT2022_SCAS(df=Liq_test,\n",
    "T_K=Liq_test['T_K'], P_kbar=Liq_test['P_kbar'],\n",
    "Fe3Fet_Liq=Liq_test['Fe3Fet_Liq'])['SCAS6_ppm'][0]"
   ]
  },
  {
   "cell_type": "code",
   "execution_count": 18,
   "id": "75d983bc-fff4-4473-bf5a-8deab7519d29",
   "metadata": {},
   "outputs": [
    {
     "name": "stderr",
     "output_type": "stream",
     "text": [
      "g:\\my drive\\berkeley_new\\pysulfsat\\pysulfsat_structure\\src\\PySulfSat\\scas_calc.py:194: UserWarning: you entered a P_kbar, just be aware this function isnt actually pressure sensitive\n",
      "  w.warn('you entered a P_kbar, just be aware this function isnt actually pressure sensitive')\n",
      "g:\\my drive\\berkeley_new\\pysulfsat\\pysulfsat_structure\\src\\PySulfSat\\scas_calc.py:196: UserWarning: you entered a Fe3Fet_Liq, just be aware this function isnt actually redox sensitive\n",
      "  w.warn('you entered a Fe3Fet_Liq, just be aware this function isnt actually redox sensitive')\n"
     ]
    },
    {
     "data": {
      "text/plain": [
       "0.005101492327453715"
      ]
     },
     "execution_count": 18,
     "metadata": {},
     "output_type": "execute_result"
    }
   ],
   "source": [
    "ss.calculate_MK2015_SCAS(df=Liq_test,\n",
    "T_K=Liq_test['T_K'], P_kbar=Liq_test['P_kbar'],\n",
    "Fe3Fet_Liq=Liq_test['Fe3Fet_Liq'])['SCAS6_ppm'][0]"
   ]
  },
  {
   "cell_type": "code",
   "execution_count": 14,
   "id": "b0ad99b6-03c9-4826-ae1d-ed29ee60945d",
   "metadata": {},
   "outputs": [
    {
     "data": {
      "text/plain": [
       "0    0.01\n",
       "Name: P_kbar, dtype: float64"
      ]
     },
     "execution_count": 14,
     "metadata": {},
     "output_type": "execute_result"
    }
   ],
   "source": [
    "Liq_test['P_kbar']"
   ]
  },
  {
   "cell_type": "code",
   "execution_count": null,
   "id": "7bc2927d-bcc4-49c9-a061-1393864bfae3",
   "metadata": {},
   "outputs": [],
   "source": []
  }
 ],
 "metadata": {
  "kernelspec": {
   "display_name": "Python 3 (ipykernel)",
   "language": "python",
   "name": "python3"
  },
  "language_info": {
   "codemirror_mode": {
    "name": "ipython",
    "version": 3
   },
   "file_extension": ".py",
   "mimetype": "text/x-python",
   "name": "python",
   "nbconvert_exporter": "python",
   "pygments_lexer": "ipython3",
   "version": "3.9.16"
  }
 },
 "nbformat": 4,
 "nbformat_minor": 5
}
